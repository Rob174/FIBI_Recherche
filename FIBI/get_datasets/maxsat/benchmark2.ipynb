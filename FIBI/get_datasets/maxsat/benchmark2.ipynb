{
 "cells": [
  {
   "cell_type": "code",
   "execution_count": 2,
   "metadata": {},
   "outputs": [],
   "source": [
    "from cnfgen import *\n",
    "import cnfgen\n",
    "from itertools import product\n",
    "import plotly.express as px\n",
    "from itertools import combinations\n",
    "from math import factorial\n",
    "from rich.progress import track\n",
    "import pandas as pd\n",
    "from typing import *\n",
    "import multiprocessing as mp\n",
    "from functools import partial\n",
    "import networkx as nx\n",
    "import random\n",
    "import json\n",
    "def stats(F,print_res: bool = False):\n",
    "    vars = list(F.variables())\n",
    "    clauses = list(F.clauses())\n",
    "    n_vars = len(vars)\n",
    "    n_clauses = len(clauses)\n",
    "    if print_res:\n",
    "        print(f\"n_vars: {n_vars}, n_clauses: {n_clauses}\")\n",
    "    return f\"{n_vars},{n_clauses}\""
   ]
  },
  {
   "attachments": {},
   "cell_type": "markdown",
   "metadata": {},
   "source": [
    "## counting "
   ]
  },
  {
   "cell_type": "code",
   "execution_count": 2,
   "metadata": {},
   "outputs": [
    {
     "name": "stdout",
     "output_type": "stream",
     "text": [
      "n_vars: 171, n_clauses: 2926\n",
      "n_vars: 136, n_clauses: 2057\n",
      "n_vars: 190, n_clauses: 3440\n",
      "n_vars: 1140, n_clauses: 290720\n"
     ]
    }
   ],
   "source": [
    "F = CountingPrinciple(19, 2)\n",
    "stats(F,print_res=True)\n",
    "F = CountingPrinciple(17, 2)\n",
    "stats(F,print_res=True)\n",
    "F = CountingPrinciple(20, 2)\n",
    "stats(F,print_res=True)\n",
    "F = CountingPrinciple(20, 3)\n",
    "stats(F,print_res=True)"
   ]
  },
  {
   "attachments": {},
   "cell_type": "markdown",
   "metadata": {},
   "source": [
    "**Explosion du nombre de clauses mais pas des variables. Impossible d'obtenir**"
   ]
  },
  {
   "attachments": {},
   "cell_type": "markdown",
   "metadata": {},
   "source": [
    "## PerfectMatchingPrinciple"
   ]
  },
  {
   "cell_type": "code",
   "execution_count": 3,
   "metadata": {},
   "outputs": [
    {
     "name": "stdout",
     "output_type": "stream",
     "text": [
      "n_vars: 5000, n_clauses: 14285\n",
      "--------------------\n",
      "n_vars: 1000, n_clauses: 2988\n",
      "n_vars: 2000, n_clauses: 9040\n",
      "n_vars: 3000, n_clauses: 18864\n",
      "--------------------\n",
      "n_vars: 3000, n_clauses: 11062\n",
      "n_vars: 3000, n_clauses: 8942\n",
      "n_vars: 3000, n_clauses: 9500\n",
      "n_vars: 3000, n_clauses: 11772\n"
     ]
    }
   ],
   "source": [
    "G = nx.gnm_random_graph(8000, 5000)\n",
    "F = PerfectMatchingPrinciple(G)\n",
    "stats(F,print_res=True)\n",
    "print('-'*20)\n",
    "G = nx.gnm_random_graph(1000, 1000)\n",
    "F = PerfectMatchingPrinciple(G)\n",
    "stats(F,print_res=True)\n",
    "G = nx.gnm_random_graph(1000,2000)\n",
    "F = PerfectMatchingPrinciple(G)\n",
    "stats(F,print_res=True)\n",
    "G = nx.gnm_random_graph(1000,3000)\n",
    "F = PerfectMatchingPrinciple(G)\n",
    "stats(F,print_res=True)\n",
    "print('-'*20)\n",
    "G = nx.gnm_random_graph(2000,3000)\n",
    "F = PerfectMatchingPrinciple(G)\n",
    "stats(F,print_res=True)\n",
    "G = nx.gnm_random_graph(3000,3000)\n",
    "F = PerfectMatchingPrinciple(G)\n",
    "stats(F,print_res=True)\n",
    "G = nx.gnm_random_graph(7000,3000)\n",
    "F = PerfectMatchingPrinciple(G)\n",
    "stats(F,print_res=True)\n",
    "G = nx.gnm_random_graph(10000,3000)\n",
    "F = PerfectMatchingPrinciple(G)\n",
    "stats(F,print_res=True)"
   ]
  },
  {
   "attachments": {},
   "cell_type": "markdown",
   "metadata": {},
   "source": [
    "n_vars=n_edges, n_clauses = x times n_vars (bigger). n_clauses décroit quand n_nodes augmente\n",
    "processus de génération:\n",
    "- prendre m edges dans [1000, 5000]\n",
    "- tirage aléatoire dans [1000, 10_000] de n nodes\n",
    "\n",
    "**Potentiellement impossible d'avoir 3000 vars et moins de 5000 clauses**"
   ]
  },
  {
   "attachments": {},
   "cell_type": "markdown",
   "metadata": {},
   "source": [
    "## EvenColoringFormula"
   ]
  },
  {
   "cell_type": "code",
   "execution_count": 19,
   "metadata": {},
   "outputs": [
    {
     "name": "stdout",
     "output_type": "stream",
     "text": [
      "--------------------------------------------------\n",
      "--------------------------------------------------\n",
      "--------------------------------------------------\n",
      "--------------------------------------------------\n",
      "            10          20          30          50\n",
      "10      29,371       15,90      20,228       17,93\n",
      "20    84,14441     67,9264     69,2918     59,3134\n",
      "30   125,31300    101,8612   108,21785   127,29124\n",
      "50  179,101289  209,156031  214,214320  201,142676\n"
     ]
    }
   ],
   "source": [
    "Lnodes = [10,20,30,50]\n",
    "Ldeg = [10,20,30,50]\n",
    "Lres = [[] for _ in range(len(Lnodes))]\n",
    "for i,n_nodes in enumerate(Lnodes):\n",
    "    for deg in Ldeg:\n",
    "        deg = [random.randint(0, 10)*2 for _ in range(n_nodes)]\n",
    "        G = nx.configuration_model(deg_sequence=deg)\n",
    "        F = EvenColoringFormula(G)\n",
    "        res = str(stats(F,print_res=False))\n",
    "        Lres[i].append(res)\n",
    "    print('-',end='')\n",
    "print(pd.DataFrame(Lres, index=Lnodes, columns=Ldeg))\n",
    "\n"
   ]
  },
  {
   "attachments": {},
   "cell_type": "markdown",
   "metadata": {},
   "source": [
    "**Inutilisable**"
   ]
  },
  {
   "attachments": {},
   "cell_type": "markdown",
   "metadata": {},
   "source": [
    "## GraphColoringFormula"
   ]
  },
  {
   "cell_type": "code",
   "execution_count": 82,
   "metadata": {},
   "outputs": [
    {
     "name": "stdout",
     "output_type": "stream",
     "text": [
      "------\n"
     ]
    },
    {
     "data": {
      "text/html": [
       "<div>\n",
       "<style scoped>\n",
       "    .dataframe tbody tr th:only-of-type {\n",
       "        vertical-align: middle;\n",
       "    }\n",
       "\n",
       "    .dataframe tbody tr th {\n",
       "        vertical-align: top;\n",
       "    }\n",
       "\n",
       "    .dataframe thead th {\n",
       "        text-align: right;\n",
       "    }\n",
       "</style>\n",
       "<table border=\"1\" class=\"dataframe\">\n",
       "  <thead>\n",
       "    <tr style=\"text-align: right;\">\n",
       "      <th></th>\n",
       "      <th>50,4</th>\n",
       "      <th>50,5</th>\n",
       "      <th>50,6</th>\n",
       "      <th>150,4</th>\n",
       "      <th>150,5</th>\n",
       "      <th>150,6</th>\n",
       "      <th>250,4</th>\n",
       "      <th>250,5</th>\n",
       "      <th>250,6</th>\n",
       "      <th>350,4</th>\n",
       "      <th>350,5</th>\n",
       "      <th>350,6</th>\n",
       "      <th>450,4</th>\n",
       "      <th>450,5</th>\n",
       "      <th>450,6</th>\n",
       "      <th>550,4</th>\n",
       "      <th>550,5</th>\n",
       "      <th>550,6</th>\n",
       "    </tr>\n",
       "  </thead>\n",
       "  <tbody>\n",
       "    <tr>\n",
       "      <th>50</th>\n",
       "      <td>200,550</td>\n",
       "      <td>250,800</td>\n",
       "      <td>300,1100</td>\n",
       "      <td>200,950</td>\n",
       "      <td>250,1300</td>\n",
       "      <td>300,1700</td>\n",
       "      <td>200,1350</td>\n",
       "      <td>250,1800</td>\n",
       "      <td>300,2300</td>\n",
       "      <td>200,1750</td>\n",
       "      <td>250,2300</td>\n",
       "      <td>300,2900</td>\n",
       "      <td>200,2150</td>\n",
       "      <td>250,2800</td>\n",
       "      <td>300,3500</td>\n",
       "      <td>200,2550</td>\n",
       "      <td>250,3300</td>\n",
       "      <td>300,4100</td>\n",
       "    </tr>\n",
       "    <tr>\n",
       "      <th>150</th>\n",
       "      <td>600,1250</td>\n",
       "      <td>750,1900</td>\n",
       "      <td>900,2700</td>\n",
       "      <td>600,1650</td>\n",
       "      <td>750,2400</td>\n",
       "      <td>900,3300</td>\n",
       "      <td>600,2050</td>\n",
       "      <td>750,2900</td>\n",
       "      <td>900,3900</td>\n",
       "      <td>600,2450</td>\n",
       "      <td>750,3400</td>\n",
       "      <td>900,4500</td>\n",
       "      <td>600,2850</td>\n",
       "      <td>750,3900</td>\n",
       "      <td>900,5100</td>\n",
       "      <td>600,3250</td>\n",
       "      <td>750,4400</td>\n",
       "      <td>900,5700</td>\n",
       "    </tr>\n",
       "    <tr>\n",
       "      <th>250</th>\n",
       "      <td>1000,1950</td>\n",
       "      <td>1250,3000</td>\n",
       "      <td>1500,4300</td>\n",
       "      <td>1000,2350</td>\n",
       "      <td>1250,3500</td>\n",
       "      <td>1500,4900</td>\n",
       "      <td>1000,2750</td>\n",
       "      <td>1250,4000</td>\n",
       "      <td>1500,5500</td>\n",
       "      <td>1000,3150</td>\n",
       "      <td>1250,4500</td>\n",
       "      <td>1500,6100</td>\n",
       "      <td>1000,3550</td>\n",
       "      <td>1250,5000</td>\n",
       "      <td>1500,6700</td>\n",
       "      <td>1000,3950</td>\n",
       "      <td>1250,5500</td>\n",
       "      <td>1500,7300</td>\n",
       "    </tr>\n",
       "    <tr>\n",
       "      <th>350</th>\n",
       "      <td>1400,2650</td>\n",
       "      <td>1750,4100</td>\n",
       "      <td>2100,5900</td>\n",
       "      <td>1400,3050</td>\n",
       "      <td>1750,4600</td>\n",
       "      <td>2100,6500</td>\n",
       "      <td>1400,3450</td>\n",
       "      <td>1750,5100</td>\n",
       "      <td>2100,7100</td>\n",
       "      <td>1400,3850</td>\n",
       "      <td>1750,5600</td>\n",
       "      <td>2100,7700</td>\n",
       "      <td>1400,4250</td>\n",
       "      <td>1750,6100</td>\n",
       "      <td>2100,8300</td>\n",
       "      <td>1400,4650</td>\n",
       "      <td>1750,6600</td>\n",
       "      <td>2100,8900</td>\n",
       "    </tr>\n",
       "    <tr>\n",
       "      <th>450</th>\n",
       "      <td>1800,3350</td>\n",
       "      <td>2250,5200</td>\n",
       "      <td>2700,7500</td>\n",
       "      <td>1800,3750</td>\n",
       "      <td>2250,5700</td>\n",
       "      <td>2700,8100</td>\n",
       "      <td>1800,4150</td>\n",
       "      <td>2250,6200</td>\n",
       "      <td>2700,8700</td>\n",
       "      <td>1800,4550</td>\n",
       "      <td>2250,6700</td>\n",
       "      <td>2700,9300</td>\n",
       "      <td>1800,4950</td>\n",
       "      <td>2250,7200</td>\n",
       "      <td>2700,9900</td>\n",
       "      <td>1800,5350</td>\n",
       "      <td>2250,7700</td>\n",
       "      <td>2700,10500</td>\n",
       "    </tr>\n",
       "    <tr>\n",
       "      <th>550</th>\n",
       "      <td>2200,4050</td>\n",
       "      <td>2750,6300</td>\n",
       "      <td>3300,9100</td>\n",
       "      <td>2200,4450</td>\n",
       "      <td>2750,6800</td>\n",
       "      <td>3300,9700</td>\n",
       "      <td>2200,4850</td>\n",
       "      <td>2750,7300</td>\n",
       "      <td>3300,10300</td>\n",
       "      <td>2200,5250</td>\n",
       "      <td>2750,7800</td>\n",
       "      <td>3300,10900</td>\n",
       "      <td>2200,5650</td>\n",
       "      <td>2750,8300</td>\n",
       "      <td>3300,11500</td>\n",
       "      <td>2200,6050</td>\n",
       "      <td>2750,8800</td>\n",
       "      <td>3300,12100</td>\n",
       "    </tr>\n",
       "  </tbody>\n",
       "</table>\n",
       "</div>"
      ],
      "text/plain": [
       "          50,4       50,5       50,6      150,4      150,5      150,6      250,4      250,5       250,6      350,4      350,5       350,6      450,4      450,5       450,6      550,4      550,5       550,6\n",
       "50     200,550    250,800   300,1100    200,950   250,1300   300,1700   200,1350   250,1800    300,2300   200,1750   250,2300    300,2900   200,2150   250,2800    300,3500   200,2550   250,3300    300,4100\n",
       "150   600,1250   750,1900   900,2700   600,1650   750,2400   900,3300   600,2050   750,2900    900,3900   600,2450   750,3400    900,4500   600,2850   750,3900    900,5100   600,3250   750,4400    900,5700\n",
       "250  1000,1950  1250,3000  1500,4300  1000,2350  1250,3500  1500,4900  1000,2750  1250,4000   1500,5500  1000,3150  1250,4500   1500,6100  1000,3550  1250,5000   1500,6700  1000,3950  1250,5500   1500,7300\n",
       "350  1400,2650  1750,4100  2100,5900  1400,3050  1750,4600  2100,6500  1400,3450  1750,5100   2100,7100  1400,3850  1750,5600   2100,7700  1400,4250  1750,6100   2100,8300  1400,4650  1750,6600   2100,8900\n",
       "450  1800,3350  2250,5200  2700,7500  1800,3750  2250,5700  2700,8100  1800,4150  2250,6200   2700,8700  1800,4550  2250,6700   2700,9300  1800,4950  2250,7200   2700,9900  1800,5350  2250,7700  2700,10500\n",
       "550  2200,4050  2750,6300  3300,9100  2200,4450  2750,6800  3300,9700  2200,4850  2750,7300  3300,10300  2200,5250  2750,7800  3300,10900  2200,5650  2750,8300  3300,11500  2200,6050  2750,8800  3300,12100"
      ]
     },
     "metadata": {},
     "output_type": "display_data"
    }
   ],
   "source": [
    "Lnodes = list(range(50,551,100))\n",
    "Ledge = list(range(50,551,100))\n",
    "Lcolors = list(range(4,7))\n",
    "Lres = [[] for _ in range(len(Lnodes))]\n",
    "for i,n_nodes in enumerate(Lnodes):\n",
    "    for edge in Ledge:\n",
    "        for colors in Lcolors:\n",
    "            G = nx.gnm_random_graph(n_nodes, edge, seed=42)\n",
    "            F = GraphColoringFormula(G,colors)\n",
    "            res = str(stats(F,print_res=False))\n",
    "            Lres[i].append(res)\n",
    "    print('-',end='')\n",
    "print()\n",
    "pd.set_option('display.max_rows', 500)\n",
    "pd.set_option('display.max_columns', 500)\n",
    "pd.set_option('display.width', 1000)\n",
    "display(pd.DataFrame(Lres, index=Lnodes, columns=[str(e)+','+str(c) for e in Ledge for c in Lcolors]))\n",
    "\n"
   ]
  },
  {
   "attachments": {},
   "cell_type": "markdown",
   "metadata": {},
   "source": [
    "**Utilisable** mais clauses très similaires d'un graphe à l'autre"
   ]
  },
  {
   "attachments": {},
   "cell_type": "markdown",
   "metadata": {},
   "source": [
    "## GraphAutomorphism"
   ]
  },
  {
   "cell_type": "code",
   "execution_count": 43,
   "metadata": {},
   "outputs": [
    {
     "name": "stdout",
     "output_type": "stream",
     "text": [
      "----\n"
     ]
    },
    {
     "data": {
      "text/html": [
       "<div>\n",
       "<style scoped>\n",
       "    .dataframe tbody tr th:only-of-type {\n",
       "        vertical-align: middle;\n",
       "    }\n",
       "\n",
       "    .dataframe tbody tr th {\n",
       "        vertical-align: top;\n",
       "    }\n",
       "\n",
       "    .dataframe thead th {\n",
       "        text-align: right;\n",
       "    }\n",
       "</style>\n",
       "<table border=\"1\" class=\"dataframe\">\n",
       "  <thead>\n",
       "    <tr style=\"text-align: right;\">\n",
       "      <th></th>\n",
       "      <th>10</th>\n",
       "      <th>20</th>\n",
       "      <th>30</th>\n",
       "      <th>40</th>\n",
       "    </tr>\n",
       "  </thead>\n",
       "  <tbody>\n",
       "    <tr>\n",
       "      <th>10</th>\n",
       "      <td>100,2321</td>\n",
       "      <td>100,2921</td>\n",
       "      <td>100,2721</td>\n",
       "      <td>100,1721</td>\n",
       "    </tr>\n",
       "    <tr>\n",
       "      <th>20</th>\n",
       "      <td>400,14841</td>\n",
       "      <td>400,21241</td>\n",
       "      <td>400,26841</td>\n",
       "      <td>400,31641</td>\n",
       "    </tr>\n",
       "    <tr>\n",
       "      <th>30</th>\n",
       "      <td>900,43161</td>\n",
       "      <td>900,59361</td>\n",
       "      <td>900,74761</td>\n",
       "      <td>900,89361</td>\n",
       "    </tr>\n",
       "    <tr>\n",
       "      <th>40</th>\n",
       "      <td>1600,93281</td>\n",
       "      <td>1600,123281</td>\n",
       "      <td>1600,152481</td>\n",
       "      <td>1600,180881</td>\n",
       "    </tr>\n",
       "  </tbody>\n",
       "</table>\n",
       "</div>"
      ],
      "text/plain": [
       "            10           20           30           40\n",
       "10    100,2321     100,2921     100,2721     100,1721\n",
       "20   400,14841    400,21241    400,26841    400,31641\n",
       "30   900,43161    900,59361    900,74761    900,89361\n",
       "40  1600,93281  1600,123281  1600,152481  1600,180881"
      ]
     },
     "metadata": {},
     "output_type": "display_data"
    }
   ],
   "source": [
    "Lnodes = list(range(10,50,10))\n",
    "Ledge = list(range(10,50,10))\n",
    "Lres = [[] for _ in range(len(Lnodes))]\n",
    "for i,n_nodes in enumerate(Lnodes):\n",
    "    for edge in Ledge:\n",
    "        G = nx.gnm_random_graph(n_nodes, edge)\n",
    "        F = GraphAutomorphism(G)\n",
    "        res = str(stats(F,print_res=False))\n",
    "        Lres[i].append(res)\n",
    "    print('-',end='')\n",
    "print()\n",
    "pd.set_option('display.max_rows', 500)\n",
    "pd.set_option('display.max_columns', 500)\n",
    "pd.set_option('display.width', 1000)\n",
    "display(pd.DataFrame(Lres, index=Lnodes, columns=Ledge))\n",
    "\n"
   ]
  },
  {
   "attachments": {},
   "cell_type": "markdown",
   "metadata": {},
   "source": [
    "**Inutilisable: impossible d'avoir à la fois n_var et n_clauses dans [1000,5000]**"
   ]
  },
  {
   "attachments": {},
   "cell_type": "markdown",
   "metadata": {},
   "source": [
    "## GraphIsomorphism"
   ]
  },
  {
   "cell_type": "code",
   "execution_count": 45,
   "metadata": {},
   "outputs": [
    {
     "name": "stdout",
     "output_type": "stream",
     "text": [
      "----\n"
     ]
    },
    {
     "data": {
      "text/html": [
       "<div>\n",
       "<style scoped>\n",
       "    .dataframe tbody tr th:only-of-type {\n",
       "        vertical-align: middle;\n",
       "    }\n",
       "\n",
       "    .dataframe tbody tr th {\n",
       "        vertical-align: top;\n",
       "    }\n",
       "\n",
       "    .dataframe thead th {\n",
       "        text-align: right;\n",
       "    }\n",
       "</style>\n",
       "<table border=\"1\" class=\"dataframe\">\n",
       "  <thead>\n",
       "    <tr style=\"text-align: right;\">\n",
       "      <th></th>\n",
       "      <th>10</th>\n",
       "      <th>20</th>\n",
       "      <th>30</th>\n",
       "      <th>40</th>\n",
       "    </tr>\n",
       "  </thead>\n",
       "  <tbody>\n",
       "    <tr>\n",
       "      <th>10</th>\n",
       "      <td>100,2320</td>\n",
       "      <td>100,2920</td>\n",
       "      <td>100,2720</td>\n",
       "      <td>100,1720</td>\n",
       "    </tr>\n",
       "    <tr>\n",
       "      <th>20</th>\n",
       "      <td>400,14840</td>\n",
       "      <td>400,21240</td>\n",
       "      <td>400,26840</td>\n",
       "      <td>400,31640</td>\n",
       "    </tr>\n",
       "    <tr>\n",
       "      <th>30</th>\n",
       "      <td>900,43160</td>\n",
       "      <td>900,59360</td>\n",
       "      <td>900,74760</td>\n",
       "      <td>900,89360</td>\n",
       "    </tr>\n",
       "    <tr>\n",
       "      <th>40</th>\n",
       "      <td>1600,93280</td>\n",
       "      <td>1600,123280</td>\n",
       "      <td>1600,152480</td>\n",
       "      <td>1600,180880</td>\n",
       "    </tr>\n",
       "  </tbody>\n",
       "</table>\n",
       "</div>"
      ],
      "text/plain": [
       "            10           20           30           40\n",
       "10    100,2320     100,2920     100,2720     100,1720\n",
       "20   400,14840    400,21240    400,26840    400,31640\n",
       "30   900,43160    900,59360    900,74760    900,89360\n",
       "40  1600,93280  1600,123280  1600,152480  1600,180880"
      ]
     },
     "metadata": {},
     "output_type": "display_data"
    }
   ],
   "source": [
    "Lnodes = list(range(10,50,10))\n",
    "Ledge = list(range(10,50,10))\n",
    "Lres = [[] for _ in range(len(Lnodes))]\n",
    "for i,n_nodes in enumerate(Lnodes):\n",
    "    for edge in Ledge:\n",
    "        G1 = nx.gnm_random_graph(n_nodes, edge,seed=random.randint(0,1000))\n",
    "        G2 = nx.gnm_random_graph(n_nodes, edge,seed=random.randint(0,1000))\n",
    "        F = GraphIsomorphism(G1,G2)\n",
    "        res = str(stats(F,print_res=False))\n",
    "        Lres[i].append(res)\n",
    "    print('-',end='')\n",
    "print()\n",
    "pd.set_option('display.max_rows', 500)\n",
    "pd.set_option('display.max_columns', 500)\n",
    "pd.set_option('display.width', 1000)\n",
    "display(pd.DataFrame(Lres, index=Lnodes, columns=Ledge))\n",
    "\n"
   ]
  },
  {
   "attachments": {},
   "cell_type": "markdown",
   "metadata": {},
   "source": [
    "**Inutilisable: impossible d'avoir à la fois n_var et n_clauses dans [1000,5000]**"
   ]
  },
  {
   "attachments": {},
   "cell_type": "markdown",
   "metadata": {},
   "source": [
    "## GraphOrderingPrinciple"
   ]
  },
  {
   "cell_type": "code",
   "execution_count": 46,
   "metadata": {},
   "outputs": [
    {
     "name": "stdout",
     "output_type": "stream",
     "text": [
      "----\n"
     ]
    },
    {
     "data": {
      "text/html": [
       "<div>\n",
       "<style scoped>\n",
       "    .dataframe tbody tr th:only-of-type {\n",
       "        vertical-align: middle;\n",
       "    }\n",
       "\n",
       "    .dataframe tbody tr th {\n",
       "        vertical-align: top;\n",
       "    }\n",
       "\n",
       "    .dataframe thead th {\n",
       "        text-align: right;\n",
       "    }\n",
       "</style>\n",
       "<table border=\"1\" class=\"dataframe\">\n",
       "  <thead>\n",
       "    <tr style=\"text-align: right;\">\n",
       "      <th></th>\n",
       "      <th>10</th>\n",
       "      <th>20</th>\n",
       "      <th>30</th>\n",
       "      <th>40</th>\n",
       "    </tr>\n",
       "  </thead>\n",
       "  <tbody>\n",
       "    <tr>\n",
       "      <th>10</th>\n",
       "      <td>90,775</td>\n",
       "      <td>90,775</td>\n",
       "      <td>90,775</td>\n",
       "      <td>90,775</td>\n",
       "    </tr>\n",
       "    <tr>\n",
       "      <th>20</th>\n",
       "      <td>380,7050</td>\n",
       "      <td>380,7050</td>\n",
       "      <td>380,7050</td>\n",
       "      <td>380,7050</td>\n",
       "    </tr>\n",
       "    <tr>\n",
       "      <th>30</th>\n",
       "      <td>870,24825</td>\n",
       "      <td>870,24825</td>\n",
       "      <td>870,24825</td>\n",
       "      <td>870,24825</td>\n",
       "    </tr>\n",
       "    <tr>\n",
       "      <th>40</th>\n",
       "      <td>1560,60100</td>\n",
       "      <td>1560,60100</td>\n",
       "      <td>1560,60100</td>\n",
       "      <td>1560,60100</td>\n",
       "    </tr>\n",
       "  </tbody>\n",
       "</table>\n",
       "</div>"
      ],
      "text/plain": [
       "            10          20          30          40\n",
       "10      90,775      90,775      90,775      90,775\n",
       "20    380,7050    380,7050    380,7050    380,7050\n",
       "30   870,24825   870,24825   870,24825   870,24825\n",
       "40  1560,60100  1560,60100  1560,60100  1560,60100"
      ]
     },
     "metadata": {},
     "output_type": "display_data"
    }
   ],
   "source": [
    "Lnodes = list(range(10,50,10))\n",
    "Ledge = list(range(10,50,10))\n",
    "Lres = [[] for _ in range(len(Lnodes))]\n",
    "for i,n_nodes in enumerate(Lnodes):\n",
    "    for edge in Ledge:\n",
    "        G1 = nx.gnm_random_graph(n_nodes, edge,seed=random.randint(0,1000))\n",
    "        F = GraphOrderingPrinciple(G1)\n",
    "        res = str(stats(F,print_res=False))\n",
    "        Lres[i].append(res)\n",
    "    print('-',end='')\n",
    "print()\n",
    "pd.set_option('display.max_rows', 500)\n",
    "pd.set_option('display.max_columns', 500)\n",
    "pd.set_option('display.width', 1000)\n",
    "display(pd.DataFrame(Lres, index=Lnodes, columns=Ledge))\n",
    "\n"
   ]
  },
  {
   "cell_type": "code",
   "execution_count": 47,
   "metadata": {},
   "outputs": [
    {
     "name": "stdout",
     "output_type": "stream",
     "text": [
      "----\n"
     ]
    },
    {
     "data": {
      "text/html": [
       "<div>\n",
       "<style scoped>\n",
       "    .dataframe tbody tr th:only-of-type {\n",
       "        vertical-align: middle;\n",
       "    }\n",
       "\n",
       "    .dataframe tbody tr th {\n",
       "        vertical-align: top;\n",
       "    }\n",
       "\n",
       "    .dataframe thead th {\n",
       "        text-align: right;\n",
       "    }\n",
       "</style>\n",
       "<table border=\"1\" class=\"dataframe\">\n",
       "  <thead>\n",
       "    <tr style=\"text-align: right;\">\n",
       "      <th></th>\n",
       "      <th>10</th>\n",
       "      <th>20</th>\n",
       "      <th>30</th>\n",
       "      <th>40</th>\n",
       "    </tr>\n",
       "  </thead>\n",
       "  <tbody>\n",
       "    <tr>\n",
       "      <th>10</th>\n",
       "      <td>90,774</td>\n",
       "      <td>90,774</td>\n",
       "      <td>90,774</td>\n",
       "      <td>90,774</td>\n",
       "    </tr>\n",
       "    <tr>\n",
       "      <th>20</th>\n",
       "      <td>380,7049</td>\n",
       "      <td>380,7049</td>\n",
       "      <td>380,7049</td>\n",
       "      <td>380,7049</td>\n",
       "    </tr>\n",
       "    <tr>\n",
       "      <th>30</th>\n",
       "      <td>870,24824</td>\n",
       "      <td>870,24824</td>\n",
       "      <td>870,24824</td>\n",
       "      <td>870,24824</td>\n",
       "    </tr>\n",
       "    <tr>\n",
       "      <th>40</th>\n",
       "      <td>1560,60099</td>\n",
       "      <td>1560,60099</td>\n",
       "      <td>1560,60099</td>\n",
       "      <td>1560,60099</td>\n",
       "    </tr>\n",
       "  </tbody>\n",
       "</table>\n",
       "</div>"
      ],
      "text/plain": [
       "            10          20          30          40\n",
       "10      90,774      90,774      90,774      90,774\n",
       "20    380,7049    380,7049    380,7049    380,7049\n",
       "30   870,24824   870,24824   870,24824   870,24824\n",
       "40  1560,60099  1560,60099  1560,60099  1560,60099"
      ]
     },
     "metadata": {},
     "output_type": "display_data"
    }
   ],
   "source": [
    "Lnodes = list(range(10,50,10))\n",
    "Ledge = list(range(10,50,10))\n",
    "Lres = [[] for _ in range(len(Lnodes))]\n",
    "for i,n_nodes in enumerate(Lnodes):\n",
    "    for edge in Ledge:\n",
    "        G1 = nx.gnm_random_graph(n_nodes, edge,seed=random.randint(0,1000))\n",
    "        F = GraphOrderingPrinciple(G1,plant=True)\n",
    "        res = str(stats(F,print_res=False))\n",
    "        Lres[i].append(res)\n",
    "    print('-',end='')\n",
    "print()\n",
    "pd.set_option('display.max_rows', 500)\n",
    "pd.set_option('display.max_columns', 500)\n",
    "pd.set_option('display.width', 1000)\n",
    "display(pd.DataFrame(Lres, index=Lnodes, columns=Ledge))"
   ]
  },
  {
   "attachments": {},
   "cell_type": "markdown",
   "metadata": {},
   "source": [
    "**Inutilisable: impossible d'avoir à la fois n_var et n_clauses dans [1000,5000]**"
   ]
  },
  {
   "attachments": {},
   "cell_type": "markdown",
   "metadata": {},
   "source": [
    "## OrderingPrinciple"
   ]
  },
  {
   "cell_type": "code",
   "execution_count": 52,
   "metadata": {},
   "outputs": [
    {
     "name": "stdout",
     "output_type": "stream",
     "text": [
      "n_vars: 90, n_clauses: 774\n",
      "n_vars: 380, n_clauses: 7049\n",
      "n_vars: 870, n_clauses: 24824\n",
      "n_vars: 1560, n_clauses: 60099\n",
      "n_vars: 2450, n_clauses: 118874\n",
      "n_vars: 3540, n_clauses: 207149\n",
      "\n"
     ]
    }
   ],
   "source": [
    "Lsizes = list(range(10,61,10))\n",
    "for size in Lsizes:\n",
    "    F = OrderingPrinciple(size,plant=True)\n",
    "    res = str(stats(F,print_res=True))\n",
    "print()"
   ]
  },
  {
   "attachments": {},
   "cell_type": "markdown",
   "metadata": {},
   "source": [
    "**Inutilisable: impossible d'avoir à la fois n_var et n_clauses dans [1000,5000]**"
   ]
  },
  {
   "attachments": {},
   "cell_type": "markdown",
   "metadata": {},
   "source": [
    "## PebblingFormula"
   ]
  },
  {
   "cell_type": "code",
   "execution_count": 58,
   "metadata": {},
   "outputs": [
    {
     "name": "stdout",
     "output_type": "stream",
     "text": [
      "n_vars: 1000, n_clauses: 1003\n",
      "n_vars: 2000, n_clauses: 2003\n",
      "n_vars: 3000, n_clauses: 3001\n",
      "n_vars: 4000, n_clauses: 4002\n",
      "n_vars: 5000, n_clauses: 5002\n"
     ]
    }
   ],
   "source": [
    "Lnodes = list(range(1000,5001,1000))\n",
    "for i,n_nodes in enumerate(Lnodes):\n",
    "    G = nx.gnp_random_graph(n_nodes, p=0.5,directed = True,seed=random.randint(0,1000))\n",
    "    DAG = nx.DiGraph([(u,v,{'weight':random.randint(-10,10)}) for (u,v) in G.edges() if u<v])\n",
    "    F = PebblingFormula(DAG)\n",
    "    res = str(stats(F,print_res=True))"
   ]
  },
  {
   "attachments": {},
   "cell_type": "markdown",
   "metadata": {},
   "source": [
    "**Possible à utiliser mais long à générer (nécessité de faire varier les initialisations plutôt)**"
   ]
  },
  {
   "attachments": {},
   "cell_type": "markdown",
   "metadata": {},
   "source": [
    "## SparseStoneFormula"
   ]
  },
  {
   "cell_type": "code",
   "execution_count": 66,
   "metadata": {},
   "outputs": [
    {
     "name": "stdout",
     "output_type": "stream",
     "text": [
      "n_vars: 10, n_clauses: 13\n",
      "n_vars: 29, n_clauses: 66\n",
      "n_vars: 52, n_clauses: 52671\n",
      "n_vars: 67, n_clauses: 45405\n",
      "n_vars: 103, n_clauses: 487400\n",
      "n_vars: 104, n_clauses: 2155048\n",
      "----------\n",
      "n_vars: 26, n_clauses: 28\n",
      "n_vars: 63, n_clauses: 186530\n",
      "n_vars: 94, n_clauses: 3216758\n"
     ]
    },
    {
     "ename": "KeyboardInterrupt",
     "evalue": "",
     "output_type": "error",
     "traceback": [
      "\u001b[1;31m---------------------------------------------------------------------------\u001b[0m",
      "\u001b[1;31mKeyboardInterrupt\u001b[0m                         Traceback (most recent call last)",
      "\u001b[1;32mc:\\Users\\robin\\Documents\\Cours\\Poly\\Recherche\\FIBI_Recherche\\FIBI\\get_datasets\\maxsat\\benchmark2.ipynb Cell 31\u001b[0m in \u001b[0;36m<cell line: 4>\u001b[1;34m()\u001b[0m\n\u001b[0;32m      <a href='vscode-notebook-cell:/c%3A/Users/robin/Documents/Cours/Poly/Recherche/FIBI_Recherche/FIBI/get_datasets/maxsat/benchmark2.ipynb#X55sZmlsZQ%3D%3D?line=6'>7</a>\u001b[0m     DAG \u001b[39m=\u001b[39m nx\u001b[39m.\u001b[39mDiGraph([(u,v,{\u001b[39m'\u001b[39m\u001b[39mweight\u001b[39m\u001b[39m'\u001b[39m:random\u001b[39m.\u001b[39mrandint(\u001b[39m-\u001b[39m\u001b[39m10\u001b[39m,\u001b[39m10\u001b[39m)}) \u001b[39mfor\u001b[39;00m (u,v) \u001b[39min\u001b[39;00m G\u001b[39m.\u001b[39medges() \u001b[39mif\u001b[39;00m u\u001b[39m<\u001b[39mv])\n\u001b[0;32m      <a href='vscode-notebook-cell:/c%3A/Users/robin/Documents/Cours/Poly/Recherche/FIBI_Recherche/FIBI/get_datasets/maxsat/benchmark2.ipynb#X55sZmlsZQ%3D%3D?line=7'>8</a>\u001b[0m     B \u001b[39m=\u001b[39m bipartite\u001b[39m.\u001b[39mrandom_graph(n_nodes, n_stones, \u001b[39m0.5\u001b[39m, seed\u001b[39m=\u001b[39mrandom\u001b[39m.\u001b[39mrandint(\u001b[39m0\u001b[39m,\u001b[39m1000\u001b[39m))\n\u001b[1;32m----> <a href='vscode-notebook-cell:/c%3A/Users/robin/Documents/Cours/Poly/Recherche/FIBI_Recherche/FIBI/get_datasets/maxsat/benchmark2.ipynb#X55sZmlsZQ%3D%3D?line=8'>9</a>\u001b[0m     F \u001b[39m=\u001b[39m SparseStoneFormula(DAG,B)\n\u001b[0;32m     <a href='vscode-notebook-cell:/c%3A/Users/robin/Documents/Cours/Poly/Recherche/FIBI_Recherche/FIBI/get_datasets/maxsat/benchmark2.ipynb#X55sZmlsZQ%3D%3D?line=9'>10</a>\u001b[0m     res \u001b[39m=\u001b[39m \u001b[39mstr\u001b[39m(stats(F,print_res\u001b[39m=\u001b[39m\u001b[39mTrue\u001b[39;00m))\n\u001b[0;32m     <a href='vscode-notebook-cell:/c%3A/Users/robin/Documents/Cours/Poly/Recherche/FIBI_Recherche/FIBI/get_datasets/maxsat/benchmark2.ipynb#X55sZmlsZQ%3D%3D?line=10'>11</a>\u001b[0m \u001b[39mprint\u001b[39m(\u001b[39m'\u001b[39m\u001b[39m-\u001b[39m\u001b[39m'\u001b[39m\u001b[39m*\u001b[39m\u001b[39m10\u001b[39m)\n",
      "File \u001b[1;32mc:\\Users\\robin\\Documents\\Cours\\Poly\\Recherche\\FIBI_Recherche\\venv\\lib\\site-packages\\cnfgen\\families\\pebbling.py:343\u001b[0m, in \u001b[0;36mSparseStoneFormula\u001b[1;34m(D, B)\u001b[0m\n\u001b[0;32m    339\u001b[0m stones \u001b[39m=\u001b[39m \u001b[39mlist\u001b[39m(\u001b[39mrange\u001b[39m(\u001b[39m1\u001b[39m, nstones \u001b[39m+\u001b[39m \u001b[39m1\u001b[39m))\n\u001b[0;32m    341\u001b[0m mapping \u001b[39m=\u001b[39m cnf\u001b[39m.\u001b[39munary_mapping(vertices, stones, sparsity_pattern\u001b[39m=\u001b[39mB)\n\u001b[1;32m--> 343\u001b[0m stone_formula_helper(cnf, D, mapping)\n\u001b[0;32m    344\u001b[0m \u001b[39mreturn\u001b[39;00m cnf\n",
      "File \u001b[1;32mc:\\Users\\robin\\Documents\\Cours\\Poly\\Recherche\\FIBI_Recherche\\venv\\lib\\site-packages\\cnfgen\\families\\pebbling.py:127\u001b[0m, in \u001b[0;36mstone_formula_helper\u001b[1;34m(F, D, mapping)\u001b[0m\n\u001b[0;32m    123\u001b[0m     pred \u001b[39m=\u001b[39m \u001b[39msorted\u001b[39m(D\u001b[39m.\u001b[39mpredecessors(v),\n\u001b[0;32m    124\u001b[0m                   key\u001b[39m=\u001b[39m\u001b[39mlambda\u001b[39;00m x: mapping\u001b[39m.\u001b[39mRankDomain[x])\n\u001b[0;32m    125\u001b[0m     \u001b[39mfor\u001b[39;00m stones_tuple \u001b[39min\u001b[39;00m product(\u001b[39m*\u001b[39m\u001b[39mtuple\u001b[39m(\n\u001b[0;32m    126\u001b[0m         [s \u001b[39mfor\u001b[39;00m s \u001b[39min\u001b[39;00m mapping\u001b[39m.\u001b[39mimages(v) \u001b[39mif\u001b[39;00m s \u001b[39m!=\u001b[39m j] \u001b[39mfor\u001b[39;00m v \u001b[39min\u001b[39;00m pred)):\n\u001b[1;32m--> 127\u001b[0m         F\u001b[39m.\u001b[39;49madd_clause_unsafe([(\u001b[39mFalse\u001b[39;49;00m, stone_vn[(p, s)])\n\u001b[0;32m    128\u001b[0m                              \u001b[39mfor\u001b[39;49;00m (p, s) \u001b[39min\u001b[39;49;00m \u001b[39mzip\u001b[39;49m(pred, stones_tuple)] \u001b[39m+\u001b[39;49m\n\u001b[0;32m    129\u001b[0m                             [(\u001b[39mFalse\u001b[39;49;00m, stone_vn[(v, j)])] \u001b[39m+\u001b[39;49m\n\u001b[0;32m    130\u001b[0m                             [(\u001b[39mFalse\u001b[39;49;00m, color_vn[s])\n\u001b[0;32m    131\u001b[0m                              \u001b[39mfor\u001b[39;49;00m s \u001b[39min\u001b[39;49;00m _uniqify_list(stones_tuple)] \u001b[39m+\u001b[39;49m\n\u001b[0;32m    132\u001b[0m                             [(\u001b[39mTrue\u001b[39;49;00m, color_vn[j])])\n\u001b[0;32m    134\u001b[0m \u001b[39mif\u001b[39;00m D\u001b[39m.\u001b[39mout_degree(v) \u001b[39m==\u001b[39m \u001b[39m0\u001b[39m:  \u001b[39m#the sink\u001b[39;00m\n\u001b[0;32m    135\u001b[0m     \u001b[39mfor\u001b[39;00m j \u001b[39min\u001b[39;00m mapping\u001b[39m.\u001b[39mimages(v):\n",
      "File \u001b[1;32mc:\\Users\\robin\\Documents\\Cours\\Poly\\Recherche\\FIBI_Recherche\\venv\\lib\\site-packages\\cnfgen\\cnf.py:420\u001b[0m, in \u001b[0;36mCNF.add_clause_unsafe\u001b[1;34m(self, clause)\u001b[0m\n\u001b[0;32m    394\u001b[0m \u001b[39mdef\u001b[39;00m \u001b[39madd_clause_unsafe\u001b[39m(\u001b[39mself\u001b[39m, clause):\n\u001b[0;32m    395\u001b[0m     \u001b[39m\"\"\"Add a clause without checking input\u001b[39;00m\n\u001b[0;32m    396\u001b[0m \n\u001b[0;32m    397\u001b[0m \u001b[39m    This is logically equivalent to :py:meth:`CNF.add_clause`\u001b[39;00m\n\u001b[1;32m   (...)\u001b[0m\n\u001b[0;32m    418\u001b[0m \u001b[39m        if the clause contains a variable which was not added to the formula before.\u001b[39;00m\n\u001b[0;32m    419\u001b[0m \u001b[39m    \"\"\"\u001b[39;00m\n\u001b[1;32m--> 420\u001b[0m     \u001b[39mself\u001b[39m\u001b[39m.\u001b[39m_clauses\u001b[39m.\u001b[39mappend(\u001b[39mself\u001b[39;49m\u001b[39m.\u001b[39;49m_compress_clause(clause))\n",
      "File \u001b[1;32mc:\\Users\\robin\\Documents\\Cours\\Poly\\Recherche\\FIBI_Recherche\\venv\\lib\\site-packages\\cnfgen\\cnf.py:176\u001b[0m, in \u001b[0;36mCNF._compress_clause\u001b[1;34m(self, clause)\u001b[0m\n\u001b[0;32m    149\u001b[0m \u001b[39m\"\"\"Convert a clause to its numeric representation.\u001b[39;00m\n\u001b[0;32m    150\u001b[0m \n\u001b[0;32m    151\u001b[0m \u001b[39mFor reason of efficiency, clauses are memorized as tuples of\u001b[39;00m\n\u001b[1;32m   (...)\u001b[0m\n\u001b[0;32m    173\u001b[0m \n\u001b[0;32m    174\u001b[0m \u001b[39m\"\"\"\u001b[39;00m\n\u001b[0;32m    175\u001b[0m \u001b[39mtry\u001b[39;00m:\n\u001b[1;32m--> 176\u001b[0m     \u001b[39mreturn\u001b[39;00m \u001b[39mtuple\u001b[39;49m(\n\u001b[0;32m    177\u001b[0m         (\u001b[39m1\u001b[39;49m \u001b[39mif\u001b[39;49;00m p \u001b[39melse\u001b[39;49;00m \u001b[39m-\u001b[39;49m\u001b[39m1\u001b[39;49m) \u001b[39m*\u001b[39;49m \u001b[39mself\u001b[39;49m\u001b[39m.\u001b[39;49m_name2index[n] \u001b[39mfor\u001b[39;49;00m p, n \u001b[39min\u001b[39;49;00m clause)\n\u001b[0;32m    178\u001b[0m \u001b[39mexcept\u001b[39;00m \u001b[39mTypeError\u001b[39;00m:\n\u001b[0;32m    179\u001b[0m     \u001b[39mraise\u001b[39;00m \u001b[39mTypeError\u001b[39;00m(\u001b[39m\"\u001b[39m\u001b[39m{}\u001b[39;00m\u001b[39m is not a well formatted clause\u001b[39m\u001b[39m\"\u001b[39m\u001b[39m.\u001b[39mformat(clause))\n",
      "File \u001b[1;32mc:\\Users\\robin\\Documents\\Cours\\Poly\\Recherche\\FIBI_Recherche\\venv\\lib\\site-packages\\cnfgen\\cnf.py:177\u001b[0m, in \u001b[0;36m<genexpr>\u001b[1;34m(.0)\u001b[0m\n\u001b[0;32m    149\u001b[0m \u001b[39m\"\"\"Convert a clause to its numeric representation.\u001b[39;00m\n\u001b[0;32m    150\u001b[0m \n\u001b[0;32m    151\u001b[0m \u001b[39mFor reason of efficiency, clauses are memorized as tuples of\u001b[39;00m\n\u001b[1;32m   (...)\u001b[0m\n\u001b[0;32m    173\u001b[0m \n\u001b[0;32m    174\u001b[0m \u001b[39m\"\"\"\u001b[39;00m\n\u001b[0;32m    175\u001b[0m \u001b[39mtry\u001b[39;00m:\n\u001b[0;32m    176\u001b[0m     \u001b[39mreturn\u001b[39;00m \u001b[39mtuple\u001b[39m(\n\u001b[1;32m--> 177\u001b[0m         (\u001b[39m1\u001b[39m \u001b[39mif\u001b[39;00m p \u001b[39melse\u001b[39;00m \u001b[39m-\u001b[39m\u001b[39m1\u001b[39m) \u001b[39m*\u001b[39m \u001b[39mself\u001b[39;49m\u001b[39m.\u001b[39;49m_name2index[n] \u001b[39mfor\u001b[39;00m p, n \u001b[39min\u001b[39;00m clause)\n\u001b[0;32m    178\u001b[0m \u001b[39mexcept\u001b[39;00m \u001b[39mTypeError\u001b[39;00m:\n\u001b[0;32m    179\u001b[0m     \u001b[39mraise\u001b[39;00m \u001b[39mTypeError\u001b[39;00m(\u001b[39m\"\u001b[39m\u001b[39m{}\u001b[39;00m\u001b[39m is not a well formatted clause\u001b[39m\u001b[39m\"\u001b[39m\u001b[39m.\u001b[39mformat(clause))\n",
      "\u001b[1;31mKeyboardInterrupt\u001b[0m: "
     ]
    }
   ],
   "source": [
    "from networkx.algorithms import bipartite\n",
    "Lnodes = list(range(10,51,10))\n",
    "Lstones = list(range(2,20,3))\n",
    "for i,n_nodes in enumerate(Lnodes):\n",
    "    for n_stones in (Lstones):\n",
    "        G = nx.gnp_random_graph(n_nodes, p=0.5,directed = True,seed=random.randint(0,1000))\n",
    "        DAG = nx.DiGraph([(u,v,{'weight':random.randint(-10,10)}) for (u,v) in G.edges() if u<v])\n",
    "        B = bipartite.random_graph(n_nodes, n_stones, 0.5, seed=random.randint(0,1000))\n",
    "        F = SparseStoneFormula(DAG,B)\n",
    "        res = str(stats(F,print_res=True))\n",
    "    print('-'*10)"
   ]
  },
  {
   "attachments": {},
   "cell_type": "markdown",
   "metadata": {},
   "source": [
    "**Difficilement utilisable: variations importantes du nombre de clauses**"
   ]
  },
  {
   "attachments": {},
   "cell_type": "markdown",
   "metadata": {},
   "source": [
    "## StoneFormula"
   ]
  },
  {
   "cell_type": "code",
   "execution_count": 67,
   "metadata": {},
   "outputs": [
    {
     "name": "stdout",
     "output_type": "stream",
     "text": [
      "n_vars: 22, n_clauses: 32\n",
      "n_vars: 55, n_clauses: 7570\n",
      "n_vars: 88, n_clauses: 1232978\n",
      "n_vars: 121, n_clauses: 1234397\n"
     ]
    },
    {
     "ename": "KeyboardInterrupt",
     "evalue": "",
     "output_type": "error",
     "traceback": [
      "\u001b[1;31m---------------------------------------------------------------------------\u001b[0m",
      "\u001b[1;31mKeyboardInterrupt\u001b[0m                         Traceback (most recent call last)",
      "\u001b[1;32mc:\\Users\\robin\\Documents\\Cours\\Poly\\Recherche\\FIBI_Recherche\\FIBI\\get_datasets\\maxsat\\benchmark2.ipynb Cell 34\u001b[0m in \u001b[0;36m<cell line: 3>\u001b[1;34m()\u001b[0m\n\u001b[0;32m      <a href='vscode-notebook-cell:/c%3A/Users/robin/Documents/Cours/Poly/Recherche/FIBI_Recherche/FIBI/get_datasets/maxsat/benchmark2.ipynb#X53sZmlsZQ%3D%3D?line=4'>5</a>\u001b[0m     G \u001b[39m=\u001b[39m nx\u001b[39m.\u001b[39mgnp_random_graph(n_nodes, p\u001b[39m=\u001b[39m\u001b[39m0.5\u001b[39m,directed \u001b[39m=\u001b[39m \u001b[39mTrue\u001b[39;00m,seed\u001b[39m=\u001b[39mrandom\u001b[39m.\u001b[39mrandint(\u001b[39m0\u001b[39m,\u001b[39m1000\u001b[39m))\n\u001b[0;32m      <a href='vscode-notebook-cell:/c%3A/Users/robin/Documents/Cours/Poly/Recherche/FIBI_Recherche/FIBI/get_datasets/maxsat/benchmark2.ipynb#X53sZmlsZQ%3D%3D?line=5'>6</a>\u001b[0m     DAG \u001b[39m=\u001b[39m nx\u001b[39m.\u001b[39mDiGraph([(u,v,{\u001b[39m'\u001b[39m\u001b[39mweight\u001b[39m\u001b[39m'\u001b[39m:random\u001b[39m.\u001b[39mrandint(\u001b[39m-\u001b[39m\u001b[39m10\u001b[39m,\u001b[39m10\u001b[39m)}) \u001b[39mfor\u001b[39;00m (u,v) \u001b[39min\u001b[39;00m G\u001b[39m.\u001b[39medges() \u001b[39mif\u001b[39;00m u\u001b[39m<\u001b[39mv])\n\u001b[1;32m----> <a href='vscode-notebook-cell:/c%3A/Users/robin/Documents/Cours/Poly/Recherche/FIBI_Recherche/FIBI/get_datasets/maxsat/benchmark2.ipynb#X53sZmlsZQ%3D%3D?line=6'>7</a>\u001b[0m     F \u001b[39m=\u001b[39m StoneFormula(DAG,n_stones)\n\u001b[0;32m      <a href='vscode-notebook-cell:/c%3A/Users/robin/Documents/Cours/Poly/Recherche/FIBI_Recherche/FIBI/get_datasets/maxsat/benchmark2.ipynb#X53sZmlsZQ%3D%3D?line=7'>8</a>\u001b[0m     res \u001b[39m=\u001b[39m \u001b[39mstr\u001b[39m(stats(F,print_res\u001b[39m=\u001b[39m\u001b[39mTrue\u001b[39;00m))\n\u001b[0;32m      <a href='vscode-notebook-cell:/c%3A/Users/robin/Documents/Cours/Poly/Recherche/FIBI_Recherche/FIBI/get_datasets/maxsat/benchmark2.ipynb#X53sZmlsZQ%3D%3D?line=8'>9</a>\u001b[0m \u001b[39mprint\u001b[39m(\u001b[39m'\u001b[39m\u001b[39m-\u001b[39m\u001b[39m'\u001b[39m\u001b[39m*\u001b[39m\u001b[39m10\u001b[39m)\n",
      "File \u001b[1;32mc:\\Users\\robin\\Documents\\Cours\\Poly\\Recherche\\FIBI_Recherche\\venv\\lib\\site-packages\\cnfgen\\families\\pebbling.py:245\u001b[0m, in \u001b[0;36mStoneFormula\u001b[1;34m(D, nstones)\u001b[0m\n\u001b[0;32m    242\u001b[0m     pred \u001b[39m=\u001b[39m \u001b[39msorted\u001b[39m(D\u001b[39m.\u001b[39mpredecessors(v), key\u001b[39m=\u001b[39m\u001b[39mlambda\u001b[39;00m x: position[x])\n\u001b[0;32m    243\u001b[0m     \u001b[39mfor\u001b[39;00m stones_tuple \u001b[39min\u001b[39;00m product([s \u001b[39mfor\u001b[39;00m s \u001b[39min\u001b[39;00m stones \u001b[39mif\u001b[39;00m s \u001b[39m!=\u001b[39m j],\n\u001b[0;32m    244\u001b[0m                                 repeat\u001b[39m=\u001b[39m\u001b[39mlen\u001b[39m(pred)):\n\u001b[1;32m--> 245\u001b[0m         cnf\u001b[39m.\u001b[39;49madd_clause_unsafe([(\u001b[39mFalse\u001b[39;49;00m, stone_vn[(p, s)])\n\u001b[0;32m    246\u001b[0m                                \u001b[39mfor\u001b[39;49;00m (p, s) \u001b[39min\u001b[39;49;00m \u001b[39mzip\u001b[39;49m(pred, stones_tuple)] \u001b[39m+\u001b[39;49m\n\u001b[0;32m    247\u001b[0m                               [(\u001b[39mFalse\u001b[39;49;00m, stone_vn[(v, j)])] \u001b[39m+\u001b[39;49m\n\u001b[0;32m    248\u001b[0m                               [(\u001b[39mFalse\u001b[39;49;00m, color_vn[s])\n\u001b[0;32m    249\u001b[0m                                \u001b[39mfor\u001b[39;49;00m s \u001b[39min\u001b[39;49;00m _uniqify_list(stones_tuple)] \u001b[39m+\u001b[39;49m\n\u001b[0;32m    250\u001b[0m                               [(\u001b[39mTrue\u001b[39;49;00m, color_vn[j])])\n\u001b[0;32m    252\u001b[0m \u001b[39mif\u001b[39;00m D\u001b[39m.\u001b[39mout_degree(v) \u001b[39m==\u001b[39m \u001b[39m0\u001b[39m:  \u001b[39m#the sink\u001b[39;00m\n\u001b[0;32m    253\u001b[0m     \u001b[39mfor\u001b[39;00m j \u001b[39min\u001b[39;00m stones:\n",
      "File \u001b[1;32mc:\\Users\\robin\\Documents\\Cours\\Poly\\Recherche\\FIBI_Recherche\\venv\\lib\\site-packages\\cnfgen\\cnf.py:420\u001b[0m, in \u001b[0;36mCNF.add_clause_unsafe\u001b[1;34m(self, clause)\u001b[0m\n\u001b[0;32m    394\u001b[0m \u001b[39mdef\u001b[39;00m \u001b[39madd_clause_unsafe\u001b[39m(\u001b[39mself\u001b[39m, clause):\n\u001b[0;32m    395\u001b[0m     \u001b[39m\"\"\"Add a clause without checking input\u001b[39;00m\n\u001b[0;32m    396\u001b[0m \n\u001b[0;32m    397\u001b[0m \u001b[39m    This is logically equivalent to :py:meth:`CNF.add_clause`\u001b[39;00m\n\u001b[1;32m   (...)\u001b[0m\n\u001b[0;32m    418\u001b[0m \u001b[39m        if the clause contains a variable which was not added to the formula before.\u001b[39;00m\n\u001b[0;32m    419\u001b[0m \u001b[39m    \"\"\"\u001b[39;00m\n\u001b[1;32m--> 420\u001b[0m     \u001b[39mself\u001b[39m\u001b[39m.\u001b[39m_clauses\u001b[39m.\u001b[39mappend(\u001b[39mself\u001b[39;49m\u001b[39m.\u001b[39;49m_compress_clause(clause))\n",
      "File \u001b[1;32mc:\\Users\\robin\\Documents\\Cours\\Poly\\Recherche\\FIBI_Recherche\\venv\\lib\\site-packages\\cnfgen\\cnf.py:176\u001b[0m, in \u001b[0;36mCNF._compress_clause\u001b[1;34m(self, clause)\u001b[0m\n\u001b[0;32m    149\u001b[0m \u001b[39m\"\"\"Convert a clause to its numeric representation.\u001b[39;00m\n\u001b[0;32m    150\u001b[0m \n\u001b[0;32m    151\u001b[0m \u001b[39mFor reason of efficiency, clauses are memorized as tuples of\u001b[39;00m\n\u001b[1;32m   (...)\u001b[0m\n\u001b[0;32m    173\u001b[0m \n\u001b[0;32m    174\u001b[0m \u001b[39m\"\"\"\u001b[39;00m\n\u001b[0;32m    175\u001b[0m \u001b[39mtry\u001b[39;00m:\n\u001b[1;32m--> 176\u001b[0m     \u001b[39mreturn\u001b[39;00m \u001b[39mtuple\u001b[39;49m(\n\u001b[0;32m    177\u001b[0m         (\u001b[39m1\u001b[39;49m \u001b[39mif\u001b[39;49;00m p \u001b[39melse\u001b[39;49;00m \u001b[39m-\u001b[39;49m\u001b[39m1\u001b[39;49m) \u001b[39m*\u001b[39;49m \u001b[39mself\u001b[39;49m\u001b[39m.\u001b[39;49m_name2index[n] \u001b[39mfor\u001b[39;49;00m p, n \u001b[39min\u001b[39;49;00m clause)\n\u001b[0;32m    178\u001b[0m \u001b[39mexcept\u001b[39;00m \u001b[39mTypeError\u001b[39;00m:\n\u001b[0;32m    179\u001b[0m     \u001b[39mraise\u001b[39;00m \u001b[39mTypeError\u001b[39;00m(\u001b[39m\"\u001b[39m\u001b[39m{}\u001b[39;00m\u001b[39m is not a well formatted clause\u001b[39m\u001b[39m\"\u001b[39m\u001b[39m.\u001b[39mformat(clause))\n",
      "File \u001b[1;32mc:\\Users\\robin\\Documents\\Cours\\Poly\\Recherche\\FIBI_Recherche\\venv\\lib\\site-packages\\cnfgen\\cnf.py:177\u001b[0m, in \u001b[0;36m<genexpr>\u001b[1;34m(.0)\u001b[0m\n\u001b[0;32m    149\u001b[0m \u001b[39m\"\"\"Convert a clause to its numeric representation.\u001b[39;00m\n\u001b[0;32m    150\u001b[0m \n\u001b[0;32m    151\u001b[0m \u001b[39mFor reason of efficiency, clauses are memorized as tuples of\u001b[39;00m\n\u001b[1;32m   (...)\u001b[0m\n\u001b[0;32m    173\u001b[0m \n\u001b[0;32m    174\u001b[0m \u001b[39m\"\"\"\u001b[39;00m\n\u001b[0;32m    175\u001b[0m \u001b[39mtry\u001b[39;00m:\n\u001b[0;32m    176\u001b[0m     \u001b[39mreturn\u001b[39;00m \u001b[39mtuple\u001b[39m(\n\u001b[1;32m--> 177\u001b[0m         (\u001b[39m1\u001b[39m \u001b[39mif\u001b[39;00m p \u001b[39melse\u001b[39;00m \u001b[39m-\u001b[39m\u001b[39m1\u001b[39m) \u001b[39m*\u001b[39m \u001b[39mself\u001b[39m\u001b[39m.\u001b[39m_name2index[n] \u001b[39mfor\u001b[39;00m p, n \u001b[39min\u001b[39;00m clause)\n\u001b[0;32m    178\u001b[0m \u001b[39mexcept\u001b[39;00m \u001b[39mTypeError\u001b[39;00m:\n\u001b[0;32m    179\u001b[0m     \u001b[39mraise\u001b[39;00m \u001b[39mTypeError\u001b[39;00m(\u001b[39m\"\u001b[39m\u001b[39m{}\u001b[39;00m\u001b[39m is not a well formatted clause\u001b[39m\u001b[39m\"\u001b[39m\u001b[39m.\u001b[39mformat(clause))\n",
      "\u001b[1;31mKeyboardInterrupt\u001b[0m: "
     ]
    }
   ],
   "source": [
    "Lnodes = list(range(10,51,10))\n",
    "Lstones = list(range(2,20,3))\n",
    "for i,n_nodes in enumerate(Lnodes):\n",
    "    for n_stones in (Lstones):\n",
    "        G = nx.gnp_random_graph(n_nodes, p=0.5,directed = True,seed=random.randint(0,1000))\n",
    "        DAG = nx.DiGraph([(u,v,{'weight':random.randint(-10,10)}) for (u,v) in G.edges() if u<v])\n",
    "        F = StoneFormula(DAG,n_stones)\n",
    "        res = str(stats(F,print_res=True))\n",
    "    print('-'*10)"
   ]
  },
  {
   "attachments": {},
   "cell_type": "markdown",
   "metadata": {},
   "source": [
    "**Generation trop longue et trop de variations**"
   ]
  },
  {
   "attachments": {},
   "cell_type": "markdown",
   "metadata": {},
   "source": [
    "## BinaryPigeonholePrinciple"
   ]
  },
  {
   "cell_type": "code",
   "execution_count": 77,
   "metadata": {},
   "outputs": [
    {
     "name": "stdout",
     "output_type": "stream",
     "text": [
      "n_vars: 50, n_clauses: 2450\n",
      "n_vars: 150, n_clauses: 6275\n",
      "n_vars: 150, n_clauses: 9800\n",
      "----------\n",
      "n_vars: 100, n_clauses: 9900\n",
      "n_vars: 300, n_clauses: 25050\n",
      "n_vars: 300, n_clauses: 39600\n",
      "----------\n",
      "n_vars: 150, n_clauses: 22350\n",
      "n_vars: 450, n_clauses: 56325\n",
      "n_vars: 450, n_clauses: 89400\n",
      "----------\n",
      "n_vars: 200, n_clauses: 39800\n",
      "n_vars: 600, n_clauses: 100100\n",
      "n_vars: 600, n_clauses: 159200\n",
      "----------\n",
      "n_vars: 250, n_clauses: 62250\n",
      "n_vars: 750, n_clauses: 156375\n",
      "n_vars: 750, n_clauses: 249000\n",
      "----------\n",
      "n_vars: 300, n_clauses: 89700\n",
      "n_vars: 900, n_clauses: 225150\n",
      "n_vars: 900, n_clauses: 358800\n",
      "----------\n",
      "n_vars: 350, n_clauses: 122150\n",
      "n_vars: 1050, n_clauses: 306425\n",
      "n_vars: 1050, n_clauses: 488600\n",
      "----------\n",
      "n_vars: 400, n_clauses: 159600\n",
      "n_vars: 1200, n_clauses: 400200\n",
      "n_vars: 1200, n_clauses: 638400\n",
      "----------\n",
      "n_vars: 450, n_clauses: 202050\n",
      "n_vars: 1350, n_clauses: 506475\n",
      "n_vars: 1350, n_clauses: 808200\n",
      "----------\n",
      "n_vars: 500, n_clauses: 249500\n",
      "n_vars: 1500, n_clauses: 625250\n",
      "n_vars: 1500, n_clauses: 998000\n",
      "----------\n"
     ]
    }
   ],
   "source": [
    "Lpigeons = list(range(50,501,50))\n",
    "Lholes = list(range(2,11,3))\n",
    "for i,n_pigeons in enumerate(Lpigeons):\n",
    "    for n_holes in (Lholes):\n",
    "        F = BinaryPigeonholePrinciple(n_pigeons,n_holes)\n",
    "        res = str(stats(F,print_res=True))\n",
    "    print('-'*10)"
   ]
  },
  {
   "attachments": {},
   "cell_type": "markdown",
   "metadata": {},
   "source": [
    "**Semble impossible d'obtenir nombre dev ariables et de clauses entre [1000,5000]**"
   ]
  },
  {
   "attachments": {},
   "cell_type": "markdown",
   "metadata": {},
   "source": [
    "## PigeonholePrinciple"
   ]
  },
  {
   "cell_type": "code",
   "execution_count": 78,
   "metadata": {},
   "outputs": [
    {
     "name": "stdout",
     "output_type": "stream",
     "text": [
      "n_vars: 100, n_clauses: 2500\n",
      "n_vars: 250, n_clauses: 6175\n",
      "n_vars: 400, n_clauses: 9850\n",
      "----------\n",
      "n_vars: 200, n_clauses: 10000\n",
      "n_vars: 500, n_clauses: 24850\n",
      "n_vars: 800, n_clauses: 39700\n",
      "----------\n",
      "n_vars: 300, n_clauses: 22500\n",
      "n_vars: 750, n_clauses: 56025\n",
      "n_vars: 1200, n_clauses: 89550\n",
      "----------\n",
      "n_vars: 400, n_clauses: 40000\n",
      "n_vars: 1000, n_clauses: 99700\n",
      "n_vars: 1600, n_clauses: 159400\n",
      "----------\n",
      "n_vars: 500, n_clauses: 62500\n",
      "n_vars: 1250, n_clauses: 155875\n",
      "n_vars: 2000, n_clauses: 249250\n",
      "----------\n",
      "n_vars: 600, n_clauses: 90000\n",
      "n_vars: 1500, n_clauses: 224550\n",
      "n_vars: 2400, n_clauses: 359100\n",
      "----------\n",
      "n_vars: 700, n_clauses: 122500\n",
      "n_vars: 1750, n_clauses: 305725\n",
      "n_vars: 2800, n_clauses: 488950\n",
      "----------\n",
      "n_vars: 800, n_clauses: 160000\n",
      "n_vars: 2000, n_clauses: 399400\n",
      "n_vars: 3200, n_clauses: 638800\n",
      "----------\n",
      "n_vars: 900, n_clauses: 202500\n",
      "n_vars: 2250, n_clauses: 505575\n"
     ]
    },
    {
     "ename": "KeyboardInterrupt",
     "evalue": "",
     "output_type": "error",
     "traceback": [
      "\u001b[1;31m---------------------------------------------------------------------------\u001b[0m",
      "\u001b[1;31mKeyboardInterrupt\u001b[0m                         Traceback (most recent call last)",
      "\u001b[1;32mc:\\Users\\robin\\Documents\\Cours\\Poly\\Recherche\\FIBI_Recherche\\FIBI\\get_datasets\\maxsat\\benchmark2.ipynb Cell 40\u001b[0m in \u001b[0;36m<cell line: 3>\u001b[1;34m()\u001b[0m\n\u001b[0;32m      <a href='vscode-notebook-cell:/c%3A/Users/robin/Documents/Cours/Poly/Recherche/FIBI_Recherche/FIBI/get_datasets/maxsat/benchmark2.ipynb#X65sZmlsZQ%3D%3D?line=2'>3</a>\u001b[0m \u001b[39mfor\u001b[39;00m i,n_pigeons \u001b[39min\u001b[39;00m \u001b[39menumerate\u001b[39m(Lpigeons):\n\u001b[0;32m      <a href='vscode-notebook-cell:/c%3A/Users/robin/Documents/Cours/Poly/Recherche/FIBI_Recherche/FIBI/get_datasets/maxsat/benchmark2.ipynb#X65sZmlsZQ%3D%3D?line=3'>4</a>\u001b[0m     \u001b[39mfor\u001b[39;00m n_holes \u001b[39min\u001b[39;00m (Lholes):\n\u001b[1;32m----> <a href='vscode-notebook-cell:/c%3A/Users/robin/Documents/Cours/Poly/Recherche/FIBI_Recherche/FIBI/get_datasets/maxsat/benchmark2.ipynb#X65sZmlsZQ%3D%3D?line=4'>5</a>\u001b[0m         F \u001b[39m=\u001b[39m PigeonholePrinciple(n_pigeons,n_holes)\n\u001b[0;32m      <a href='vscode-notebook-cell:/c%3A/Users/robin/Documents/Cours/Poly/Recherche/FIBI_Recherche/FIBI/get_datasets/maxsat/benchmark2.ipynb#X65sZmlsZQ%3D%3D?line=5'>6</a>\u001b[0m         res \u001b[39m=\u001b[39m \u001b[39mstr\u001b[39m(stats(F,print_res\u001b[39m=\u001b[39m\u001b[39mTrue\u001b[39;00m))\n\u001b[0;32m      <a href='vscode-notebook-cell:/c%3A/Users/robin/Documents/Cours/Poly/Recherche/FIBI_Recherche/FIBI/get_datasets/maxsat/benchmark2.ipynb#X65sZmlsZQ%3D%3D?line=6'>7</a>\u001b[0m     \u001b[39mprint\u001b[39m(\u001b[39m'\u001b[39m\u001b[39m-\u001b[39m\u001b[39m'\u001b[39m\u001b[39m*\u001b[39m\u001b[39m10\u001b[39m)\n",
      "File \u001b[1;32mc:\\Users\\robin\\Documents\\Cours\\Poly\\Recherche\\FIBI_Recherche\\venv\\lib\\site-packages\\cnfgen\\families\\pigeonhole.py:91\u001b[0m, in \u001b[0;36mPigeonholePrinciple\u001b[1;34m(pigeons, holes, functional, onto)\u001b[0m\n\u001b[0;32m     88\u001b[0m     php\u001b[39m.\u001b[39madd_variable(v)\n\u001b[0;32m     90\u001b[0m \u001b[39mfor\u001b[39;00m c \u001b[39min\u001b[39;00m mapping\u001b[39m.\u001b[39mclauses():\n\u001b[1;32m---> 91\u001b[0m     php\u001b[39m.\u001b[39;49madd_clause_unsafe(c)\n\u001b[0;32m     93\u001b[0m \u001b[39mreturn\u001b[39;00m php\n",
      "File \u001b[1;32mc:\\Users\\robin\\Documents\\Cours\\Poly\\Recherche\\FIBI_Recherche\\venv\\lib\\site-packages\\cnfgen\\cnf.py:420\u001b[0m, in \u001b[0;36mCNF.add_clause_unsafe\u001b[1;34m(self, clause)\u001b[0m\n\u001b[0;32m    394\u001b[0m \u001b[39mdef\u001b[39;00m \u001b[39madd_clause_unsafe\u001b[39m(\u001b[39mself\u001b[39m, clause):\n\u001b[0;32m    395\u001b[0m     \u001b[39m\"\"\"Add a clause without checking input\u001b[39;00m\n\u001b[0;32m    396\u001b[0m \n\u001b[0;32m    397\u001b[0m \u001b[39m    This is logically equivalent to :py:meth:`CNF.add_clause`\u001b[39;00m\n\u001b[1;32m   (...)\u001b[0m\n\u001b[0;32m    418\u001b[0m \u001b[39m        if the clause contains a variable which was not added to the formula before.\u001b[39;00m\n\u001b[0;32m    419\u001b[0m \u001b[39m    \"\"\"\u001b[39;00m\n\u001b[1;32m--> 420\u001b[0m     \u001b[39mself\u001b[39m\u001b[39m.\u001b[39m_clauses\u001b[39m.\u001b[39mappend(\u001b[39mself\u001b[39;49m\u001b[39m.\u001b[39;49m_compress_clause(clause))\n",
      "File \u001b[1;32mc:\\Users\\robin\\Documents\\Cours\\Poly\\Recherche\\FIBI_Recherche\\venv\\lib\\site-packages\\cnfgen\\cnf.py:176\u001b[0m, in \u001b[0;36mCNF._compress_clause\u001b[1;34m(self, clause)\u001b[0m\n\u001b[0;32m    149\u001b[0m \u001b[39m\"\"\"Convert a clause to its numeric representation.\u001b[39;00m\n\u001b[0;32m    150\u001b[0m \n\u001b[0;32m    151\u001b[0m \u001b[39mFor reason of efficiency, clauses are memorized as tuples of\u001b[39;00m\n\u001b[1;32m   (...)\u001b[0m\n\u001b[0;32m    173\u001b[0m \n\u001b[0;32m    174\u001b[0m \u001b[39m\"\"\"\u001b[39;00m\n\u001b[0;32m    175\u001b[0m \u001b[39mtry\u001b[39;00m:\n\u001b[1;32m--> 176\u001b[0m     \u001b[39mreturn\u001b[39;00m \u001b[39mtuple\u001b[39m(\n\u001b[0;32m    177\u001b[0m         (\u001b[39m1\u001b[39m \u001b[39mif\u001b[39;00m p \u001b[39melse\u001b[39;00m \u001b[39m-\u001b[39m\u001b[39m1\u001b[39m) \u001b[39m*\u001b[39m \u001b[39mself\u001b[39m\u001b[39m.\u001b[39m_name2index[n] \u001b[39mfor\u001b[39;00m p, n \u001b[39min\u001b[39;00m clause)\n\u001b[0;32m    178\u001b[0m \u001b[39mexcept\u001b[39;00m \u001b[39mTypeError\u001b[39;00m:\n\u001b[0;32m    179\u001b[0m     \u001b[39mraise\u001b[39;00m \u001b[39mTypeError\u001b[39;00m(\u001b[39m\"\u001b[39m\u001b[39m{}\u001b[39;00m\u001b[39m is not a well formatted clause\u001b[39m\u001b[39m\"\u001b[39m\u001b[39m.\u001b[39mformat(clause))\n",
      "\u001b[1;31mKeyboardInterrupt\u001b[0m: "
     ]
    }
   ],
   "source": [
    "Lpigeons = list(range(50,501,50))\n",
    "Lholes = list(range(2,11,3))\n",
    "for i,n_pigeons in enumerate(Lpigeons):\n",
    "    for n_holes in (Lholes):\n",
    "        F = PigeonholePrinciple(n_pigeons,n_holes)\n",
    "        res = str(stats(F,print_res=True))\n",
    "    print('-'*10)"
   ]
  },
  {
   "attachments": {},
   "cell_type": "markdown",
   "metadata": {},
   "source": [
    "**Explosion du nombre de clauses par rapport au nombre de variables, semble impossible d'obtenir un nombre de clauses et variables dans [1000,5000]**"
   ]
  },
  {
   "attachments": {},
   "cell_type": "markdown",
   "metadata": {},
   "source": [
    "## PitfallFormula"
   ]
  },
  {
   "cell_type": "code",
   "execution_count": 81,
   "metadata": {},
   "outputs": [
    {
     "ename": "ValueError",
     "evalue": "No regular 6-degree graph with 6-vertices exists.\nDegree d must less than the number v of vertices,\nand d*v must be even.",
     "output_type": "error",
     "traceback": [
      "\u001b[1;31m---------------------------------------------------------------------------\u001b[0m",
      "\u001b[1;31mNetworkXError\u001b[0m                             Traceback (most recent call last)",
      "File \u001b[1;32mc:\\Users\\robin\\Documents\\Cours\\Poly\\Recherche\\FIBI_Recherche\\venv\\lib\\site-packages\\cnfgen\\families\\pitfall.py:83\u001b[0m, in \u001b[0;36mPitfallFormula\u001b[1;34m(v, d, ny, nz, k)\u001b[0m\n\u001b[0;32m     82\u001b[0m \u001b[39mtry\u001b[39;00m:\n\u001b[1;32m---> 83\u001b[0m     graph \u001b[39m=\u001b[39m networkx\u001b[39m.\u001b[39;49mrandom_regular_graph(d, v)\n\u001b[0;32m     84\u001b[0m \u001b[39mexcept\u001b[39;00m networkx\u001b[39m.\u001b[39mexception\u001b[39m.\u001b[39mNetworkXError:\n",
      "File \u001b[1;32m<class 'networkx.utils.decorators.argmap'> compilation 28:4\u001b[0m, in \u001b[0;36margmap_random_regular_graph_25\u001b[1;34m(d, n, seed)\u001b[0m\n\u001b[0;32m      3\u001b[0m \u001b[39mimport\u001b[39;00m \u001b[39mgzip\u001b[39;00m\n\u001b[1;32m----> 4\u001b[0m \u001b[39mimport\u001b[39;00m \u001b[39minspect\u001b[39;00m\n\u001b[0;32m      5\u001b[0m \u001b[39mimport\u001b[39;00m \u001b[39mitertools\u001b[39;00m\n",
      "File \u001b[1;32mc:\\Users\\robin\\Documents\\Cours\\Poly\\Recherche\\FIBI_Recherche\\venv\\lib\\site-packages\\networkx\\generators\\random_graphs.py:533\u001b[0m, in \u001b[0;36mrandom_regular_graph\u001b[1;34m(d, n, seed)\u001b[0m\n\u001b[0;32m    532\u001b[0m \u001b[39mif\u001b[39;00m \u001b[39mnot\u001b[39;00m \u001b[39m0\u001b[39m \u001b[39m<\u001b[39m\u001b[39m=\u001b[39m d \u001b[39m<\u001b[39m n:\n\u001b[1;32m--> 533\u001b[0m     \u001b[39mraise\u001b[39;00m nx\u001b[39m.\u001b[39mNetworkXError(\u001b[39m\"\u001b[39m\u001b[39mthe 0 <= d < n inequality must be satisfied\u001b[39m\u001b[39m\"\u001b[39m)\n\u001b[0;32m    535\u001b[0m \u001b[39mif\u001b[39;00m d \u001b[39m==\u001b[39m \u001b[39m0\u001b[39m:\n",
      "\u001b[1;31mNetworkXError\u001b[0m: the 0 <= d < n inequality must be satisfied",
      "\nDuring handling of the above exception, another exception occurred:\n",
      "\u001b[1;31mValueError\u001b[0m                                Traceback (most recent call last)",
      "\u001b[1;32mc:\\Users\\robin\\Documents\\Cours\\Poly\\Recherche\\FIBI_Recherche\\FIBI\\get_datasets\\maxsat\\benchmark2.ipynb Cell 43\u001b[0m in \u001b[0;36m<cell line: 6>\u001b[1;34m()\u001b[0m\n\u001b[0;32m      <a href='vscode-notebook-cell:/c%3A/Users/robin/Documents/Cours/Poly/Recherche/FIBI_Recherche/FIBI/get_datasets/maxsat/benchmark2.ipynb#Y101sZmlsZQ%3D%3D?line=4'>5</a>\u001b[0m Lk \u001b[39m=\u001b[39m  \u001b[39mrange\u001b[39m(\u001b[39m2\u001b[39m, \u001b[39m100\u001b[39m, \u001b[39m10\u001b[39m)\n\u001b[0;32m      <a href='vscode-notebook-cell:/c%3A/Users/robin/Documents/Cours/Poly/Recherche/FIBI_Recherche/FIBI/get_datasets/maxsat/benchmark2.ipynb#Y101sZmlsZQ%3D%3D?line=5'>6</a>\u001b[0m \u001b[39mfor\u001b[39;00m v,d,ny,nz,k \u001b[39min\u001b[39;00m (\u001b[39mlist\u001b[39m(product(Lv,Ld,Lny,Lnz,Lk))):\n\u001b[1;32m----> <a href='vscode-notebook-cell:/c%3A/Users/robin/Documents/Cours/Poly/Recherche/FIBI_Recherche/FIBI/get_datasets/maxsat/benchmark2.ipynb#Y101sZmlsZQ%3D%3D?line=6'>7</a>\u001b[0m     F \u001b[39m=\u001b[39m PitfallFormula(v,d,ny,nz,k)\n\u001b[0;32m      <a href='vscode-notebook-cell:/c%3A/Users/robin/Documents/Cours/Poly/Recherche/FIBI_Recherche/FIBI/get_datasets/maxsat/benchmark2.ipynb#Y101sZmlsZQ%3D%3D?line=7'>8</a>\u001b[0m     \u001b[39mprint\u001b[39m(\u001b[39mf\u001b[39m\u001b[39m\"\u001b[39m\u001b[39mwith v=\u001b[39m\u001b[39m{\u001b[39;00mv\u001b[39m}\u001b[39;00m\u001b[39m, d=\u001b[39m\u001b[39m{\u001b[39;00md\u001b[39m}\u001b[39;00m\u001b[39m, ny=\u001b[39m\u001b[39m{\u001b[39;00mny\u001b[39m}\u001b[39;00m\u001b[39m, nz=\u001b[39m\u001b[39m{\u001b[39;00mnz\u001b[39m}\u001b[39;00m\u001b[39m, k=\u001b[39m\u001b[39m{\u001b[39;00mk\u001b[39m}\u001b[39;00m\u001b[39m, \u001b[39m\u001b[39m\"\u001b[39m,end\u001b[39m=\u001b[39m\u001b[39m\"\u001b[39m\u001b[39m\"\u001b[39m)\n\u001b[0;32m      <a href='vscode-notebook-cell:/c%3A/Users/robin/Documents/Cours/Poly/Recherche/FIBI_Recherche/FIBI/get_datasets/maxsat/benchmark2.ipynb#Y101sZmlsZQ%3D%3D?line=8'>9</a>\u001b[0m     res \u001b[39m=\u001b[39m \u001b[39mstr\u001b[39m(stats(F,print_res\u001b[39m=\u001b[39m\u001b[39mTrue\u001b[39;00m))\n",
      "File \u001b[1;32mc:\\Users\\robin\\Documents\\Cours\\Poly\\Recherche\\FIBI_Recherche\\venv\\lib\\site-packages\\cnfgen\\families\\pitfall.py:85\u001b[0m, in \u001b[0;36mPitfallFormula\u001b[1;34m(v, d, ny, nz, k)\u001b[0m\n\u001b[0;32m     83\u001b[0m         graph \u001b[39m=\u001b[39m networkx\u001b[39m.\u001b[39mrandom_regular_graph(d, v)\n\u001b[0;32m     84\u001b[0m     \u001b[39mexcept\u001b[39;00m networkx\u001b[39m.\u001b[39mexception\u001b[39m.\u001b[39mNetworkXError:\n\u001b[1;32m---> 85\u001b[0m         \u001b[39mraise\u001b[39;00m \u001b[39mValueError\u001b[39;00m(\u001b[39m\"\"\"\u001b[39m\u001b[39mNo regular \u001b[39m\u001b[39m{}\u001b[39;00m\u001b[39m-degree graph with \u001b[39m\u001b[39m{}\u001b[39;00m\u001b[39m-vertices exists.\u001b[39m\n\u001b[0;32m     86\u001b[0m \u001b[39mDegree d must less than the number v of vertices,\u001b[39m\n\u001b[0;32m     87\u001b[0m \u001b[39mand d*v must be even.\u001b[39m\u001b[39m\"\"\"\u001b[39m\u001b[39m.\u001b[39mformat(d, v))\n\u001b[0;32m     89\u001b[0m     charge \u001b[39m=\u001b[39m [\u001b[39m1\u001b[39m] \u001b[39m+\u001b[39m [\u001b[39m0\u001b[39m] \u001b[39m*\u001b[39m (v \u001b[39m-\u001b[39m \u001b[39m1\u001b[39m)\n\u001b[0;32m     90\u001b[0m     ts \u001b[39m=\u001b[39m TseitinFormula(graph, charge)\n",
      "\u001b[1;31mValueError\u001b[0m: No regular 6-degree graph with 6-vertices exists.\nDegree d must less than the number v of vertices,\nand d*v must be even."
     ]
    }
   ],
   "source": [
    "Lv = range(6, 100, 10)\n",
    "Ld = range(6, 100, 10)\n",
    "Lny = range(6, 100, 10)\n",
    "Lnz = range(6, 100, 10)\n",
    "Lk =  range(2, 100, 10)\n",
    "for v,d,ny,nz,k in (list(product(Lv,Ld,Lny,Lnz,Lk))):\n",
    "    F = PitfallFormula(v,d,ny,nz,k)\n",
    "    print(f\"with v={v}, d={d}, ny={ny}, nz={nz}, k={k}, \",end=\"\")\n",
    "    res = str(stats(F,print_res=True))\n",
    "    "
   ]
  },
  {
   "attachments": {},
   "cell_type": "markdown",
   "metadata": {},
   "source": [
    "## PythagoreanTriples"
   ]
  },
  {
   "cell_type": "code",
   "execution_count": 1,
   "metadata": {},
   "outputs": [
    {
     "ename": "NameError",
     "evalue": "name 'PythagoreanTriples' is not defined",
     "output_type": "error",
     "traceback": [
      "\u001b[1;31m---------------------------------------------------------------------------\u001b[0m",
      "\u001b[1;31mNameError\u001b[0m                                 Traceback (most recent call last)",
      "\u001b[1;32mc:\\Users\\robin\\Documents\\Cours\\Poly\\Recherche\\FIBI_Recherche\\FIBI\\get_datasets\\maxsat\\benchmark2.ipynb Cell 45\u001b[0m in \u001b[0;36m<cell line: 2>\u001b[1;34m()\u001b[0m\n\u001b[0;32m      <a href='vscode-notebook-cell:/c%3A/Users/robin/Documents/Cours/Poly/Recherche/FIBI_Recherche/FIBI/get_datasets/maxsat/benchmark2.ipynb#X61sZmlsZQ%3D%3D?line=0'>1</a>\u001b[0m Ln \u001b[39m=\u001b[39m \u001b[39mlist\u001b[39m(\u001b[39mrange\u001b[39m(\u001b[39m50\u001b[39m,\u001b[39m501\u001b[39m,\u001b[39m50\u001b[39m))\n\u001b[0;32m      <a href='vscode-notebook-cell:/c%3A/Users/robin/Documents/Cours/Poly/Recherche/FIBI_Recherche/FIBI/get_datasets/maxsat/benchmark2.ipynb#X61sZmlsZQ%3D%3D?line=1'>2</a>\u001b[0m \u001b[39mfor\u001b[39;00m i,n \u001b[39min\u001b[39;00m \u001b[39menumerate\u001b[39m(Ln):\n\u001b[1;32m----> <a href='vscode-notebook-cell:/c%3A/Users/robin/Documents/Cours/Poly/Recherche/FIBI_Recherche/FIBI/get_datasets/maxsat/benchmark2.ipynb#X61sZmlsZQ%3D%3D?line=2'>3</a>\u001b[0m     F \u001b[39m=\u001b[39m PythagoreanTriples(n)\n\u001b[0;32m      <a href='vscode-notebook-cell:/c%3A/Users/robin/Documents/Cours/Poly/Recherche/FIBI_Recherche/FIBI/get_datasets/maxsat/benchmark2.ipynb#X61sZmlsZQ%3D%3D?line=3'>4</a>\u001b[0m     res \u001b[39m=\u001b[39m \u001b[39mstr\u001b[39m(stats(F,print_res\u001b[39m=\u001b[39m\u001b[39mTrue\u001b[39;00m))\n",
      "\u001b[1;31mNameError\u001b[0m: name 'PythagoreanTriples' is not defined"
     ]
    }
   ],
   "source": [
    "Lk = list(range(50,501,50))\n",
    "Ln = list(range(50,501,50))\n",
    "Lm = list(range(50,501,50))\n",
    "for k,n,m in (list(product(Lk,Ln,Lm))):\n",
    "    F = RandomKCNF(random.randint(1,100),n,m)\n",
    "    res = str(stats(F,print_res=True))\n",
    "    "
   ]
  },
  {
   "attachments": {},
   "cell_type": "markdown",
   "metadata": {},
   "source": [
    "## KCNF"
   ]
  },
  {
   "attachments": {},
   "cell_type": "markdown",
   "metadata": {},
   "source": [
    "Generation possible mais trop simples.\n",
    "Augmenter la taille des clauses n'est pas une bonne idée car l'assigment les rend sat tout le temps après.\n",
    "(avec 100 var par clauses Pr(non-sat, clause_i) = (1-0.5)^100)"
   ]
  },
  {
   "cell_type": "code",
   "execution_count": 6,
   "metadata": {},
   "outputs": [
    {
     "name": "stdout",
     "output_type": "stream",
     "text": [
      "n_vars: 70, n_clauses: 445780\n"
     ]
    },
    {
     "ename": "KeyboardInterrupt",
     "evalue": "",
     "output_type": "error",
     "traceback": [
      "\u001b[1;31m---------------------------------------------------------------------------\u001b[0m",
      "\u001b[1;31mKeyboardInterrupt\u001b[0m                         Traceback (most recent call last)",
      "\u001b[1;32mc:\\Users\\robin\\Documents\\Cours\\Poly\\Recherche\\FIBI_Recherche\\FIBI\\get_datasets\\maxsat\\benchmark2.ipynb Cell 48\u001b[0m in \u001b[0;36m<cell line: 4>\u001b[1;34m()\u001b[0m\n\u001b[0;32m      <a href='vscode-notebook-cell:/c%3A/Users/robin/Documents/Cours/Poly/Recherche/FIBI_Recherche/FIBI/get_datasets/maxsat/benchmark2.ipynb#X65sZmlsZQ%3D%3D?line=5'>6</a>\u001b[0m \u001b[39mfor\u001b[39;00m c \u001b[39min\u001b[39;00m clique_size:\n\u001b[0;32m      <a href='vscode-notebook-cell:/c%3A/Users/robin/Documents/Cours/Poly/Recherche/FIBI_Recherche/FIBI/get_datasets/maxsat/benchmark2.ipynb#X65sZmlsZQ%3D%3D?line=6'>7</a>\u001b[0m     G \u001b[39m=\u001b[39m nx\u001b[39m.\u001b[39mgnm_random_graph(n_nodes, n_edges,seed\u001b[39m=\u001b[39mrandom\u001b[39m.\u001b[39mrandint(\u001b[39m0\u001b[39m,\u001b[39m1000\u001b[39m))\n\u001b[1;32m----> <a href='vscode-notebook-cell:/c%3A/Users/robin/Documents/Cours/Poly/Recherche/FIBI_Recherche/FIBI/get_datasets/maxsat/benchmark2.ipynb#X65sZmlsZQ%3D%3D?line=7'>8</a>\u001b[0m     F \u001b[39m=\u001b[39m BinaryCliqueFormula(G,c)\n\u001b[0;32m      <a href='vscode-notebook-cell:/c%3A/Users/robin/Documents/Cours/Poly/Recherche/FIBI_Recherche/FIBI/get_datasets/maxsat/benchmark2.ipynb#X65sZmlsZQ%3D%3D?line=8'>9</a>\u001b[0m     res \u001b[39m=\u001b[39m \u001b[39mstr\u001b[39m(stats(F,print_res\u001b[39m=\u001b[39m\u001b[39mTrue\u001b[39;00m))\n",
      "File \u001b[1;32mc:\\Users\\robin\\Documents\\Cours\\Poly\\Recherche\\FIBI_Recherche\\venv\\lib\\site-packages\\cnfgen\\families\\subgraph.py:211\u001b[0m, in \u001b[0;36mBinaryCliqueFormula\u001b[1;34m(G, k)\u001b[0m\n\u001b[0;32m    208\u001b[0m     F\u001b[39m.\u001b[39madd_variable(v)\n\u001b[0;32m    210\u001b[0m \u001b[39mfor\u001b[39;00m c \u001b[39min\u001b[39;00m clauses_gen\u001b[39m.\u001b[39mclauses():\n\u001b[1;32m--> 211\u001b[0m     F\u001b[39m.\u001b[39;49madd_clause(c, strict\u001b[39m=\u001b[39;49m\u001b[39mTrue\u001b[39;49;00m)\n\u001b[0;32m    213\u001b[0m \u001b[39mfor\u001b[39;00m (i1, i2), (v1, v2) \u001b[39min\u001b[39;00m product(combinations(\u001b[39mrange\u001b[39m(\u001b[39m1\u001b[39m, k \u001b[39m+\u001b[39m \u001b[39m1\u001b[39m), \u001b[39m2\u001b[39m),\n\u001b[0;32m    214\u001b[0m                                   combinations(G\u001b[39m.\u001b[39mnodes(), \u001b[39m2\u001b[39m)):\n\u001b[0;32m    216\u001b[0m     \u001b[39mif\u001b[39;00m \u001b[39mnot\u001b[39;00m G\u001b[39m.\u001b[39mhas_edge(v1, v2):\n",
      "File \u001b[1;32mc:\\Users\\robin\\Documents\\Cours\\Poly\\Recherche\\FIBI_Recherche\\venv\\lib\\site-packages\\cnfgen\\cnf.py:371\u001b[0m, in \u001b[0;36mCNF.add_clause\u001b[1;34m(self, clause, literal_repetitions, opposite_literals, auto_variables, strict)\u001b[0m\n\u001b[0;32m    369\u001b[0m \u001b[39mif\u001b[39;00m \u001b[39mnot\u001b[39;00m opposite_literals:\n\u001b[0;32m    370\u001b[0m     \u001b[39mtry\u001b[39;00m:\n\u001b[1;32m--> 371\u001b[0m         positive \u001b[39m=\u001b[39m \u001b[39mset\u001b[39m([v \u001b[39mfor\u001b[39;00m (p, v) \u001b[39min\u001b[39;00m clause \u001b[39mif\u001b[39;00m p])\n\u001b[0;32m    372\u001b[0m         negative \u001b[39m=\u001b[39m \u001b[39mset\u001b[39m([v \u001b[39mfor\u001b[39;00m (p, v) \u001b[39min\u001b[39;00m clause \u001b[39mif\u001b[39;00m \u001b[39mnot\u001b[39;00m p])\n\u001b[0;32m    373\u001b[0m     \u001b[39mexcept\u001b[39;00m \u001b[39mTypeError\u001b[39;00m:\n",
      "File \u001b[1;32mc:\\Users\\robin\\Documents\\Cours\\Poly\\Recherche\\FIBI_Recherche\\venv\\lib\\site-packages\\cnfgen\\cnf.py:371\u001b[0m, in \u001b[0;36m<listcomp>\u001b[1;34m(.0)\u001b[0m\n\u001b[0;32m    369\u001b[0m \u001b[39mif\u001b[39;00m \u001b[39mnot\u001b[39;00m opposite_literals:\n\u001b[0;32m    370\u001b[0m     \u001b[39mtry\u001b[39;00m:\n\u001b[1;32m--> 371\u001b[0m         positive \u001b[39m=\u001b[39m \u001b[39mset\u001b[39m([v \u001b[39mfor\u001b[39;00m (p, v) \u001b[39min\u001b[39;00m clause \u001b[39mif\u001b[39;00m p])\n\u001b[0;32m    372\u001b[0m         negative \u001b[39m=\u001b[39m \u001b[39mset\u001b[39m([v \u001b[39mfor\u001b[39;00m (p, v) \u001b[39min\u001b[39;00m clause \u001b[39mif\u001b[39;00m \u001b[39mnot\u001b[39;00m p])\n\u001b[0;32m    373\u001b[0m     \u001b[39mexcept\u001b[39;00m \u001b[39mTypeError\u001b[39;00m:\n",
      "\u001b[1;31mKeyboardInterrupt\u001b[0m: "
     ]
    }
   ],
   "source": [
    "Lnodes = list(range(100,501,100))\n",
    "Ledges = list(range(100,501,100))\n",
    "clique_size = list(range(10,51,10))\n",
    "for i,n_nodes in enumerate(Lnodes):\n",
    "    for n_edges in (Ledges):\n",
    "        for c in clique_size:\n",
    "            G = nx.gnm_random_graph(n_nodes, n_edges,seed=random.randint(0,1000))\n",
    "            F = BinaryCliqueFormula(G,c)\n",
    "            res = str(stats(F,print_res=True))\n",
    "        \n"
   ]
  },
  {
   "cell_type": "code",
   "execution_count": 8,
   "metadata": {},
   "outputs": [
    {
     "name": "stdout",
     "output_type": "stream",
     "text": [
      "n_vars: 5350, n_clauses: 30002\n",
      "n_vars: 5450, n_clauses: 35152\n",
      "n_vars: 5550, n_clauses: 40402\n",
      "n_vars: 5650, n_clauses: 45752\n",
      "n_vars: 5750, n_clauses: 51202\n",
      "n_vars: 5850, n_clauses: 56752\n",
      "n_vars: 5950, n_clauses: 62402\n",
      "n_vars: 6050, n_clauses: 68152\n",
      "n_vars: 6350, n_clauses: 729512\n"
     ]
    },
    {
     "ename": "KeyboardInterrupt",
     "evalue": "",
     "output_type": "error",
     "traceback": [
      "\u001b[1;31m---------------------------------------------------------------------------\u001b[0m",
      "\u001b[1;31mKeyboardInterrupt\u001b[0m                         Traceback (most recent call last)",
      "\u001b[1;32mc:\\Users\\robin\\Documents\\Cours\\Poly\\Recherche\\FIBI_Recherche\\FIBI\\get_datasets\\maxsat\\benchmark2.ipynb Cell 49\u001b[0m in \u001b[0;36m<cell line: 4>\u001b[1;34m()\u001b[0m\n\u001b[0;32m      <a href='vscode-notebook-cell:/c%3A/Users/robin/Documents/Cours/Poly/Recherche/FIBI_Recherche/FIBI/get_datasets/maxsat/benchmark2.ipynb#X63sZmlsZQ%3D%3D?line=5'>6</a>\u001b[0m \u001b[39mfor\u001b[39;00m co \u001b[39min\u001b[39;00m (colorings):\n\u001b[0;32m      <a href='vscode-notebook-cell:/c%3A/Users/robin/Documents/Cours/Poly/Recherche/FIBI_Recherche/FIBI/get_datasets/maxsat/benchmark2.ipynb#X63sZmlsZQ%3D%3D?line=6'>7</a>\u001b[0m     F \u001b[39m=\u001b[39m CliqueColoring(n_nodes, c, co)\n\u001b[1;32m----> <a href='vscode-notebook-cell:/c%3A/Users/robin/Documents/Cours/Poly/Recherche/FIBI_Recherche/FIBI/get_datasets/maxsat/benchmark2.ipynb#X63sZmlsZQ%3D%3D?line=7'>8</a>\u001b[0m     res \u001b[39m=\u001b[39m \u001b[39mstr\u001b[39m(stats(F,print_res\u001b[39m=\u001b[39;49m\u001b[39mTrue\u001b[39;49;00m))\n",
      "\u001b[1;32mc:\\Users\\robin\\Documents\\Cours\\Poly\\Recherche\\FIBI_Recherche\\FIBI\\get_datasets\\maxsat\\benchmark2.ipynb Cell 49\u001b[0m in \u001b[0;36mstats\u001b[1;34m(F, print_res)\u001b[0m\n\u001b[0;32m     <a href='vscode-notebook-cell:/c%3A/Users/robin/Documents/Cours/Poly/Recherche/FIBI_Recherche/FIBI/get_datasets/maxsat/benchmark2.ipynb#X63sZmlsZQ%3D%3D?line=14'>15</a>\u001b[0m \u001b[39mdef\u001b[39;00m \u001b[39mstats\u001b[39m(F,print_res: \u001b[39mbool\u001b[39m \u001b[39m=\u001b[39m \u001b[39mFalse\u001b[39;00m):\n\u001b[0;32m     <a href='vscode-notebook-cell:/c%3A/Users/robin/Documents/Cours/Poly/Recherche/FIBI_Recherche/FIBI/get_datasets/maxsat/benchmark2.ipynb#X63sZmlsZQ%3D%3D?line=15'>16</a>\u001b[0m     \u001b[39mvars\u001b[39m \u001b[39m=\u001b[39m \u001b[39mlist\u001b[39m(F\u001b[39m.\u001b[39mvariables())\n\u001b[1;32m---> <a href='vscode-notebook-cell:/c%3A/Users/robin/Documents/Cours/Poly/Recherche/FIBI_Recherche/FIBI/get_datasets/maxsat/benchmark2.ipynb#X63sZmlsZQ%3D%3D?line=16'>17</a>\u001b[0m     clauses \u001b[39m=\u001b[39m \u001b[39mlist\u001b[39;49m(F\u001b[39m.\u001b[39;49mclauses())\n\u001b[0;32m     <a href='vscode-notebook-cell:/c%3A/Users/robin/Documents/Cours/Poly/Recherche/FIBI_Recherche/FIBI/get_datasets/maxsat/benchmark2.ipynb#X63sZmlsZQ%3D%3D?line=17'>18</a>\u001b[0m     n_vars \u001b[39m=\u001b[39m \u001b[39mlen\u001b[39m(\u001b[39mvars\u001b[39m)\n\u001b[0;32m     <a href='vscode-notebook-cell:/c%3A/Users/robin/Documents/Cours/Poly/Recherche/FIBI_Recherche/FIBI/get_datasets/maxsat/benchmark2.ipynb#X63sZmlsZQ%3D%3D?line=18'>19</a>\u001b[0m     n_clauses \u001b[39m=\u001b[39m \u001b[39mlen\u001b[39m(clauses)\n",
      "File \u001b[1;32mc:\\Users\\robin\\Documents\\Cours\\Poly\\Recherche\\FIBI_Recherche\\venv\\lib\\site-packages\\cnfgen\\cnf.py:114\u001b[0m, in \u001b[0;36mCNF.__iter__\u001b[1;34m(self)\u001b[0m\n\u001b[0;32m    111\u001b[0m \u001b[39m\"\"\"Iterates over all clauses of the CNF\u001b[39;00m\n\u001b[0;32m    112\u001b[0m \u001b[39m\"\"\"\u001b[39;00m\n\u001b[0;32m    113\u001b[0m \u001b[39mfor\u001b[39;00m \u001b[39mcls\u001b[39m \u001b[39min\u001b[39;00m \u001b[39mself\u001b[39m\u001b[39m.\u001b[39m_clauses:\n\u001b[1;32m--> 114\u001b[0m     \u001b[39myield\u001b[39;00m \u001b[39mself\u001b[39;49m\u001b[39m.\u001b[39;49m_uncompress_clause(\u001b[39mcls\u001b[39;49m)\n",
      "File \u001b[1;32mc:\\Users\\robin\\Documents\\Cours\\Poly\\Recherche\\FIBI_Recherche\\venv\\lib\\site-packages\\cnfgen\\cnf.py:146\u001b[0m, in \u001b[0;36mCNF._uncompress_clause\u001b[1;34m(self, clause)\u001b[0m\n\u001b[0;32m    135\u001b[0m \u001b[39mdef\u001b[39;00m \u001b[39m_uncompress_clause\u001b[39m(\u001b[39mself\u001b[39m, clause):\n\u001b[0;32m    136\u001b[0m     \u001b[39m\"\"\"(INTERNAL USE) Uncompress a clause from the numeric representation.\u001b[39;00m\n\u001b[0;32m    137\u001b[0m \n\u001b[0;32m    138\u001b[0m \u001b[39m    Arguments:\u001b[39;00m\n\u001b[1;32m   (...)\u001b[0m\n\u001b[0;32m    144\u001b[0m \u001b[39m    [(False, 'x'), (False, 'y')]\u001b[39;00m\n\u001b[0;32m    145\u001b[0m \u001b[39m    \"\"\"\u001b[39;00m\n\u001b[1;32m--> 146\u001b[0m     \u001b[39mreturn\u001b[39;00m [(l \u001b[39m>\u001b[39m \u001b[39m0\u001b[39m, \u001b[39mself\u001b[39m\u001b[39m.\u001b[39m_index2name[\u001b[39mabs\u001b[39m(l)]) \u001b[39mfor\u001b[39;00m l \u001b[39min\u001b[39;00m clause]\n",
      "File \u001b[1;32mc:\\Users\\robin\\Documents\\Cours\\Poly\\Recherche\\FIBI_Recherche\\venv\\lib\\site-packages\\cnfgen\\cnf.py:146\u001b[0m, in \u001b[0;36m<listcomp>\u001b[1;34m(.0)\u001b[0m\n\u001b[0;32m    135\u001b[0m \u001b[39mdef\u001b[39;00m \u001b[39m_uncompress_clause\u001b[39m(\u001b[39mself\u001b[39m, clause):\n\u001b[0;32m    136\u001b[0m     \u001b[39m\"\"\"(INTERNAL USE) Uncompress a clause from the numeric representation.\u001b[39;00m\n\u001b[0;32m    137\u001b[0m \n\u001b[0;32m    138\u001b[0m \u001b[39m    Arguments:\u001b[39;00m\n\u001b[1;32m   (...)\u001b[0m\n\u001b[0;32m    144\u001b[0m \u001b[39m    [(False, 'x'), (False, 'y')]\u001b[39;00m\n\u001b[0;32m    145\u001b[0m \u001b[39m    \"\"\"\u001b[39;00m\n\u001b[1;32m--> 146\u001b[0m     \u001b[39mreturn\u001b[39;00m [(l \u001b[39m>\u001b[39m \u001b[39m0\u001b[39m, \u001b[39mself\u001b[39m\u001b[39m.\u001b[39m_index2name[\u001b[39mabs\u001b[39m(l)]) \u001b[39mfor\u001b[39;00m l \u001b[39min\u001b[39;00m clause]\n",
      "\u001b[1;31mKeyboardInterrupt\u001b[0m: "
     ]
    }
   ],
   "source": [
    "Lnodes = list(range(100,501,100))\n",
    "colorings = list(range(2,10,1))\n",
    "clique_size = list(range(2,51,10))\n",
    "for i,n_nodes in enumerate(Lnodes):\n",
    "    for c in (clique_size):\n",
    "        for co in (colorings):\n",
    "            F = CliqueColoring(n_nodes, c, co)\n",
    "            res = str(stats(F,print_res=True))\n",
    "        \n"
   ]
  },
  {
   "cell_type": "code",
   "execution_count": 11,
   "metadata": {},
   "outputs": [
    {
     "name": "stdout",
     "output_type": "stream",
     "text": [
      "n_vars: 100, n_clauses: 207\n",
      "n_vars: 200, n_clauses: 461\n",
      "n_vars: 300, n_clauses: 796\n",
      "n_vars: 400, n_clauses: 1277\n",
      "n_vars: 500, n_clauses: 1886\n",
      "n_vars: 100, n_clauses: 203\n",
      "n_vars: 200, n_clauses: 424\n",
      "n_vars: 300, n_clauses: 698\n",
      "n_vars: 400, n_clauses: 1011\n",
      "n_vars: 500, n_clauses: 1529\n",
      "n_vars: 100, n_clauses: 203\n",
      "n_vars: 200, n_clauses: 420\n",
      "n_vars: 300, n_clauses: 677\n",
      "n_vars: 400, n_clauses: 957\n",
      "n_vars: 500, n_clauses: 1344\n",
      "n_vars: 100, n_clauses: 202\n",
      "n_vars: 200, n_clauses: 416\n",
      "n_vars: 300, n_clauses: 658\n",
      "n_vars: 400, n_clauses: 935\n",
      "n_vars: 500, n_clauses: 1259\n",
      "n_vars: 100, n_clauses: 202\n",
      "n_vars: 200, n_clauses: 415\n",
      "n_vars: 300, n_clauses: 648\n",
      "n_vars: 400, n_clauses: 904\n",
      "n_vars: 500, n_clauses: 1197\n",
      "n_vars: 100, n_clauses: 201\n",
      "n_vars: 200, n_clauses: 406\n",
      "n_vars: 300, n_clauses: 639\n",
      "n_vars: 400, n_clauses: 895\n",
      "n_vars: 500, n_clauses: 1165\n"
     ]
    }
   ],
   "source": [
    "import time\n",
    "Lnodes = list(range(500,1001,100))\n",
    "Ledges = list(range(100,501,100))\n",
    "for i,n_nodes in enumerate(Lnodes):\n",
    "    for n_edges in (Ledges):\n",
    "            G = nx.gnm_random_graph(n_nodes, n_edges,seed=int(time.time()))\n",
    "            F = TseitinFormula(G)\n",
    "            res = str(stats(F,print_res=True))\n",
    "        \n"
   ]
  },
  {
   "cell_type": "code",
   "execution_count": 13,
   "metadata": {},
   "outputs": [
    {
     "name": "stdout",
     "output_type": "stream",
     "text": [
      "n_vars: 62, n_clauses: 78\n",
      "n_vars: 104, n_clauses: 156\n",
      "n_vars: 186, n_clauses: 312\n",
      "n_vars: 348, n_clauses: 624\n",
      "n_vars: 670, n_clauses: 1248\n",
      "n_vars: 164, n_clauses: 298\n",
      "n_vars: 248, n_clauses: 596\n",
      "n_vars: 412, n_clauses: 1192\n",
      "n_vars: 736, n_clauses: 2384\n",
      "n_vars: 1380, n_clauses: 4768\n",
      "n_vars: 408, n_clauses: 1170\n",
      "n_vars: 576, n_clauses: 2340\n",
      "n_vars: 904, n_clauses: 4680\n",
      "n_vars: 1552, n_clauses: 9360\n",
      "n_vars: 2840, n_clauses: 18720\n",
      "n_vars: 976, n_clauses: 4642\n",
      "n_vars: 1312, n_clauses: 9284\n",
      "n_vars: 1968, n_clauses: 18568\n",
      "n_vars: 3264, n_clauses: 37136\n",
      "n_vars: 5840, n_clauses: 74272\n",
      "n_vars: 2272, n_clauses: 18498\n",
      "n_vars: 2944, n_clauses: 36996\n",
      "n_vars: 4256, n_clauses: 73992\n",
      "n_vars: 6848, n_clauses: 147984\n",
      "n_vars: 12000, n_clauses: 295968\n",
      "n_vars: 122, n_clauses: 158\n",
      "n_vars: 204, n_clauses: 316\n",
      "n_vars: 366, n_clauses: 632\n",
      "n_vars: 688, n_clauses: 1264\n",
      "n_vars: 1330, n_clauses: 2528\n",
      "n_vars: 324, n_clauses: 618\n",
      "n_vars: 488, n_clauses: 1236\n",
      "n_vars: 812, n_clauses: 2472\n",
      "n_vars: 1456, n_clauses: 4944\n",
      "n_vars: 2740, n_clauses: 9888\n",
      "n_vars: 808, n_clauses: 2450\n",
      "n_vars: 1136, n_clauses: 4900\n",
      "n_vars: 1784, n_clauses: 9800\n",
      "n_vars: 3072, n_clauses: 19600\n",
      "n_vars: 5640, n_clauses: 39200\n",
      "n_vars: 1936, n_clauses: 9762\n",
      "n_vars: 2592, n_clauses: 19524\n",
      "n_vars: 3888, n_clauses: 39048\n",
      "n_vars: 6464, n_clauses: 78096\n",
      "n_vars: 11600, n_clauses: 156192\n",
      "n_vars: 4512, n_clauses: 38978\n",
      "n_vars: 5824, n_clauses: 77956\n",
      "n_vars: 8416, n_clauses: 155912\n",
      "n_vars: 13568, n_clauses: 311824\n",
      "n_vars: 23840, n_clauses: 623648\n",
      "n_vars: 182, n_clauses: 238\n",
      "n_vars: 304, n_clauses: 476\n",
      "n_vars: 546, n_clauses: 952\n",
      "n_vars: 1028, n_clauses: 1904\n",
      "n_vars: 1990, n_clauses: 3808\n",
      "n_vars: 484, n_clauses: 938\n",
      "n_vars: 728, n_clauses: 1876\n",
      "n_vars: 1212, n_clauses: 3752\n",
      "n_vars: 2176, n_clauses: 7504\n",
      "n_vars: 4100, n_clauses: 15008\n",
      "n_vars: 1208, n_clauses: 3730\n",
      "n_vars: 1696, n_clauses: 7460\n",
      "n_vars: 2664, n_clauses: 14920\n",
      "n_vars: 4592, n_clauses: 29840\n",
      "n_vars: 8440, n_clauses: 59680\n",
      "n_vars: 2896, n_clauses: 14882\n",
      "n_vars: 3872, n_clauses: 29764\n",
      "n_vars: 5808, n_clauses: 59528\n",
      "n_vars: 9664, n_clauses: 119056\n",
      "n_vars: 17360, n_clauses: 238112\n",
      "n_vars: 6752, n_clauses: 59458\n",
      "n_vars: 8704, n_clauses: 118916\n",
      "n_vars: 12576, n_clauses: 237832\n",
      "n_vars: 20288, n_clauses: 475664\n",
      "n_vars: 35680, n_clauses: 951328\n",
      "n_vars: 242, n_clauses: 318\n",
      "n_vars: 404, n_clauses: 636\n",
      "n_vars: 726, n_clauses: 1272\n",
      "n_vars: 1368, n_clauses: 2544\n",
      "n_vars: 2650, n_clauses: 5088\n",
      "n_vars: 644, n_clauses: 1258\n",
      "n_vars: 968, n_clauses: 2516\n",
      "n_vars: 1612, n_clauses: 5032\n",
      "n_vars: 2896, n_clauses: 10064\n",
      "n_vars: 5460, n_clauses: 20128\n",
      "n_vars: 1608, n_clauses: 5010\n",
      "n_vars: 2256, n_clauses: 10020\n",
      "n_vars: 3544, n_clauses: 20040\n",
      "n_vars: 6112, n_clauses: 40080\n",
      "n_vars: 11240, n_clauses: 80160\n",
      "n_vars: 3856, n_clauses: 20002\n",
      "n_vars: 5152, n_clauses: 40004\n",
      "n_vars: 7728, n_clauses: 80008\n",
      "n_vars: 12864, n_clauses: 160016\n",
      "n_vars: 23120, n_clauses: 320032\n",
      "n_vars: 8992, n_clauses: 79938\n",
      "n_vars: 11584, n_clauses: 159876\n",
      "n_vars: 16736, n_clauses: 319752\n",
      "n_vars: 27008, n_clauses: 639504\n",
      "n_vars: 47520, n_clauses: 1279008\n",
      "n_vars: 302, n_clauses: 398\n",
      "n_vars: 504, n_clauses: 796\n",
      "n_vars: 906, n_clauses: 1592\n",
      "n_vars: 1708, n_clauses: 3184\n",
      "n_vars: 3310, n_clauses: 6368\n",
      "n_vars: 804, n_clauses: 1578\n",
      "n_vars: 1208, n_clauses: 3156\n",
      "n_vars: 2012, n_clauses: 6312\n",
      "n_vars: 3616, n_clauses: 12624\n",
      "n_vars: 6820, n_clauses: 25248\n",
      "n_vars: 2008, n_clauses: 6290\n",
      "n_vars: 2816, n_clauses: 12580\n",
      "n_vars: 4424, n_clauses: 25160\n",
      "n_vars: 7632, n_clauses: 50320\n",
      "n_vars: 14040, n_clauses: 100640\n",
      "n_vars: 4816, n_clauses: 25122\n",
      "n_vars: 6432, n_clauses: 50244\n",
      "n_vars: 9648, n_clauses: 100488\n",
      "n_vars: 16064, n_clauses: 200976\n",
      "n_vars: 28880, n_clauses: 401952\n",
      "n_vars: 11232, n_clauses: 100418\n",
      "n_vars: 14464, n_clauses: 200836\n",
      "n_vars: 20896, n_clauses: 401672\n",
      "n_vars: 33728, n_clauses: 803344\n",
      "n_vars: 59360, n_clauses: 1606688\n"
     ]
    }
   ],
   "source": [
    "import time\n",
    "import numpy as np\n",
    "Ln_levels = list(range(10,51,10))\n",
    "Ln_nodes_per_level = 2**np.array(list(range(1,6,1)))\n",
    "Ln_colors = 2**np.array(list(range(1,6,1)))\n",
    "for i,n_levels in enumerate(Ln_levels):\n",
    "    for n_nodes_per_level in (Ln_nodes_per_level):\n",
    "        for n_colors in (Ln_colors):\n",
    "            F = CPLSFormula(n_levels, n_nodes_per_level, n_colors)\n",
    "            res = str(stats(F,print_res=True))\n",
    "        \n",
    "\n"
   ]
  },
  {
   "cell_type": "code",
   "execution_count": null,
   "metadata": {},
   "outputs": [],
   "source": []
  }
 ],
 "metadata": {
  "kernelspec": {
   "display_name": "Python 3",
   "language": "python",
   "name": "python3"
  },
  "language_info": {
   "codemirror_mode": {
    "name": "ipython",
    "version": 3
   },
   "file_extension": ".py",
   "mimetype": "text/x-python",
   "name": "python",
   "nbconvert_exporter": "python",
   "pygments_lexer": "ipython3",
   "version": "3.8.13 | packaged by conda-forge | (default, Mar 25 2022, 05:59:45) [MSC v.1929 64 bit (AMD64)]"
  },
  "orig_nbformat": 4,
  "vscode": {
   "interpreter": {
    "hash": "d5f08909c6c4f455767f10678bf0274b3f37153d8d0dd90006f05cfe8f3ecbfc"
   }
  }
 },
 "nbformat": 4,
 "nbformat_minor": 2
}
