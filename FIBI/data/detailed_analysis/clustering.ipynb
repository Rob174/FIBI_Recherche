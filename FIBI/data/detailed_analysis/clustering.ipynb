{
 "cells": [
  {
   "cell_type": "code",
   "execution_count": 21,
   "metadata": {},
   "outputs": [
    {
     "name": "stdout",
     "output_type": "stream",
     "text": [
      "Requirement already satisfied: webdriver-manager in c:\\users\\robin\\documents\\cours\\poly\\recherche\\fibi_recherche\\venv\\lib\\site-packages (3.8.3)\n",
      "Requirement already satisfied: python-dotenv in c:\\users\\robin\\documents\\cours\\poly\\recherche\\fibi_recherche\\venv\\lib\\site-packages (from webdriver-manager) (0.20.0)\n",
      "Requirement already satisfied: tqdm in c:\\users\\robin\\documents\\cours\\poly\\recherche\\fibi_recherche\\venv\\lib\\site-packages (from webdriver-manager) (4.64.0)\n",
      "Requirement already satisfied: requests in c:\\users\\robin\\documents\\cours\\poly\\recherche\\fibi_recherche\\venv\\lib\\site-packages (from webdriver-manager) (2.28.1)\n",
      "Requirement already satisfied: charset-normalizer<3,>=2 in c:\\users\\robin\\documents\\cours\\poly\\recherche\\fibi_recherche\\venv\\lib\\site-packages (from requests->webdriver-manager) (2.1.0)\n",
      "Requirement already satisfied: urllib3<1.27,>=1.21.1 in c:\\users\\robin\\documents\\cours\\poly\\recherche\\fibi_recherche\\venv\\lib\\site-packages (from requests->webdriver-manager) (1.26.11)\n",
      "Requirement already satisfied: certifi>=2017.4.17 in c:\\users\\robin\\documents\\cours\\poly\\recherche\\fibi_recherche\\venv\\lib\\site-packages (from requests->webdriver-manager) (2022.6.15)\n",
      "Requirement already satisfied: idna<4,>=2.5 in c:\\users\\robin\\documents\\cours\\poly\\recherche\\fibi_recherche\\venv\\lib\\site-packages (from requests->webdriver-manager) (3.3)\n",
      "Requirement already satisfied: colorama in c:\\users\\robin\\documents\\cours\\poly\\recherche\\fibi_recherche\\venv\\lib\\site-packages (from tqdm->webdriver-manager) (0.4.4)\n",
      "Requirement already satisfied: selenium in c:\\users\\robin\\documents\\cours\\poly\\recherche\\fibi_recherche\\venv\\lib\\site-packages (4.3.0)\n",
      "Requirement already satisfied: trio-websocket~=0.9 in c:\\users\\robin\\documents\\cours\\poly\\recherche\\fibi_recherche\\venv\\lib\\site-packages (from selenium) (0.9.2)\n",
      "Requirement already satisfied: trio~=0.17 in c:\\users\\robin\\documents\\cours\\poly\\recherche\\fibi_recherche\\venv\\lib\\site-packages (from selenium) (0.21.0)\n",
      "Requirement already satisfied: urllib3[secure,socks]~=1.26 in c:\\users\\robin\\documents\\cours\\poly\\recherche\\fibi_recherche\\venv\\lib\\site-packages (from selenium) (1.26.11)\n",
      "Requirement already satisfied: async-generator>=1.9 in c:\\users\\robin\\documents\\cours\\poly\\recherche\\fibi_recherche\\venv\\lib\\site-packages (from trio~=0.17->selenium) (1.10)\n",
      "Requirement already satisfied: idna in c:\\users\\robin\\documents\\cours\\poly\\recherche\\fibi_recherche\\venv\\lib\\site-packages (from trio~=0.17->selenium) (3.3)\n",
      "Requirement already satisfied: outcome in c:\\users\\robin\\documents\\cours\\poly\\recherche\\fibi_recherche\\venv\\lib\\site-packages (from trio~=0.17->selenium) (1.2.0)\n",
      "Requirement already satisfied: cffi>=1.14 in c:\\users\\robin\\documents\\cours\\poly\\recherche\\fibi_recherche\\venv\\lib\\site-packages (from trio~=0.17->selenium) (1.15.0)\n",
      "Requirement already satisfied: sniffio in c:\\users\\robin\\documents\\cours\\poly\\recherche\\fibi_recherche\\venv\\lib\\site-packages (from trio~=0.17->selenium) (1.2.0)\n",
      "Requirement already satisfied: sortedcontainers in c:\\users\\robin\\documents\\cours\\poly\\recherche\\fibi_recherche\\venv\\lib\\site-packages (from trio~=0.17->selenium) (2.4.0)\n",
      "Requirement already satisfied: attrs>=19.2.0 in c:\\users\\robin\\documents\\cours\\poly\\recherche\\fibi_recherche\\venv\\lib\\site-packages (from trio~=0.17->selenium) (21.4.0)\n",
      "Requirement already satisfied: wsproto>=0.14 in c:\\users\\robin\\documents\\cours\\poly\\recherche\\fibi_recherche\\venv\\lib\\site-packages (from trio-websocket~=0.9->selenium) (1.1.0)\n",
      "Requirement already satisfied: PySocks!=1.5.7,<2.0,>=1.5.6 in c:\\users\\robin\\documents\\cours\\poly\\recherche\\fibi_recherche\\venv\\lib\\site-packages (from urllib3[secure,socks]~=1.26->selenium) (1.7.1)\n",
      "Requirement already satisfied: pyOpenSSL>=0.14 in c:\\users\\robin\\documents\\cours\\poly\\recherche\\fibi_recherche\\venv\\lib\\site-packages (from urllib3[secure,socks]~=1.26->selenium) (22.0.0)\n",
      "Requirement already satisfied: cryptography>=1.3.4 in c:\\users\\robin\\documents\\cours\\poly\\recherche\\fibi_recherche\\venv\\lib\\site-packages (from urllib3[secure,socks]~=1.26->selenium) (37.0.4)\n",
      "Requirement already satisfied: certifi in c:\\users\\robin\\documents\\cours\\poly\\recherche\\fibi_recherche\\venv\\lib\\site-packages (from urllib3[secure,socks]~=1.26->selenium) (2022.6.15)\n",
      "Requirement already satisfied: pycparser in c:\\users\\robin\\documents\\cours\\poly\\recherche\\fibi_recherche\\venv\\lib\\site-packages (from cffi>=1.14->trio~=0.17->selenium) (2.21)\n",
      "Requirement already satisfied: h11<1,>=0.9.0 in c:\\users\\robin\\documents\\cours\\poly\\recherche\\fibi_recherche\\venv\\lib\\site-packages (from wsproto>=0.14->trio-websocket~=0.9->selenium) (0.13.0)\n",
      "Requirement already satisfied: kaleido in c:\\users\\robin\\documents\\cours\\poly\\recherche\\fibi_recherche\\venv\\lib\\site-packages (0.2.1)\n",
      "Requirement already satisfied: pingouin in c:\\users\\robin\\documents\\cours\\poly\\recherche\\fibi_recherche\\venv\\lib\\site-packages (0.5.2)\n",
      "Requirement already satisfied: scikit-learn<1.1.0 in c:\\users\\robin\\documents\\cours\\poly\\recherche\\fibi_recherche\\venv\\lib\\site-packages (from pingouin) (1.0.2)\n",
      "Requirement already satisfied: matplotlib>=3.0.2 in c:\\users\\robin\\documents\\cours\\poly\\recherche\\fibi_recherche\\venv\\lib\\site-packages (from pingouin) (3.5.2)\n",
      "Requirement already satisfied: statsmodels>=0.13 in c:\\users\\robin\\documents\\cours\\poly\\recherche\\fibi_recherche\\venv\\lib\\site-packages (from pingouin) (0.13.2)\n",
      "Requirement already satisfied: outdated in c:\\users\\robin\\documents\\cours\\poly\\recherche\\fibi_recherche\\venv\\lib\\site-packages (from pingouin) (0.2.1)\n",
      "Requirement already satisfied: pandas-flavor>=0.2.0 in c:\\users\\robin\\documents\\cours\\poly\\recherche\\fibi_recherche\\venv\\lib\\site-packages (from pingouin) (0.3.0)\n",
      "Requirement already satisfied: numpy>=1.19 in c:\\users\\robin\\documents\\cours\\poly\\recherche\\fibi_recherche\\venv\\lib\\site-packages (from pingouin) (1.22.4)\n",
      "Requirement already satisfied: scipy>=1.7 in c:\\users\\robin\\documents\\cours\\poly\\recherche\\fibi_recherche\\venv\\lib\\site-packages (from pingouin) (1.8.1)\n",
      "Requirement already satisfied: pandas>=1.0 in c:\\users\\robin\\documents\\cours\\poly\\recherche\\fibi_recherche\\venv\\lib\\site-packages (from pingouin) (1.4.2)\n",
      "Requirement already satisfied: seaborn>=0.11 in c:\\users\\robin\\documents\\cours\\poly\\recherche\\fibi_recherche\\venv\\lib\\site-packages (from pingouin) (0.11.2)\n",
      "Requirement already satisfied: tabulate in c:\\users\\robin\\documents\\cours\\poly\\recherche\\fibi_recherche\\venv\\lib\\site-packages (from pingouin) (0.8.10)\n",
      "Requirement already satisfied: kiwisolver>=1.0.1 in c:\\users\\robin\\documents\\cours\\poly\\recherche\\fibi_recherche\\venv\\lib\\site-packages (from matplotlib>=3.0.2->pingouin) (1.4.4)\n",
      "Requirement already satisfied: cycler>=0.10 in c:\\users\\robin\\documents\\cours\\poly\\recherche\\fibi_recherche\\venv\\lib\\site-packages (from matplotlib>=3.0.2->pingouin) (0.11.0)\n",
      "Requirement already satisfied: pyparsing>=2.2.1 in c:\\users\\robin\\documents\\cours\\poly\\recherche\\fibi_recherche\\venv\\lib\\site-packages (from matplotlib>=3.0.2->pingouin) (3.0.9)\n",
      "Requirement already satisfied: fonttools>=4.22.0 in c:\\users\\robin\\documents\\cours\\poly\\recherche\\fibi_recherche\\venv\\lib\\site-packages (from matplotlib>=3.0.2->pingouin) (4.34.4)\n",
      "Requirement already satisfied: python-dateutil>=2.7 in c:\\users\\robin\\documents\\cours\\poly\\recherche\\fibi_recherche\\venv\\lib\\site-packages (from matplotlib>=3.0.2->pingouin) (2.8.2)\n",
      "Requirement already satisfied: pillow>=6.2.0 in c:\\users\\robin\\documents\\cours\\poly\\recherche\\fibi_recherche\\venv\\lib\\site-packages (from matplotlib>=3.0.2->pingouin) (9.2.0)\n",
      "Requirement already satisfied: packaging>=20.0 in c:\\users\\robin\\documents\\cours\\poly\\recherche\\fibi_recherche\\venv\\lib\\site-packages (from matplotlib>=3.0.2->pingouin) (21.3)\n",
      "Requirement already satisfied: pytz>=2020.1 in c:\\users\\robin\\documents\\cours\\poly\\recherche\\fibi_recherche\\venv\\lib\\site-packages (from pandas>=1.0->pingouin) (2022.1)\n",
      "Requirement already satisfied: lazy-loader==0.1rc2 in c:\\users\\robin\\documents\\cours\\poly\\recherche\\fibi_recherche\\venv\\lib\\site-packages (from pandas-flavor>=0.2.0->pingouin) (0.1rc2)\n",
      "Requirement already satisfied: xarray in c:\\users\\robin\\documents\\cours\\poly\\recherche\\fibi_recherche\\venv\\lib\\site-packages (from pandas-flavor>=0.2.0->pingouin) (2022.6.0)\n",
      "Requirement already satisfied: threadpoolctl>=2.0.0 in c:\\users\\robin\\documents\\cours\\poly\\recherche\\fibi_recherche\\venv\\lib\\site-packages (from scikit-learn<1.1.0->pingouin) (3.1.0)\n",
      "Requirement already satisfied: joblib>=0.11 in c:\\users\\robin\\documents\\cours\\poly\\recherche\\fibi_recherche\\venv\\lib\\site-packages (from scikit-learn<1.1.0->pingouin) (1.1.0)\n",
      "Requirement already satisfied: patsy>=0.5.2 in c:\\users\\robin\\documents\\cours\\poly\\recherche\\fibi_recherche\\venv\\lib\\site-packages (from statsmodels>=0.13->pingouin) (0.5.2)\n",
      "Requirement already satisfied: requests in c:\\users\\robin\\documents\\cours\\poly\\recherche\\fibi_recherche\\venv\\lib\\site-packages (from outdated->pingouin) (2.28.1)\n",
      "Requirement already satisfied: littleutils in c:\\users\\robin\\documents\\cours\\poly\\recherche\\fibi_recherche\\venv\\lib\\site-packages (from outdated->pingouin) (0.2.2)\n",
      "Requirement already satisfied: six in c:\\users\\robin\\documents\\cours\\poly\\recherche\\fibi_recherche\\venv\\lib\\site-packages (from patsy>=0.5.2->statsmodels>=0.13->pingouin) (1.16.0)\n",
      "Requirement already satisfied: certifi>=2017.4.17 in c:\\users\\robin\\documents\\cours\\poly\\recherche\\fibi_recherche\\venv\\lib\\site-packages (from requests->outdated->pingouin) (2022.6.15)\n",
      "Requirement already satisfied: idna<4,>=2.5 in c:\\users\\robin\\documents\\cours\\poly\\recherche\\fibi_recherche\\venv\\lib\\site-packages (from requests->outdated->pingouin) (3.3)\n",
      "Requirement already satisfied: urllib3<1.27,>=1.21.1 in c:\\users\\robin\\documents\\cours\\poly\\recherche\\fibi_recherche\\venv\\lib\\site-packages (from requests->outdated->pingouin) (1.26.11)\n",
      "Requirement already satisfied: charset-normalizer<3,>=2 in c:\\users\\robin\\documents\\cours\\poly\\recherche\\fibi_recherche\\venv\\lib\\site-packages (from requests->outdated->pingouin) (2.1.0)\n",
      "Requirement already satisfied: matplotlib in c:\\users\\robin\\documents\\cours\\poly\\recherche\\fibi_recherche\\venv\\lib\\site-packages (3.5.2)\n",
      "Requirement already satisfied: fonttools>=4.22.0 in c:\\users\\robin\\documents\\cours\\poly\\recherche\\fibi_recherche\\venv\\lib\\site-packages (from matplotlib) (4.34.4)\n",
      "Requirement already satisfied: pyparsing>=2.2.1 in c:\\users\\robin\\documents\\cours\\poly\\recherche\\fibi_recherche\\venv\\lib\\site-packages (from matplotlib) (3.0.9)\n",
      "Requirement already satisfied: pillow>=6.2.0 in c:\\users\\robin\\documents\\cours\\poly\\recherche\\fibi_recherche\\venv\\lib\\site-packages (from matplotlib) (9.2.0)\n",
      "Requirement already satisfied: numpy>=1.17 in c:\\users\\robin\\documents\\cours\\poly\\recherche\\fibi_recherche\\venv\\lib\\site-packages (from matplotlib) (1.22.4)\n",
      "Requirement already satisfied: packaging>=20.0 in c:\\users\\robin\\documents\\cours\\poly\\recherche\\fibi_recherche\\venv\\lib\\site-packages (from matplotlib) (21.3)\n",
      "Requirement already satisfied: python-dateutil>=2.7 in c:\\users\\robin\\documents\\cours\\poly\\recherche\\fibi_recherche\\venv\\lib\\site-packages (from matplotlib) (2.8.2)\n",
      "Requirement already satisfied: cycler>=0.10 in c:\\users\\robin\\documents\\cours\\poly\\recherche\\fibi_recherche\\venv\\lib\\site-packages (from matplotlib) (0.11.0)\n",
      "Requirement already satisfied: kiwisolver>=1.0.1 in c:\\users\\robin\\documents\\cours\\poly\\recherche\\fibi_recherche\\venv\\lib\\site-packages (from matplotlib) (1.4.4)\n",
      "Requirement already satisfied: six>=1.5 in c:\\users\\robin\\documents\\cours\\poly\\recherche\\fibi_recherche\\venv\\lib\\site-packages (from python-dateutil>=2.7->matplotlib) (1.16.0)\n",
      "Requirement already satisfied: statsmodels in c:\\users\\robin\\documents\\cours\\poly\\recherche\\fibi_recherche\\venv\\lib\\site-packages (0.13.2)\n",
      "Requirement already satisfied: packaging>=21.3 in c:\\users\\robin\\documents\\cours\\poly\\recherche\\fibi_recherche\\venv\\lib\\site-packages (from statsmodels) (21.3)\n",
      "Requirement already satisfied: scipy>=1.3 in c:\\users\\robin\\documents\\cours\\poly\\recherche\\fibi_recherche\\venv\\lib\\site-packages (from statsmodels) (1.8.1)\n",
      "Requirement already satisfied: pandas>=0.25 in c:\\users\\robin\\documents\\cours\\poly\\recherche\\fibi_recherche\\venv\\lib\\site-packages (from statsmodels) (1.4.2)\n",
      "Requirement already satisfied: numpy>=1.17 in c:\\users\\robin\\documents\\cours\\poly\\recherche\\fibi_recherche\\venv\\lib\\site-packages (from statsmodels) (1.22.4)\n",
      "Requirement already satisfied: patsy>=0.5.2 in c:\\users\\robin\\documents\\cours\\poly\\recherche\\fibi_recherche\\venv\\lib\\site-packages (from statsmodels) (0.5.2)\n",
      "Requirement already satisfied: pyparsing!=3.0.5,>=2.0.2 in c:\\users\\robin\\documents\\cours\\poly\\recherche\\fibi_recherche\\venv\\lib\\site-packages (from packaging>=21.3->statsmodels) (3.0.9)\n",
      "Requirement already satisfied: pytz>=2020.1 in c:\\users\\robin\\documents\\cours\\poly\\recherche\\fibi_recherche\\venv\\lib\\site-packages (from pandas>=0.25->statsmodels) (2022.1)\n",
      "Requirement already satisfied: python-dateutil>=2.8.1 in c:\\users\\robin\\documents\\cours\\poly\\recherche\\fibi_recherche\\venv\\lib\\site-packages (from pandas>=0.25->statsmodels) (2.8.2)\n",
      "Requirement already satisfied: six in c:\\users\\robin\\documents\\cours\\poly\\recherche\\fibi_recherche\\venv\\lib\\site-packages (from patsy>=0.5.2->statsmodels) (1.16.0)\n"
     ]
    }
   ],
   "source": [
    "import json\n",
    "import numpy as np\n",
    "import pyperclip\n",
    "from scipy.stats import ttest_ind_from_stats, ttest_rel, wilcoxon,ttest_ind,ttest_rel\n",
    "import os\n",
    "os.chdir(r\"C:\\Users\\robin\\Documents\\Cours\\Poly\\Recherche\\FIBI_Recherche\")\n",
    "from FIBI.data.analyse_cpp_results.clustering.extract_infos import parse_key, parse_metadata, DataCategory, corresp_impr_class\n",
    "import pandas as pd\n",
    "from scipy.stats import ranksums, mannwhitneyu\n",
    "import plotly.express as px\n",
    "import bs4\n",
    "from itertools import product\n",
    "from pathlib import Path\n",
    "!pip install webdriver-manager\n",
    "from webdriver_manager.chrome import ChromeDriverManager\n",
    "!pip install selenium\n",
    "from selenium.webdriver.chrome.service import Service as ChromeService\n",
    "from selenium import webdriver\n",
    "from selenium.webdriver import ActionChains\n",
    "from selenium.webdriver.chrome.options import Options\n",
    "from scipy.stats import norm\n",
    "import plotly.graph_objects as go\n",
    "!pip install -U kaleido\n",
    "!pip install pingouin\n",
    "!pip install matplotlib\n",
    "import pingouin as pg\n",
    "import matplotlib.pyplot as plt\n",
    "!pip install statsmodels\n",
    "import statsmodels.stats.power as smp\n",
    "from statsmodels.stats import weightstats as stests\n",
    "\n",
    "# https://www.youtube.com/watch?v=CIbJSX-biu0 for ressources"
   ]
  },
  {
   "cell_type": "code",
   "execution_count": 2,
   "metadata": {},
   "outputs": [],
   "source": [
    "from h5py import File\n",
    "data_rd = []\n",
    "with File(\"data/data_algo_same/table1_exp_clust_1000samples.hdf5\", \"r\") as f:\n",
    "    for k,v in f[\"metadata\"].items():\n",
    "        dico_key = parse_key(k)\n",
    "        v = np.copy(v)\n",
    "        dico_value = {\"key_dataset\":k,**parse_metadata(v)}\n",
    "        data_rd.append(dico_value)\n",
    "df_rd = pd.DataFrame(data_rd)\n",
    "npoints = list(df_rd['NUM_POINTS'].unique())\n",
    "nclust = list(df_rd['NUM_CLUST'].unique())\n",
    "Limpr = list(df_rd['IMPR_CLASS'].unique())\n",
    "for n,nclus,impr in product(npoints,nclust,Limpr):\n",
    "    if nclus>=n:\n",
    "        continue\n",
    "    d=df_rd.query(f\"NUM_POINTS == {n} & NUM_CLUST == {nclus} & IMPR_CLASS == '{impr}'\")\n",
    "    assert len(d) == 1000, f\"Problem for NUM_POINTS == {n} & NUM_CLUST == {nclus} & IMPR_CLASS == '{impr}': found: {len(d)}\"\n",
    "data_impr = []\n",
    "with File(\"data/data_algo_same/table1_exp_clust_impr_1000samples.hdf5\", \"r\") as f:\n",
    "    for k,v in f[\"metadata\"].items():\n",
    "        dico_key = parse_key(k)\n",
    "        v = np.copy(v)\n",
    "        dico_value = {\"key_dataset\":k,**parse_metadata(v)}\n",
    "        data_impr.append(dico_value)\n",
    "df_impr = pd.DataFrame(data_impr)\n",
    "for n,nclus,impr in product(npoints,nclust,Limpr):\n",
    "    if nclus>=n:\n",
    "        continue\n",
    "    d=df_impr.query(f\"NUM_POINTS == {n} & NUM_CLUST == {nclus} & IMPR_CLASS == '{impr}'\")\n",
    "    assert (len(d) == 1000), f\"Problem for NUM_POINTS == {n} & NUM_CLUST == {nclus} & IMPR_CLASS == '{impr}': found: {len(d)}\"\n",
    "\n",
    "df_impr['INIT'] = 'IMPR'\n",
    "df_rd['INIT'] = 'RAND'\n",
    "\n",
    "df = pd.concat([df_rd,df_impr])\n"
   ]
  },
  {
   "cell_type": "markdown",
   "metadata": {},
   "source": [
    "### Search for seed and visualize initial cluster"
   ]
  },
  {
   "cell_type": "code",
   "execution_count": 66,
   "metadata": {},
   "outputs": [
    {
     "name": "stdout",
     "output_type": "stream",
     "text": [
      "ratio                             0.075505\n",
      "key_dataset    55968,968,50,0,968,1,16,0,1\n",
      "SEED_GLOB                            55968\n",
      "Name: 317077, dtype: object\n"
     ]
    }
   ],
   "source": [
    "df_21 = df.query(f\"NUM_POINTS == 50 & NUM_CLUST == 16 & INIT == 'RAND' & IMPR_CLASS == 'FICL'\").copy()\n",
    "df_21.loc[:,\"ratio\"] = df_21.loc[:,'final_cost']/df_21.loc[:,'init_cost']\n",
    "df_21.sort_values(by=['SEED_POINTS','SEED_ASSIGN'],inplace=True)\n",
    "df_21 = df_21[['ratio','key_dataset','SEED_GLOB']]\n",
    "print(df_21.iloc[968])\n",
    "# display(.head(20))"
   ]
  },
  {
   "cell_type": "markdown",
   "metadata": {},
   "source": [
    "#### Visualize"
   ]
  },
  {
   "cell_type": "code",
   "execution_count": 72,
   "metadata": {},
   "outputs": [
    {
     "data": {
      "text/plain": [
       "array([5, 5])"
      ]
     },
     "execution_count": 72,
     "metadata": {},
     "output_type": "execute_result"
    }
   ],
   "source": [
    "a=np.array([[5,5],[2,2],[4,4]])\n",
    "a[a==5]"
   ]
  },
  {
   "cell_type": "code",
   "execution_count": null,
   "metadata": {},
   "outputs": [],
   "source": [
    "path = Path(r'C:\\Users\\robin\\Documents\\Cours\\Poly\\Recherche\\FIBI_Recherche\\cpp_generation\\clustering\\x64\\Release\\dataset.hdf5')\n",
    "with File(path) as f:\n",
    "    points = np.copy(f['points_coords']['54968,968,50,0,968,0,16,0,1']).reshape((-1,2))\n",
    "    init_bi = np.copy(f['final_assignements']['54968,968,50,0,968,0,16,0,1'])\n",
    "    init_fi = np.copy(f['final_assignements']['55968,968,50,0,968,1,16,0,1'])\n",
    "Ldf = []\n",
    "for [x,y],bi,fi in zip(points,init_bi,init_fi):\n",
    "    Ldf.append({'x':x,'y':y,'fi_clust':fi,'bi_clust':bi})\n",
    "with open('points.txt','w') as f:\n",
    "    f.write('\\n'.join(['\\t\\t'.join(map(str,p)) for p in points]))\n",
    "with open('fi.txt','w') as f:\n",
    "    f.write('\\n'.join([str(p) for p in init_fi]))\n",
    "with open('bi.txt','w') as f:\n",
    "    f.write('\\n'.join([str(p) for p in init_bi]))\n",
    "df_22 = pd.DataFrame(Ldf)\n",
    "for algo in ['fi','bi']:\n",
    "    px.scatter(df_22,x=\"x\",y=\"y\", opacity=0,text=algo+\"_clust\",width=500,height=500,title=algo).show()\n",
    "centroids = {k for k in init_bi}\n",
    "cost = 0\n",
    "for centroid in centroids:\n",
    "    centr_points = points[init_bi==centroid]\n",
    "    centroid = np.sum(centr_points,axis=0)/centr_points.shape[0]\n",
    "    cost += ((centr_points-centroid)**2).sum()\n",
    "print(\"cost BI:\",cost)\n",
    "cost = 0\n",
    "for centroid in centroids:\n",
    "    centr_points = points[init_fi==centroid]\n",
    "    centroid = np.sum(centr_points,axis=0)/centr_points.shape[0]\n",
    "    cost += ((centr_points-centroid)**2).sum()\n",
    "print(\"cost FI:\",cost)"
   ]
  },
  {
   "cell_type": "markdown",
   "metadata": {},
   "source": [
    "## Observation definition of \"best algorithm\""
   ]
  },
  {
   "cell_type": "markdown",
   "metadata": {},
   "source": [
    "## Recompute the averages as in FIvsBI"
   ]
  },
  {
   "cell_type": "code",
   "execution_count": 3,
   "metadata": {},
   "outputs": [],
   "source": [
    "\n",
    "page = bs4.BeautifulSoup(\"\"\"<html><head><link rel=\"stylesheet\" href=\"style5.css\"></head><body></body></html>\"\"\")\n",
    "for init in df['INIT'].unique():\n",
    "    df_vis = df.query(f'INIT == \"{init}\"')\n",
    "    algorithms = ['BICL','FICL'][::-1]\n",
    "    make_key1 = lambda npts,algo,nclust:f\"{npts}_{algo}_{nclust}\"\n",
    "    key_to_dict1 = lambda x:{\"npts\":x.split('_')[0],\"algo\":x.split('_')[1],\"nclust\":x.split('_')[2]}\n",
    "    dico = {}\n",
    "    for npts,nclust,algo in product(df['NUM_POINTS'].unique(),df['NUM_CLUST'].unique(),algorithms):\n",
    "        if npts <= nclust:\n",
    "            continue\n",
    "        df_vis2 = df_vis.query(f\"NUM_POINTS == {npts} & NUM_CLUST == {nclust}\")\n",
    "        df_vis2 = df_vis2.query(f\"IMPR_CLASS == '{algo}'\")\n",
    "        df_vis2.sort_values(by=['SEED_POINTS','SEED_ASSIGN'],inplace=True)\n",
    "        dico[make_key1(npts,algo,nclust)] = {\"meanFinalCost\":np.mean(df_vis2['final_cost']),\"meanFinalCostInitCost\":np.mean(df_vis2['final_cost']/df_vis2['init_cost']), \"data\":np.array(df_vis2['final_cost']),'init':np.array(df_vis2['init_cost'])}\n",
    "    Ldf = []\n",
    "    for npts in sorted(df['NUM_POINTS'].unique()):\n",
    "        d = {}\n",
    "        d[('','',\"npoints\")] = npts\n",
    "        for nclust in sorted(df['NUM_CLUST'].unique()):\n",
    "            if npts <= nclust:\n",
    "                # for algo in algorithms:\n",
    "                #     d[(str(nclust)+\" clusters\",'Objective',algo)] = None\n",
    "                #     d[(str(nclust)+\" clusters\",'ratio', algo)] = None\n",
    "                d[(str(nclust)+\" clusters\",'impr','')] =  None\n",
    "                d[(str(nclust)+\" clusters\",'norm. cost diff', '')] = None\n",
    "            else:\n",
    "                # for algo in algorithms:\n",
    "                #     d[(str(nclust)+\" clusters\",'Objective',algo)] = dico[make_key1(npts,algo,nclust)]['meanFinalCost']\n",
    "                #     d[(str(nclust)+\" clusters\",'ratio', algo)] = np.mean((dico[make_key1(npts,algo,nclust)]['data']/dico[make_key1(npts,algo,nclust)]['init']))\n",
    "                bi_data = dico[make_key1(npts,'BICL',nclust)]['data']\n",
    "                fi_data = dico[make_key1(npts,'FICL',nclust)]['data']\n",
    "                init_cost = dico[make_key1(npts,'FICL',nclust)]['init']\n",
    "                d[(str(nclust)+\" clusters\",'impr', '')] = np.mean((bi_data-fi_data)/fi_data*100)\n",
    "                d[(str(nclust)+\" clusters\",'norm. cost diff', '')] = np.mean((bi_data-fi_data)/init_cost)\n",
    "        Ldf.append(d)\n",
    "    dico_val = {}\n",
    "    for l in Ldf:\n",
    "        for k,v in l.items():\n",
    "            if '_'.join(k) not in dico_val:\n",
    "                dico_val['_'.join(k)] = []\n",
    "            dico_val['_'.join(k)].append(v)\n",
    "    new_dico_val = {}\n",
    "    for k,v in dico_val.items():\n",
    "        new_dico_val[tuple(k.split('_'))] = v\n",
    "    table1 = pd.DataFrame(new_dico_val).set_index(keys=[('','',\"npoints\")])\n",
    "    table1.index.names = ['N points']\n",
    "    table1 = table1.applymap(lambda x: f\"{x:0.3f}\"if pd.notnull(x) else '-').to_html()\n",
    "    page.html.body.append(bs4.BeautifulSoup(f\"<h2>Initialization {init}</h2>\"))\n",
    "    table1 = bs4.BeautifulSoup(table1)\n",
    "    for i in range(len(df['NUM_CLUST'].unique())+1):\n",
    "        for th in table1.select(f\"table > thead > tr > th:nth-child({3+2*i})\"):\n",
    "            th['title']='(FinalCost(BICL)-FinalCost(FICL))/FinalCost(FICL)'\n",
    "        for td in table1.select(f\"table > tbody > tr > td:nth-child({6+6*i})\"):\n",
    "            if td.text != '-':\n",
    "                if float(td.text) > 0:\n",
    "                    td['class'] = 'positive'\n",
    "                elif float(td.text) == 0:\n",
    "                    td['class'] = ''\n",
    "                else:\n",
    "                    td['class'] = 'negative'\n",
    "        for td in table1.select(f\"table > tbody > tr > td:nth-child({7+6*i})\"):\n",
    "            if td.text != '-':\n",
    "                if float(td.text) > 0:\n",
    "                    td['class'] = 'positive'\n",
    "                elif float(td.text) == 0:\n",
    "                    td['class'] = ''\n",
    "                else:\n",
    "                    td['class'] = 'negative'\n",
    "    page.html.body.append(table1)\n",
    "folder  = Path('FIBI/data/detailed_analysis/graphs/')\n",
    "name = f\"averages.html\"\n",
    "folder.mkdir(parents=True, exist_ok=True)\n",
    "with open(str(folder / name),\"w\") as f:\n",
    "    f.write(str(page))"
   ]
  },
  {
   "cell_type": "markdown",
   "metadata": {},
   "source": [
    "## Initial cost variations"
   ]
  },
  {
   "cell_type": "code",
   "execution_count": 4,
   "metadata": {},
   "outputs": [
    {
     "data": {
      "application/vnd.plotly.v1+json": {
       "config": {
        "plotlyServerURL": "https://plot.ly"
       },
       "data": [
        {
         "alignmentgroup": "True",
         "boxpoints": "all",
         "fillcolor": "rgba(255,255,255,0)",
         "hoveron": "points",
         "hovertemplate": "normalized_std=%{y}<extra></extra>",
         "legendgroup": "",
         "line": {
          "color": "rgba(255,255,255,0)"
         },
         "marker": {
          "color": "red"
         },
         "name": "",
         "offsetgroup": "",
         "orientation": "v",
         "pointpos": 0,
         "showlegend": false,
         "type": "box",
         "x0": " ",
         "xaxis": "x",
         "y": [
          0.15879359591568332,
          0.21111056425079008,
          0.22430948126736525,
          0.4022803600492519,
          0.3165996455051345,
          0.5659312137729796,
          0.17676653073515505,
          0.308442487266201,
          0.0742396100101278,
          0.11541913908857461,
          0.08100031391096363,
          0.25876103840183146,
          0.09068295999951326,
          0.2247131982829774,
          0.11386530625008613,
          0.22591658866525652,
          0.15790029719787332,
          0.2882202350685452,
          0.07640758937495454,
          0.20715990684404628,
          0.06944366615230164,
          0.10983910662495677,
          0.07493278978453005,
          0.25575519899722104,
          0.08196544893823139,
          0.219397828039119,
          0.10078916816768783,
          0.21027128618188556,
          0.1388467677337061,
          0.26213966589824783,
          0.070927420048344,
          0.20234044724812758,
          0.06663086542492397,
          0.10626655094763984,
          0.07198697217296614,
          0.2534238908124866,
          0.07759119107194783,
          0.21418352484354042,
          0.09324617913613943,
          0.20221363238357537,
          0.1271467703176954,
          0.23108507338326528,
          0.0682753312044921,
          0.1989008718339003,
          0.0635616105805599,
          0.10387376967727614,
          0.06831881842253085,
          0.25301741514743514,
          0.07273235083677182,
          0.2129199315101827,
          0.08696971374545698,
          0.19262785986674918,
          0.11631715182814328,
          0.21227441179369824,
          0.06507215026994873,
          0.19662264052705167,
          0.12597326095733946,
          0.17089272724020954,
          0.1581872118358784,
          0.32697864844666585,
          0.19966837970238577,
          0.3610662728495312,
          0.13570595474950997,
          0.26414892419404,
          0.060566413704541425,
          0.10067815213946181,
          0.06441602413299335,
          0.25134999906826483,
          0.06869247308694326,
          0.21178004781695708,
          0.0805770618287357,
          0.1853841445504727,
          0.10670536839110124,
          0.19496458283092588,
          0.06187871240307173,
          0.19396462411717044,
          0.0579955164077579,
          0.0977265510714713,
          0.061496750326015974,
          0.24879281478728185,
          0.06496803383922246,
          0.20839801797747007,
          0.07545210962642435,
          0.1807148766939676,
          0.09942704848010468,
          0.17770654664334593,
          0.05906215404351075,
          0.19077931051711608,
          0.14640121483105753,
          0.2611253515385231,
          0.05684275447871586,
          0.09616342462026496,
          0.05974279983780758,
          0.24716109811596876,
          0.0631975719229446,
          0.20655560810786497,
          0.0721277606542819,
          0.17578743884807027,
          0.09228417995891527,
          0.16865188839815198,
          0.057581648796273165,
          0.18952434183385888,
          0.13330072379058253,
          0.24019411495149656,
          0.05500985489992004,
          0.09452171914143051,
          0.05729788014082736,
          0.2457128019862555,
          0.06064951590749063,
          0.20329091502738658,
          0.06841427647115478,
          0.17104801915252038,
          0.08724380700725679,
          0.16253427785862695,
          0.055572045922943916,
          0.1872963638229895,
          0.12315713580471217,
          0.2208824231719787,
          0.04732862773234864,
          0.08814022987734792,
          0.04904134139134511,
          0.24195112298938895,
          0.05072060383765542,
          0.19800202761816615,
          0.0557108359606969,
          0.16162069040009827,
          0.06601576875496797,
          0.13748187363022682,
          0.048073301699611694,
          0.1848103811354826,
          0.08978587492892419,
          0.15825687527931895,
          0.04148938470691679,
          0.08438710755145534,
          0.042765966231372445,
          0.24051013483173753,
          0.0436473973692114,
          0.19246552128059233,
          0.04732034542434935,
          0.15730972056492618,
          0.05380307494407286,
          0.1256397074460472,
          0.0420243709182559,
          0.18299836034622197,
          0.07014597087073597,
          0.1330334649416198,
          0.03750475596512031,
          0.08131868695816173,
          0.03855912106610577,
          0.23810498771594144,
          0.03964697010314207,
          0.18708327020042329,
          0.042167475066524025,
          0.1534033905951751,
          0.04754776990786324,
          0.12154464040269715,
          0.037903893938886414,
          0.18083971434078566,
          0.0589344923108311,
          0.11759155648886044,
          0.08146625306172738,
          0.14545914100376595,
          0.034828290284134505,
          0.0789442586477709,
          0.03566948884205452,
          0.23646575959209504,
          0.036416926765726186,
          0.18776152851688535,
          0.038592151140578464,
          0.15279210278029637,
          0.042730275326601515,
          0.11662774989433426,
          0.03519571121264005,
          0.17961464465172916,
          0.05081708923437487,
          0.10821886648425065,
          0.06825090436778321,
          0.12524645867300707,
          0.032704555285722664,
          0.07782727208835245,
          0.033122662305240344,
          0.23469246442980546,
          0.03387172569218801,
          0.1869350690966537,
          0.035337407153272694,
          0.1494876755016279,
          0.03878856851785445,
          0.11207166842641111,
          0.0329827809156989,
          0.17844124308424994,
          0.04545674066618559,
          0.09983645398172358,
          0.05918803196338602,
          0.10777565739523454,
          0.03129132729708741,
          0.07724451774113497,
          0.03162167855968748,
          0.234018557510792,
          0.03219271784046225,
          0.1867008780174842,
          0.033191011127367075,
          0.14809445644828603,
          0.03569382067889297,
          0.11005084414425598,
          0.031528487325090615,
          0.17834039578267832,
          0.04126690310713641,
          0.0935130222676018,
          0.05320977214617985,
          0.09746179711367814,
          0.10716397586489657,
          0.14995351694616324,
          0.12920058169587956,
          0.29745970379194264,
          0.15565214362720262,
          0.29810479051945377,
          0.21845158951368074,
          0.40944308922553535,
          0.11237618562548736,
          0.23993713391669413,
          0.029494371921565926,
          0.07568075269502458,
          0.029777105640423587,
          0.23321385499310418,
          0.03026949396535958,
          0.18596589610871955,
          0.03113709209726045,
          0.14791194132703694,
          0.03329612865665272,
          0.10847239424457046,
          0.029763816156361627,
          0.17708393056469046,
          0.03783823504175462,
          0.08871445769837703,
          0.047477286612338694,
          0.08877503167089693,
          0.026951027249510744,
          0.07435070432684637,
          0.02711198853262278,
          0.23129896330893343,
          0.027418715136835182,
          0.18381405656044444,
          0.028046280205766373,
          0.14540525817864258,
          0.030043023752484774,
          0.10622179651144426,
          0.0271680136537697,
          0.17572660238775786,
          0.03354954798772362,
          0.08504095123528933,
          0.041005315956878334,
          0.07708644749038057,
          0.024719385706957295,
          0.07347953967402712,
          0.024830208066126968,
          0.23030225037771024,
          0.025004788129368183,
          0.18197837414768778,
          0.025495307774563512,
          0.14302033465148226,
          0.027308266323968555,
          0.10293341198996549,
          0.024798687286695688,
          0.17517336372955386,
          0.030114207217907814,
          0.08025554163242371,
          0.036014616063661985,
          0.07129446407864633,
          0.022895759368260542,
          0.07244082049866332,
          0.02307635069726818,
          0.2301491733128726,
          0.023193543637283,
          0.18114400109909556,
          0.023506879054480675,
          0.14203717571653568,
          0.025016355010057553,
          0.10127507216002507,
          0.022974689375381874,
          0.17435767213854927,
          0.027146416712290334,
          0.07839363210298325,
          0.03208207617654638,
          0.06626275076823647,
          0.02170344404045016,
          0.0720570369231099,
          0.021823009727706295,
          0.23019131498000456,
          0.021968744286708978,
          0.18116632898104743,
          0.022213675687903604,
          0.14250307966075823,
          0.02346110204504247,
          0.0995584540142441,
          0.021780855709930137,
          0.17431438329778576,
          0.02544863032921966,
          0.07671398869271549,
          0.029841835887725855,
          0.06227441906533556,
          0.020592575256328412,
          0.07146111670026083,
          0.020763636615978902,
          0.22960710708948148,
          0.020838327254087383,
          0.18108403418378197,
          0.02104828029857116,
          0.1412406184816504,
          0.022035808311772473,
          0.09872959229416306,
          0.02064319264436414,
          0.17445373941547984,
          0.02366607264165909,
          0.07477580793988077,
          0.026668184748757724,
          0.060346405092073396,
          0.09534319890588029,
          0.1363445985076817,
          0.11080678390603822,
          0.27895317163239136,
          0.13021923299178076,
          0.2647310519951469,
          0.17574344292068006,
          0.32546985299927966,
          0.0988241672184303,
          0.2276307928287904,
          0.0870251240591409,
          0.12694339418187103,
          0.0983739900931278,
          0.2714623231576369,
          0.11258145475459543,
          0.2462154527941274,
          0.14642149701263762,
          0.27144830401357356,
          0.09000650966241035,
          0.2188362499373901,
          0.0792913857978124,
          0.12154267515579462,
          0.08696766645715213,
          0.2649237655830927,
          0.09968238707848433,
          0.23608192723793164,
          0.12747351257334313,
          0.24914862715922184,
          0.18279260824920152,
          0.33158688466844316,
          0.08101005096387077,
          0.21142511735139422
         ],
         "y0": " ",
         "yaxis": "y"
        },
        {
         "boxpoints": false,
         "marker": {
          "color": "red"
         },
         "name": "",
         "type": "box",
         "y": [
          0.15879359591568332,
          0.21111056425079008,
          0.22430948126736525,
          0.4022803600492519,
          0.3165996455051345,
          0.5659312137729796,
          0.17676653073515505,
          0.308442487266201,
          0.0742396100101278,
          0.11541913908857461,
          0.08100031391096363,
          0.25876103840183146,
          0.09068295999951326,
          0.2247131982829774,
          0.11386530625008613,
          0.22591658866525652,
          0.15790029719787332,
          0.2882202350685452,
          0.07640758937495454,
          0.20715990684404628,
          0.06944366615230164,
          0.10983910662495677,
          0.07493278978453005,
          0.25575519899722104,
          0.08196544893823139,
          0.219397828039119,
          0.10078916816768783,
          0.21027128618188556,
          0.1388467677337061,
          0.26213966589824783,
          0.070927420048344,
          0.20234044724812758,
          0.06663086542492397,
          0.10626655094763984,
          0.07198697217296614,
          0.2534238908124866,
          0.07759119107194783,
          0.21418352484354042,
          0.09324617913613943,
          0.20221363238357537,
          0.1271467703176954,
          0.23108507338326528,
          0.0682753312044921,
          0.1989008718339003,
          0.0635616105805599,
          0.10387376967727614,
          0.06831881842253085,
          0.25301741514743514,
          0.07273235083677182,
          0.2129199315101827,
          0.08696971374545698,
          0.19262785986674918,
          0.11631715182814328,
          0.21227441179369824,
          0.06507215026994873,
          0.19662264052705167,
          0.12597326095733946,
          0.17089272724020954,
          0.1581872118358784,
          0.32697864844666585,
          0.19966837970238577,
          0.3610662728495312,
          0.13570595474950997,
          0.26414892419404,
          0.060566413704541425,
          0.10067815213946181,
          0.06441602413299335,
          0.25134999906826483,
          0.06869247308694326,
          0.21178004781695708,
          0.0805770618287357,
          0.1853841445504727,
          0.10670536839110124,
          0.19496458283092588,
          0.06187871240307173,
          0.19396462411717044,
          0.0579955164077579,
          0.0977265510714713,
          0.061496750326015974,
          0.24879281478728185,
          0.06496803383922246,
          0.20839801797747007,
          0.07545210962642435,
          0.1807148766939676,
          0.09942704848010468,
          0.17770654664334593,
          0.05906215404351075,
          0.19077931051711608,
          0.14640121483105753,
          0.2611253515385231,
          0.05684275447871586,
          0.09616342462026496,
          0.05974279983780758,
          0.24716109811596876,
          0.0631975719229446,
          0.20655560810786497,
          0.0721277606542819,
          0.17578743884807027,
          0.09228417995891527,
          0.16865188839815198,
          0.057581648796273165,
          0.18952434183385888,
          0.13330072379058253,
          0.24019411495149656,
          0.05500985489992004,
          0.09452171914143051,
          0.05729788014082736,
          0.2457128019862555,
          0.06064951590749063,
          0.20329091502738658,
          0.06841427647115478,
          0.17104801915252038,
          0.08724380700725679,
          0.16253427785862695,
          0.055572045922943916,
          0.1872963638229895,
          0.12315713580471217,
          0.2208824231719787,
          0.04732862773234864,
          0.08814022987734792,
          0.04904134139134511,
          0.24195112298938895,
          0.05072060383765542,
          0.19800202761816615,
          0.0557108359606969,
          0.16162069040009827,
          0.06601576875496797,
          0.13748187363022682,
          0.048073301699611694,
          0.1848103811354826,
          0.08978587492892419,
          0.15825687527931895,
          0.04148938470691679,
          0.08438710755145534,
          0.042765966231372445,
          0.24051013483173753,
          0.0436473973692114,
          0.19246552128059233,
          0.04732034542434935,
          0.15730972056492618,
          0.05380307494407286,
          0.1256397074460472,
          0.0420243709182559,
          0.18299836034622197,
          0.07014597087073597,
          0.1330334649416198,
          0.03750475596512031,
          0.08131868695816173,
          0.03855912106610577,
          0.23810498771594144,
          0.03964697010314207,
          0.18708327020042329,
          0.042167475066524025,
          0.1534033905951751,
          0.04754776990786324,
          0.12154464040269715,
          0.037903893938886414,
          0.18083971434078566,
          0.0589344923108311,
          0.11759155648886044,
          0.08146625306172738,
          0.14545914100376595,
          0.034828290284134505,
          0.0789442586477709,
          0.03566948884205452,
          0.23646575959209504,
          0.036416926765726186,
          0.18776152851688535,
          0.038592151140578464,
          0.15279210278029637,
          0.042730275326601515,
          0.11662774989433426,
          0.03519571121264005,
          0.17961464465172916,
          0.05081708923437487,
          0.10821886648425065,
          0.06825090436778321,
          0.12524645867300707,
          0.032704555285722664,
          0.07782727208835245,
          0.033122662305240344,
          0.23469246442980546,
          0.03387172569218801,
          0.1869350690966537,
          0.035337407153272694,
          0.1494876755016279,
          0.03878856851785445,
          0.11207166842641111,
          0.0329827809156989,
          0.17844124308424994,
          0.04545674066618559,
          0.09983645398172358,
          0.05918803196338602,
          0.10777565739523454,
          0.03129132729708741,
          0.07724451774113497,
          0.03162167855968748,
          0.234018557510792,
          0.03219271784046225,
          0.1867008780174842,
          0.033191011127367075,
          0.14809445644828603,
          0.03569382067889297,
          0.11005084414425598,
          0.031528487325090615,
          0.17834039578267832,
          0.04126690310713641,
          0.0935130222676018,
          0.05320977214617985,
          0.09746179711367814,
          0.10716397586489657,
          0.14995351694616324,
          0.12920058169587956,
          0.29745970379194264,
          0.15565214362720262,
          0.29810479051945377,
          0.21845158951368074,
          0.40944308922553535,
          0.11237618562548736,
          0.23993713391669413,
          0.029494371921565926,
          0.07568075269502458,
          0.029777105640423587,
          0.23321385499310418,
          0.03026949396535958,
          0.18596589610871955,
          0.03113709209726045,
          0.14791194132703694,
          0.03329612865665272,
          0.10847239424457046,
          0.029763816156361627,
          0.17708393056469046,
          0.03783823504175462,
          0.08871445769837703,
          0.047477286612338694,
          0.08877503167089693,
          0.026951027249510744,
          0.07435070432684637,
          0.02711198853262278,
          0.23129896330893343,
          0.027418715136835182,
          0.18381405656044444,
          0.028046280205766373,
          0.14540525817864258,
          0.030043023752484774,
          0.10622179651144426,
          0.0271680136537697,
          0.17572660238775786,
          0.03354954798772362,
          0.08504095123528933,
          0.041005315956878334,
          0.07708644749038057,
          0.024719385706957295,
          0.07347953967402712,
          0.024830208066126968,
          0.23030225037771024,
          0.025004788129368183,
          0.18197837414768778,
          0.025495307774563512,
          0.14302033465148226,
          0.027308266323968555,
          0.10293341198996549,
          0.024798687286695688,
          0.17517336372955386,
          0.030114207217907814,
          0.08025554163242371,
          0.036014616063661985,
          0.07129446407864633,
          0.022895759368260542,
          0.07244082049866332,
          0.02307635069726818,
          0.2301491733128726,
          0.023193543637283,
          0.18114400109909556,
          0.023506879054480675,
          0.14203717571653568,
          0.025016355010057553,
          0.10127507216002507,
          0.022974689375381874,
          0.17435767213854927,
          0.027146416712290334,
          0.07839363210298325,
          0.03208207617654638,
          0.06626275076823647,
          0.02170344404045016,
          0.0720570369231099,
          0.021823009727706295,
          0.23019131498000456,
          0.021968744286708978,
          0.18116632898104743,
          0.022213675687903604,
          0.14250307966075823,
          0.02346110204504247,
          0.0995584540142441,
          0.021780855709930137,
          0.17431438329778576,
          0.02544863032921966,
          0.07671398869271549,
          0.029841835887725855,
          0.06227441906533556,
          0.020592575256328412,
          0.07146111670026083,
          0.020763636615978902,
          0.22960710708948148,
          0.020838327254087383,
          0.18108403418378197,
          0.02104828029857116,
          0.1412406184816504,
          0.022035808311772473,
          0.09872959229416306,
          0.02064319264436414,
          0.17445373941547984,
          0.02366607264165909,
          0.07477580793988077,
          0.026668184748757724,
          0.060346405092073396,
          0.09534319890588029,
          0.1363445985076817,
          0.11080678390603822,
          0.27895317163239136,
          0.13021923299178076,
          0.2647310519951469,
          0.17574344292068006,
          0.32546985299927966,
          0.0988241672184303,
          0.2276307928287904,
          0.0870251240591409,
          0.12694339418187103,
          0.0983739900931278,
          0.2714623231576369,
          0.11258145475459543,
          0.2462154527941274,
          0.14642149701263762,
          0.27144830401357356,
          0.09000650966241035,
          0.2188362499373901,
          0.0792913857978124,
          0.12154267515579462,
          0.08696766645715213,
          0.2649237655830927,
          0.09968238707848433,
          0.23608192723793164,
          0.12747351257334313,
          0.24914862715922184,
          0.18279260824920152,
          0.33158688466844316,
          0.08101005096387077,
          0.21142511735139422
         ]
        }
       ],
       "layout": {
        "boxmode": "overlay",
        "legend": {
         "tracegroupgap": 0
        },
        "margin": {
         "t": 60
        },
        "showlegend": false,
        "template": {
         "data": {
          "bar": [
           {
            "error_x": {
             "color": "#2a3f5f"
            },
            "error_y": {
             "color": "#2a3f5f"
            },
            "marker": {
             "line": {
              "color": "#E5ECF6",
              "width": 0.5
             },
             "pattern": {
              "fillmode": "overlay",
              "size": 10,
              "solidity": 0.2
             }
            },
            "type": "bar"
           }
          ],
          "barpolar": [
           {
            "marker": {
             "line": {
              "color": "#E5ECF6",
              "width": 0.5
             },
             "pattern": {
              "fillmode": "overlay",
              "size": 10,
              "solidity": 0.2
             }
            },
            "type": "barpolar"
           }
          ],
          "carpet": [
           {
            "aaxis": {
             "endlinecolor": "#2a3f5f",
             "gridcolor": "white",
             "linecolor": "white",
             "minorgridcolor": "white",
             "startlinecolor": "#2a3f5f"
            },
            "baxis": {
             "endlinecolor": "#2a3f5f",
             "gridcolor": "white",
             "linecolor": "white",
             "minorgridcolor": "white",
             "startlinecolor": "#2a3f5f"
            },
            "type": "carpet"
           }
          ],
          "choropleth": [
           {
            "colorbar": {
             "outlinewidth": 0,
             "ticks": ""
            },
            "type": "choropleth"
           }
          ],
          "contour": [
           {
            "colorbar": {
             "outlinewidth": 0,
             "ticks": ""
            },
            "colorscale": [
             [
              0,
              "#0d0887"
             ],
             [
              0.1111111111111111,
              "#46039f"
             ],
             [
              0.2222222222222222,
              "#7201a8"
             ],
             [
              0.3333333333333333,
              "#9c179e"
             ],
             [
              0.4444444444444444,
              "#bd3786"
             ],
             [
              0.5555555555555556,
              "#d8576b"
             ],
             [
              0.6666666666666666,
              "#ed7953"
             ],
             [
              0.7777777777777778,
              "#fb9f3a"
             ],
             [
              0.8888888888888888,
              "#fdca26"
             ],
             [
              1,
              "#f0f921"
             ]
            ],
            "type": "contour"
           }
          ],
          "contourcarpet": [
           {
            "colorbar": {
             "outlinewidth": 0,
             "ticks": ""
            },
            "type": "contourcarpet"
           }
          ],
          "heatmap": [
           {
            "colorbar": {
             "outlinewidth": 0,
             "ticks": ""
            },
            "colorscale": [
             [
              0,
              "#0d0887"
             ],
             [
              0.1111111111111111,
              "#46039f"
             ],
             [
              0.2222222222222222,
              "#7201a8"
             ],
             [
              0.3333333333333333,
              "#9c179e"
             ],
             [
              0.4444444444444444,
              "#bd3786"
             ],
             [
              0.5555555555555556,
              "#d8576b"
             ],
             [
              0.6666666666666666,
              "#ed7953"
             ],
             [
              0.7777777777777778,
              "#fb9f3a"
             ],
             [
              0.8888888888888888,
              "#fdca26"
             ],
             [
              1,
              "#f0f921"
             ]
            ],
            "type": "heatmap"
           }
          ],
          "heatmapgl": [
           {
            "colorbar": {
             "outlinewidth": 0,
             "ticks": ""
            },
            "colorscale": [
             [
              0,
              "#0d0887"
             ],
             [
              0.1111111111111111,
              "#46039f"
             ],
             [
              0.2222222222222222,
              "#7201a8"
             ],
             [
              0.3333333333333333,
              "#9c179e"
             ],
             [
              0.4444444444444444,
              "#bd3786"
             ],
             [
              0.5555555555555556,
              "#d8576b"
             ],
             [
              0.6666666666666666,
              "#ed7953"
             ],
             [
              0.7777777777777778,
              "#fb9f3a"
             ],
             [
              0.8888888888888888,
              "#fdca26"
             ],
             [
              1,
              "#f0f921"
             ]
            ],
            "type": "heatmapgl"
           }
          ],
          "histogram": [
           {
            "marker": {
             "pattern": {
              "fillmode": "overlay",
              "size": 10,
              "solidity": 0.2
             }
            },
            "type": "histogram"
           }
          ],
          "histogram2d": [
           {
            "colorbar": {
             "outlinewidth": 0,
             "ticks": ""
            },
            "colorscale": [
             [
              0,
              "#0d0887"
             ],
             [
              0.1111111111111111,
              "#46039f"
             ],
             [
              0.2222222222222222,
              "#7201a8"
             ],
             [
              0.3333333333333333,
              "#9c179e"
             ],
             [
              0.4444444444444444,
              "#bd3786"
             ],
             [
              0.5555555555555556,
              "#d8576b"
             ],
             [
              0.6666666666666666,
              "#ed7953"
             ],
             [
              0.7777777777777778,
              "#fb9f3a"
             ],
             [
              0.8888888888888888,
              "#fdca26"
             ],
             [
              1,
              "#f0f921"
             ]
            ],
            "type": "histogram2d"
           }
          ],
          "histogram2dcontour": [
           {
            "colorbar": {
             "outlinewidth": 0,
             "ticks": ""
            },
            "colorscale": [
             [
              0,
              "#0d0887"
             ],
             [
              0.1111111111111111,
              "#46039f"
             ],
             [
              0.2222222222222222,
              "#7201a8"
             ],
             [
              0.3333333333333333,
              "#9c179e"
             ],
             [
              0.4444444444444444,
              "#bd3786"
             ],
             [
              0.5555555555555556,
              "#d8576b"
             ],
             [
              0.6666666666666666,
              "#ed7953"
             ],
             [
              0.7777777777777778,
              "#fb9f3a"
             ],
             [
              0.8888888888888888,
              "#fdca26"
             ],
             [
              1,
              "#f0f921"
             ]
            ],
            "type": "histogram2dcontour"
           }
          ],
          "mesh3d": [
           {
            "colorbar": {
             "outlinewidth": 0,
             "ticks": ""
            },
            "type": "mesh3d"
           }
          ],
          "parcoords": [
           {
            "line": {
             "colorbar": {
              "outlinewidth": 0,
              "ticks": ""
             }
            },
            "type": "parcoords"
           }
          ],
          "pie": [
           {
            "automargin": true,
            "type": "pie"
           }
          ],
          "scatter": [
           {
            "fillpattern": {
             "fillmode": "overlay",
             "size": 10,
             "solidity": 0.2
            },
            "type": "scatter"
           }
          ],
          "scatter3d": [
           {
            "line": {
             "colorbar": {
              "outlinewidth": 0,
              "ticks": ""
             }
            },
            "marker": {
             "colorbar": {
              "outlinewidth": 0,
              "ticks": ""
             }
            },
            "type": "scatter3d"
           }
          ],
          "scattercarpet": [
           {
            "marker": {
             "colorbar": {
              "outlinewidth": 0,
              "ticks": ""
             }
            },
            "type": "scattercarpet"
           }
          ],
          "scattergeo": [
           {
            "marker": {
             "colorbar": {
              "outlinewidth": 0,
              "ticks": ""
             }
            },
            "type": "scattergeo"
           }
          ],
          "scattergl": [
           {
            "marker": {
             "colorbar": {
              "outlinewidth": 0,
              "ticks": ""
             }
            },
            "type": "scattergl"
           }
          ],
          "scattermapbox": [
           {
            "marker": {
             "colorbar": {
              "outlinewidth": 0,
              "ticks": ""
             }
            },
            "type": "scattermapbox"
           }
          ],
          "scatterpolar": [
           {
            "marker": {
             "colorbar": {
              "outlinewidth": 0,
              "ticks": ""
             }
            },
            "type": "scatterpolar"
           }
          ],
          "scatterpolargl": [
           {
            "marker": {
             "colorbar": {
              "outlinewidth": 0,
              "ticks": ""
             }
            },
            "type": "scatterpolargl"
           }
          ],
          "scatterternary": [
           {
            "marker": {
             "colorbar": {
              "outlinewidth": 0,
              "ticks": ""
             }
            },
            "type": "scatterternary"
           }
          ],
          "surface": [
           {
            "colorbar": {
             "outlinewidth": 0,
             "ticks": ""
            },
            "colorscale": [
             [
              0,
              "#0d0887"
             ],
             [
              0.1111111111111111,
              "#46039f"
             ],
             [
              0.2222222222222222,
              "#7201a8"
             ],
             [
              0.3333333333333333,
              "#9c179e"
             ],
             [
              0.4444444444444444,
              "#bd3786"
             ],
             [
              0.5555555555555556,
              "#d8576b"
             ],
             [
              0.6666666666666666,
              "#ed7953"
             ],
             [
              0.7777777777777778,
              "#fb9f3a"
             ],
             [
              0.8888888888888888,
              "#fdca26"
             ],
             [
              1,
              "#f0f921"
             ]
            ],
            "type": "surface"
           }
          ],
          "table": [
           {
            "cells": {
             "fill": {
              "color": "#EBF0F8"
             },
             "line": {
              "color": "white"
             }
            },
            "header": {
             "fill": {
              "color": "#C8D4E3"
             },
             "line": {
              "color": "white"
             }
            },
            "type": "table"
           }
          ]
         },
         "layout": {
          "annotationdefaults": {
           "arrowcolor": "#2a3f5f",
           "arrowhead": 0,
           "arrowwidth": 1
          },
          "autotypenumbers": "strict",
          "coloraxis": {
           "colorbar": {
            "outlinewidth": 0,
            "ticks": ""
           }
          },
          "colorscale": {
           "diverging": [
            [
             0,
             "#8e0152"
            ],
            [
             0.1,
             "#c51b7d"
            ],
            [
             0.2,
             "#de77ae"
            ],
            [
             0.3,
             "#f1b6da"
            ],
            [
             0.4,
             "#fde0ef"
            ],
            [
             0.5,
             "#f7f7f7"
            ],
            [
             0.6,
             "#e6f5d0"
            ],
            [
             0.7,
             "#b8e186"
            ],
            [
             0.8,
             "#7fbc41"
            ],
            [
             0.9,
             "#4d9221"
            ],
            [
             1,
             "#276419"
            ]
           ],
           "sequential": [
            [
             0,
             "#0d0887"
            ],
            [
             0.1111111111111111,
             "#46039f"
            ],
            [
             0.2222222222222222,
             "#7201a8"
            ],
            [
             0.3333333333333333,
             "#9c179e"
            ],
            [
             0.4444444444444444,
             "#bd3786"
            ],
            [
             0.5555555555555556,
             "#d8576b"
            ],
            [
             0.6666666666666666,
             "#ed7953"
            ],
            [
             0.7777777777777778,
             "#fb9f3a"
            ],
            [
             0.8888888888888888,
             "#fdca26"
            ],
            [
             1,
             "#f0f921"
            ]
           ],
           "sequentialminus": [
            [
             0,
             "#0d0887"
            ],
            [
             0.1111111111111111,
             "#46039f"
            ],
            [
             0.2222222222222222,
             "#7201a8"
            ],
            [
             0.3333333333333333,
             "#9c179e"
            ],
            [
             0.4444444444444444,
             "#bd3786"
            ],
            [
             0.5555555555555556,
             "#d8576b"
            ],
            [
             0.6666666666666666,
             "#ed7953"
            ],
            [
             0.7777777777777778,
             "#fb9f3a"
            ],
            [
             0.8888888888888888,
             "#fdca26"
            ],
            [
             1,
             "#f0f921"
            ]
           ]
          },
          "colorway": [
           "#636efa",
           "#EF553B",
           "#00cc96",
           "#ab63fa",
           "#FFA15A",
           "#19d3f3",
           "#FF6692",
           "#B6E880",
           "#FF97FF",
           "#FECB52"
          ],
          "font": {
           "color": "#2a3f5f"
          },
          "geo": {
           "bgcolor": "white",
           "lakecolor": "white",
           "landcolor": "#E5ECF6",
           "showlakes": true,
           "showland": true,
           "subunitcolor": "white"
          },
          "hoverlabel": {
           "align": "left"
          },
          "hovermode": "closest",
          "mapbox": {
           "style": "light"
          },
          "paper_bgcolor": "white",
          "plot_bgcolor": "#E5ECF6",
          "polar": {
           "angularaxis": {
            "gridcolor": "white",
            "linecolor": "white",
            "ticks": ""
           },
           "bgcolor": "#E5ECF6",
           "radialaxis": {
            "gridcolor": "white",
            "linecolor": "white",
            "ticks": ""
           }
          },
          "scene": {
           "xaxis": {
            "backgroundcolor": "#E5ECF6",
            "gridcolor": "white",
            "gridwidth": 2,
            "linecolor": "white",
            "showbackground": true,
            "ticks": "",
            "zerolinecolor": "white"
           },
           "yaxis": {
            "backgroundcolor": "#E5ECF6",
            "gridcolor": "white",
            "gridwidth": 2,
            "linecolor": "white",
            "showbackground": true,
            "ticks": "",
            "zerolinecolor": "white"
           },
           "zaxis": {
            "backgroundcolor": "#E5ECF6",
            "gridcolor": "white",
            "gridwidth": 2,
            "linecolor": "white",
            "showbackground": true,
            "ticks": "",
            "zerolinecolor": "white"
           }
          },
          "shapedefaults": {
           "line": {
            "color": "#2a3f5f"
           }
          },
          "ternary": {
           "aaxis": {
            "gridcolor": "white",
            "linecolor": "white",
            "ticks": ""
           },
           "baxis": {
            "gridcolor": "white",
            "linecolor": "white",
            "ticks": ""
           },
           "bgcolor": "#E5ECF6",
           "caxis": {
            "gridcolor": "white",
            "linecolor": "white",
            "ticks": ""
           }
          },
          "title": {
           "x": 0.05
          },
          "xaxis": {
           "automargin": true,
           "gridcolor": "white",
           "linecolor": "white",
           "ticks": "",
           "title": {
            "standoff": 15
           },
           "zerolinecolor": "white",
           "zerolinewidth": 2
          },
          "yaxis": {
           "automargin": true,
           "gridcolor": "white",
           "linecolor": "white",
           "ticks": "",
           "title": {
            "standoff": 15
           },
           "zerolinecolor": "white",
           "zerolinewidth": 2
          }
         }
        },
        "xaxis": {
         "anchor": "y",
         "domain": [
          0,
          1
         ]
        },
        "yaxis": {
         "anchor": "x",
         "domain": [
          0,
          1
         ],
         "title": {
          "text": "σ normalized"
         }
        }
       }
      }
     },
     "metadata": {},
     "output_type": "display_data"
    }
   ],
   "source": [
    "df_20 = df.copy()\n",
    "Lpts = df_20['NUM_POINTS'].unique()\n",
    "Lclust = df_20['NUM_CLUST'].unique()\n",
    "Linit = df_20['INIT'].unique()\n",
    "Ldf = []\n",
    "possibilities = filter(lambda x:x[0] > x[1], product(Lpts,Lclust,Linit))\n",
    "for npts,nclust,init in possibilities:\n",
    "    df_tmp = df_20.query(f\"NUM_CLUST == {nclust} & NUM_POINTS == {npts} & INIT == '{init}' & IMPR_CLASS == 'FICL'\")\n",
    "    inits = np.array(df_tmp['init_cost'])\n",
    "    mean = np.mean(inits)\n",
    "    std = np.std(inits)\n",
    "    normalized_std = std/mean\n",
    "    Ldf.append({'mean':mean,'std':std,'normalized_std':normalized_std})\n",
    "df_vis = pd.DataFrame(Ldf)\n",
    "fig = px.strip(df_vis,y='normalized_std',stripmode='overlay')\n",
    "fig.add_trace(go.Box(y=df_vis[\"normalized_std\"], boxpoints=False,name=''))\n",
    "fig.update_layout(showlegend=False)\n",
    "fig.update_traces(marker=dict(color='red'))\n",
    "fig.update_layout(\n",
    "    yaxis_title=r'σ normalized'\n",
    ")\n",
    "fig.show()"
   ]
  },
  {
   "cell_type": "markdown",
   "metadata": {},
   "source": [
    "## Statistics per possibilities"
   ]
  },
  {
   "cell_type": "code",
   "execution_count": 3,
   "metadata": {},
   "outputs": [],
   "source": [
    "LnPts = df['NUM_POINTS'].unique()\n",
    "LnPts.sort()\n",
    "Lassign = ['RAND','IMPR']\n",
    "Lalgo = ['BICL','FICL']\n",
    "Lnclust = df['NUM_CLUST'].unique()\n",
    "Lnsamples = [100,1000]"
   ]
  },
  {
   "cell_type": "code",
   "execution_count": 27,
   "metadata": {},
   "outputs": [],
   "source": [
    "# Taken from https://github.com/scipy/scipy/blob/v1.2.1/scipy/stats/morestats.py#L2709-L2806 (on advice of https://github.com/scipy/scipy/issues/2625)\n",
    "from numpy import (asarray, compress) # requiered for local modification\n",
    "from scipy.stats import (find_repeats, distributions,rankdata)\n",
    "from math import sqrt\n",
    "\n",
    "def wilcoxon_modified(x, y=None, zero_method=\"wilcox\", correction=False):\n",
    "    if zero_method not in [\"wilcox\", \"pratt\", \"zsplit\"]:\n",
    "        raise ValueError(\"Zero method should be either 'wilcox' \"\n",
    "                         \"or 'pratt' or 'zsplit'\")\n",
    "\n",
    "    if y is None:\n",
    "        d = asarray(x)\n",
    "    else:\n",
    "        x, y = map(asarray, (x, y))\n",
    "        if len(x) != len(y):\n",
    "            raise ValueError('Unequal N in wilcoxon.  Aborting.')\n",
    "        d = x - y\n",
    "\n",
    "    if zero_method == \"wilcox\":\n",
    "        # Keep all non-zero differences\n",
    "        d = compress(np.not_equal(d, 0), d, axis=-1)\n",
    "\n",
    "    count = len(d)\n",
    "    if count < 10:\n",
    "        warnings.warn(\"Warning: sample size too small for normal approximation.\")\n",
    "\n",
    "    r = rankdata(abs(d))\n",
    "    r_plus = np.sum((d > 0) * r, axis=0)\n",
    "    r_minus = np.sum((d < 0) * r, axis=0)\n",
    "\n",
    "    if zero_method == \"zsplit\":\n",
    "        r_zero = np.sum((d == 0) * r, axis=0)\n",
    "        r_plus += r_zero / 2.\n",
    "        r_minus += r_zero / 2.\n",
    "\n",
    "    T = min(r_plus, r_minus)\n",
    "    mn = count * (count + 1.) * 0.25 # n(n+1)/4 => if no difference btwn algo, T+ ~ T-: here n(n+1)/4 = half ranks in T+, half in T-\n",
    "    se = count * (count + 1.) * (2. * count + 1.) # std from the mid separation T+ ~ T-\n",
    "\n",
    "    if zero_method == \"pratt\":\n",
    "        r = r[d != 0]\n",
    "\n",
    "    replist, repnum = find_repeats(r)\n",
    "    if repnum.size != 0:\n",
    "        # Correction for repeated elements.\n",
    "        se -= 0.5 * (repnum * (repnum * repnum - 1)).sum()\n",
    "\n",
    "    se = sqrt(se / 24) # why 24 = 6 x 4 <- 6 ok (n(n+1)(2n+1)/6) but 1/4 ? -> var^2/2=sigma/2\n",
    "    correction = 0.5 * int(bool(correction)) * np.sign(T - mn) # = 0 here\n",
    "    z = (T - mn - correction) / se # compare value occured with theorical value if no difference, normalized by std\n",
    "    prob = 2. * distributions.norm.sf(abs(z)) # sf = survival function of the norm scipy package S([|z|]) = Pr(x>|z|)\n",
    "    # Here we take 2 times the probability that x is greater than |z|, normalized deviation from theorical equal repartition of ranks\n",
    "    # Multiply by 2 because 2 sides p values (_|_/|-|\\_|)\n",
    "    # T-mn represents the biggest gap between theorical equal repartition of ranks between R+ and R- and observed repartition of ranks\n",
    "    # se normalize this value by the sum of ranks\n",
    "\n",
    "    return {\"T\":T,\"pvalue\":prob,\"Z\":z,\"sigma\":se,\"mu\":mn,\"S_plus\":r_plus,\"S_minus\":r_minus,\"n\":count,\"rep\":len(repnum),\"correction\":correction, \"effect_size\":z/count**0.5}\n",
    "def ztest(a,b):\n",
    "    diff = a-b\n",
    "    n = diff.shape[0]\n",
    "    d = (diff).astype(np.float64)\n",
    "    v = np.var(d, 0, ddof=1)\n",
    "    dm = np.mean(d, 0)\n",
    "    denom = np.sqrt(v / n)\n",
    "    t = (dm/denom)\n",
    "    df=n-1\n",
    "    prob = distributions.norm.sf(np.abs(t)) * 2  # use np.abs to get upper tail\n",
    "    cohens = dm/v**0.5\n",
    "    return {\"z\":t,\"pvalue\":prob,\"sigmaNorm\":denom,\"mean\":dm,'effect_size':cohens}\n",
    "def sign_test(diff):\n",
    "    # Source: https://openpress.usask.ca/introtoappliedstatsforpsych/chapter/16-2-median-sign-test/\n",
    "    n = len(diff != 0)\n",
    "    r_plus = np.sum((diff > 0), axis=0)\n",
    "    r_minus = np.sum((diff < 0), axis=0)\n",
    "    X = min(r_plus,r_minus)\n",
    "    if X<n/2:\n",
    "        Z = ((X+0.5)-n/2)/(n**0.5/2)\n",
    "    else:\n",
    "        Z = ((X-0.5)-n/2)/(n**0.5/2)\n",
    "    prob = 2. * distributions.norm.sf(abs(Z))\n",
    "    return {\"z\":Z,\"pvalue\":prob,\"r_plus\":r_plus,\"r_minus\":r_minus,'n':n,'effect_size':X/n-0.5}\n",
    "def rank_biserial_corr(stat,n):\n",
    "    T = stat\n",
    "    R1 = abs(stat)\n",
    "    R2 = abs(n*(n+1)/2-R1)\n",
    "    return 4*abs(T-(R1+R2)/2)/(n*(n+1))\n",
    "# Source effect size https://www.utstat.toronto.edu/~brunner/oldclass/378f16/readings/CohenPower.pdf page 164\n",
    "# ttest source : https://github.com/scipy/scipy/blob/c3fa90dcfcaef71658744c73578e9e7d915c81e9/scipy/stats/stats.py#L4183\n"
   ]
  },
  {
   "cell_type": "markdown",
   "metadata": {},
   "source": [
    "### Compute stats per possibility"
   ]
  },
  {
   "cell_type": "code",
   "execution_count": 5,
   "metadata": {},
   "outputs": [
    {
     "ename": "KeyboardInterrupt",
     "evalue": "",
     "output_type": "error",
     "traceback": [
      "\u001b[1;31m---------------------------------------------------------------------------\u001b[0m",
      "\u001b[1;31mKeyboardInterrupt\u001b[0m                         Traceback (most recent call last)",
      "\u001b[1;32mc:\\Users\\robin\\Documents\\Cours\\Poly\\Recherche\\FIBI_Recherche\\FIBI\\data\\detailed_analysis\\clustering.ipynb Cell 17\u001b[0m in \u001b[0;36m<cell line: 63>\u001b[1;34m()\u001b[0m\n\u001b[0;32m    <a href='vscode-notebook-cell:/c%3A/Users/robin/Documents/Cours/Poly/Recherche/FIBI_Recherche/FIBI/data/detailed_analysis/clustering.ipynb#X22sZmlsZQ%3D%3D?line=103'>104</a>\u001b[0m \u001b[39m# Compute statistics\u001b[39;00m\n\u001b[0;32m    <a href='vscode-notebook-cell:/c%3A/Users/robin/Documents/Cours/Poly/Recherche/FIBI_Recherche/FIBI/data/detailed_analysis/clustering.ipynb#X22sZmlsZQ%3D%3D?line=104'>105</a>\u001b[0m \u001b[39m## On the web for ttest\u001b[39;00m\n\u001b[0;32m    <a href='vscode-notebook-cell:/c%3A/Users/robin/Documents/Cours/Poly/Recherche/FIBI_Recherche/FIBI/data/detailed_analysis/clustering.ipynb#X22sZmlsZQ%3D%3D?line=105'>106</a>\u001b[0m driver\u001b[39m.\u001b[39mexecute_script(\u001b[39m\"\u001b[39m\u001b[39mcalculate_paired_t()\u001b[39m\u001b[39m\"\u001b[39m);\n\u001b[1;32m--> <a href='vscode-notebook-cell:/c%3A/Users/robin/Documents/Cours/Poly/Recherche/FIBI_Recherche/FIBI/data/detailed_analysis/clustering.ipynb#X22sZmlsZQ%3D%3D?line=106'>107</a>\u001b[0m pvalue \u001b[39m=\u001b[39m driver\u001b[39m.\u001b[39;49mexecute_script(\u001b[39m\"\u001b[39;49m\u001b[39mreturn document.querySelector(\u001b[39;49m\u001b[39m'\u001b[39;49m\u001b[39m#report tr td:nth-child(2) div\u001b[39;49m\u001b[39m'\u001b[39;49m\u001b[39m).textContent\u001b[39;49m\u001b[39m\"\u001b[39;49m)\n\u001b[0;32m    <a href='vscode-notebook-cell:/c%3A/Users/robin/Documents/Cours/Poly/Recherche/FIBI_Recherche/FIBI/data/detailed_analysis/clustering.ipynb#X22sZmlsZQ%3D%3D?line=107'>108</a>\u001b[0m cohens_d \u001b[39m=\u001b[39m driver\u001b[39m.\u001b[39mexecute_script(\u001b[39m\"\u001b[39m\u001b[39mreturn document.querySelector(\u001b[39m\u001b[39m'\u001b[39m\u001b[39m#steps1 table:last-child tr:first-child td:last-child\u001b[39m\u001b[39m'\u001b[39m\u001b[39m).innerText\u001b[39m\u001b[39m\"\u001b[39m)\n\u001b[0;32m    <a href='vscode-notebook-cell:/c%3A/Users/robin/Documents/Cours/Poly/Recherche/FIBI_Recherche/FIBI/data/detailed_analysis/clustering.ipynb#X22sZmlsZQ%3D%3D?line=108'>109</a>\u001b[0m dico2 \u001b[39m=\u001b[39m {\n\u001b[0;32m    <a href='vscode-notebook-cell:/c%3A/Users/robin/Documents/Cours/Poly/Recherche/FIBI_Recherche/FIBI/data/detailed_analysis/clustering.ipynb#X22sZmlsZQ%3D%3D?line=109'>110</a>\u001b[0m     \u001b[39m\"\u001b[39m\u001b[39mpvalue\u001b[39m\u001b[39m\"\u001b[39m:pvalue,\n\u001b[0;32m    <a href='vscode-notebook-cell:/c%3A/Users/robin/Documents/Cours/Poly/Recherche/FIBI_Recherche/FIBI/data/detailed_analysis/clustering.ipynb#X22sZmlsZQ%3D%3D?line=110'>111</a>\u001b[0m     \u001b[39m\"\u001b[39m\u001b[39meffect_size\u001b[39m\u001b[39m\"\u001b[39m:cohens_d\u001b[39m.\u001b[39msplit(\u001b[39m'\u001b[39m\u001b[39m=\u001b[39m\u001b[39m'\u001b[39m)[\u001b[39m1\u001b[39m]\u001b[39m.\u001b[39mstrip(),\n\u001b[1;32m   (...)\u001b[0m\n\u001b[0;32m    <a href='vscode-notebook-cell:/c%3A/Users/robin/Documents/Cours/Poly/Recherche/FIBI_Recherche/FIBI/data/detailed_analysis/clustering.ipynb#X22sZmlsZQ%3D%3D?line=113'>114</a>\u001b[0m     \u001b[39m'\u001b[39m\u001b[39msigmaNorm\u001b[39m\u001b[39m'\u001b[39m:(np\u001b[39m.\u001b[39mvar(dico[Lalgo[\u001b[39m0\u001b[39m]]\u001b[39m-\u001b[39mdico[Lalgo[\u001b[39m1\u001b[39m]],ddof\u001b[39m=\u001b[39m\u001b[39m1\u001b[39m)\u001b[39m/\u001b[39mdico[Lalgo[\u001b[39m0\u001b[39m]]\u001b[39m.\u001b[39mshape[\u001b[39m0\u001b[39m])\u001b[39m*\u001b[39m\u001b[39m*\u001b[39m\u001b[39m0.5\u001b[39m,\n\u001b[0;32m    <a href='vscode-notebook-cell:/c%3A/Users/robin/Documents/Cours/Poly/Recherche/FIBI_Recherche/FIBI/data/detailed_analysis/clustering.ipynb#X22sZmlsZQ%3D%3D?line=114'>115</a>\u001b[0m     }\n",
      "File \u001b[1;32mc:\\Users\\robin\\Documents\\Cours\\Poly\\Recherche\\FIBI_Recherche\\venv\\lib\\site-packages\\selenium\\webdriver\\remote\\webdriver.py:493\u001b[0m, in \u001b[0;36mWebDriver.execute_script\u001b[1;34m(self, script, *args)\u001b[0m\n\u001b[0;32m    490\u001b[0m converted_args \u001b[39m=\u001b[39m \u001b[39mlist\u001b[39m(args)\n\u001b[0;32m    491\u001b[0m command \u001b[39m=\u001b[39m Command\u001b[39m.\u001b[39mW3C_EXECUTE_SCRIPT\n\u001b[1;32m--> 493\u001b[0m \u001b[39mreturn\u001b[39;00m \u001b[39mself\u001b[39;49m\u001b[39m.\u001b[39;49mexecute(command, {\n\u001b[0;32m    494\u001b[0m     \u001b[39m'\u001b[39;49m\u001b[39mscript\u001b[39;49m\u001b[39m'\u001b[39;49m: script,\n\u001b[0;32m    495\u001b[0m     \u001b[39m'\u001b[39;49m\u001b[39margs\u001b[39;49m\u001b[39m'\u001b[39;49m: converted_args})[\u001b[39m'\u001b[39m\u001b[39mvalue\u001b[39m\u001b[39m'\u001b[39m]\n",
      "File \u001b[1;32mc:\\Users\\robin\\Documents\\Cours\\Poly\\Recherche\\FIBI_Recherche\\venv\\lib\\site-packages\\selenium\\webdriver\\remote\\webdriver.py:433\u001b[0m, in \u001b[0;36mWebDriver.execute\u001b[1;34m(self, driver_command, params)\u001b[0m\n\u001b[0;32m    430\u001b[0m         params[\u001b[39m'\u001b[39m\u001b[39msessionId\u001b[39m\u001b[39m'\u001b[39m] \u001b[39m=\u001b[39m \u001b[39mself\u001b[39m\u001b[39m.\u001b[39msession_id\n\u001b[0;32m    432\u001b[0m params \u001b[39m=\u001b[39m \u001b[39mself\u001b[39m\u001b[39m.\u001b[39m_wrap_value(params)\n\u001b[1;32m--> 433\u001b[0m response \u001b[39m=\u001b[39m \u001b[39mself\u001b[39;49m\u001b[39m.\u001b[39;49mcommand_executor\u001b[39m.\u001b[39;49mexecute(driver_command, params)\n\u001b[0;32m    434\u001b[0m \u001b[39mif\u001b[39;00m response:\n\u001b[0;32m    435\u001b[0m     \u001b[39mself\u001b[39m\u001b[39m.\u001b[39merror_handler\u001b[39m.\u001b[39mcheck_response(response)\n",
      "File \u001b[1;32mc:\\Users\\robin\\Documents\\Cours\\Poly\\Recherche\\FIBI_Recherche\\venv\\lib\\site-packages\\selenium\\webdriver\\remote\\remote_connection.py:344\u001b[0m, in \u001b[0;36mRemoteConnection.execute\u001b[1;34m(self, command, params)\u001b[0m\n\u001b[0;32m    342\u001b[0m data \u001b[39m=\u001b[39m utils\u001b[39m.\u001b[39mdump_json(params)\n\u001b[0;32m    343\u001b[0m url \u001b[39m=\u001b[39m \u001b[39mf\u001b[39m\u001b[39m\"\u001b[39m\u001b[39m{\u001b[39;00m\u001b[39mself\u001b[39m\u001b[39m.\u001b[39m_url\u001b[39m}\u001b[39;00m\u001b[39m{\u001b[39;00mpath\u001b[39m}\u001b[39;00m\u001b[39m\"\u001b[39m\n\u001b[1;32m--> 344\u001b[0m \u001b[39mreturn\u001b[39;00m \u001b[39mself\u001b[39;49m\u001b[39m.\u001b[39;49m_request(command_info[\u001b[39m0\u001b[39;49m], url, body\u001b[39m=\u001b[39;49mdata)\n",
      "File \u001b[1;32mc:\\Users\\robin\\Documents\\Cours\\Poly\\Recherche\\FIBI_Recherche\\venv\\lib\\site-packages\\selenium\\webdriver\\remote\\remote_connection.py:366\u001b[0m, in \u001b[0;36mRemoteConnection._request\u001b[1;34m(self, method, url, body)\u001b[0m\n\u001b[0;32m    363\u001b[0m     body \u001b[39m=\u001b[39m \u001b[39mNone\u001b[39;00m\n\u001b[0;32m    365\u001b[0m \u001b[39mif\u001b[39;00m \u001b[39mself\u001b[39m\u001b[39m.\u001b[39mkeep_alive:\n\u001b[1;32m--> 366\u001b[0m     response \u001b[39m=\u001b[39m \u001b[39mself\u001b[39;49m\u001b[39m.\u001b[39;49m_conn\u001b[39m.\u001b[39;49mrequest(method, url, body\u001b[39m=\u001b[39;49mbody, headers\u001b[39m=\u001b[39;49mheaders)\n\u001b[0;32m    367\u001b[0m     statuscode \u001b[39m=\u001b[39m response\u001b[39m.\u001b[39mstatus\n\u001b[0;32m    368\u001b[0m \u001b[39melse\u001b[39;00m:\n",
      "File \u001b[1;32mc:\\Users\\robin\\Documents\\Cours\\Poly\\Recherche\\FIBI_Recherche\\venv\\lib\\site-packages\\urllib3\\request.py:78\u001b[0m, in \u001b[0;36mRequestMethods.request\u001b[1;34m(self, method, url, fields, headers, **urlopen_kw)\u001b[0m\n\u001b[0;32m     74\u001b[0m     \u001b[39mreturn\u001b[39;00m \u001b[39mself\u001b[39m\u001b[39m.\u001b[39mrequest_encode_url(\n\u001b[0;32m     75\u001b[0m         method, url, fields\u001b[39m=\u001b[39mfields, headers\u001b[39m=\u001b[39mheaders, \u001b[39m*\u001b[39m\u001b[39m*\u001b[39murlopen_kw\n\u001b[0;32m     76\u001b[0m     )\n\u001b[0;32m     77\u001b[0m \u001b[39melse\u001b[39;00m:\n\u001b[1;32m---> 78\u001b[0m     \u001b[39mreturn\u001b[39;00m \u001b[39mself\u001b[39;49m\u001b[39m.\u001b[39;49mrequest_encode_body(\n\u001b[0;32m     79\u001b[0m         method, url, fields\u001b[39m=\u001b[39;49mfields, headers\u001b[39m=\u001b[39;49mheaders, \u001b[39m*\u001b[39;49m\u001b[39m*\u001b[39;49murlopen_kw\n\u001b[0;32m     80\u001b[0m     )\n",
      "File \u001b[1;32mc:\\Users\\robin\\Documents\\Cours\\Poly\\Recherche\\FIBI_Recherche\\venv\\lib\\site-packages\\urllib3\\request.py:170\u001b[0m, in \u001b[0;36mRequestMethods.request_encode_body\u001b[1;34m(self, method, url, fields, headers, encode_multipart, multipart_boundary, **urlopen_kw)\u001b[0m\n\u001b[0;32m    167\u001b[0m extra_kw[\u001b[39m\"\u001b[39m\u001b[39mheaders\u001b[39m\u001b[39m\"\u001b[39m]\u001b[39m.\u001b[39mupdate(headers)\n\u001b[0;32m    168\u001b[0m extra_kw\u001b[39m.\u001b[39mupdate(urlopen_kw)\n\u001b[1;32m--> 170\u001b[0m \u001b[39mreturn\u001b[39;00m \u001b[39mself\u001b[39;49m\u001b[39m.\u001b[39;49murlopen(method, url, \u001b[39m*\u001b[39;49m\u001b[39m*\u001b[39;49mextra_kw)\n",
      "File \u001b[1;32mc:\\Users\\robin\\Documents\\Cours\\Poly\\Recherche\\FIBI_Recherche\\venv\\lib\\site-packages\\urllib3\\poolmanager.py:376\u001b[0m, in \u001b[0;36mPoolManager.urlopen\u001b[1;34m(self, method, url, redirect, **kw)\u001b[0m\n\u001b[0;32m    374\u001b[0m     response \u001b[39m=\u001b[39m conn\u001b[39m.\u001b[39murlopen(method, url, \u001b[39m*\u001b[39m\u001b[39m*\u001b[39mkw)\n\u001b[0;32m    375\u001b[0m \u001b[39melse\u001b[39;00m:\n\u001b[1;32m--> 376\u001b[0m     response \u001b[39m=\u001b[39m conn\u001b[39m.\u001b[39;49murlopen(method, u\u001b[39m.\u001b[39;49mrequest_uri, \u001b[39m*\u001b[39;49m\u001b[39m*\u001b[39;49mkw)\n\u001b[0;32m    378\u001b[0m redirect_location \u001b[39m=\u001b[39m redirect \u001b[39mand\u001b[39;00m response\u001b[39m.\u001b[39mget_redirect_location()\n\u001b[0;32m    379\u001b[0m \u001b[39mif\u001b[39;00m \u001b[39mnot\u001b[39;00m redirect_location:\n",
      "File \u001b[1;32mc:\\Users\\robin\\Documents\\Cours\\Poly\\Recherche\\FIBI_Recherche\\venv\\lib\\site-packages\\urllib3\\connectionpool.py:703\u001b[0m, in \u001b[0;36mHTTPConnectionPool.urlopen\u001b[1;34m(self, method, url, body, headers, retries, redirect, assert_same_host, timeout, pool_timeout, release_conn, chunked, body_pos, **response_kw)\u001b[0m\n\u001b[0;32m    700\u001b[0m     \u001b[39mself\u001b[39m\u001b[39m.\u001b[39m_prepare_proxy(conn)\n\u001b[0;32m    702\u001b[0m \u001b[39m# Make the request on the httplib connection object.\u001b[39;00m\n\u001b[1;32m--> 703\u001b[0m httplib_response \u001b[39m=\u001b[39m \u001b[39mself\u001b[39;49m\u001b[39m.\u001b[39;49m_make_request(\n\u001b[0;32m    704\u001b[0m     conn,\n\u001b[0;32m    705\u001b[0m     method,\n\u001b[0;32m    706\u001b[0m     url,\n\u001b[0;32m    707\u001b[0m     timeout\u001b[39m=\u001b[39;49mtimeout_obj,\n\u001b[0;32m    708\u001b[0m     body\u001b[39m=\u001b[39;49mbody,\n\u001b[0;32m    709\u001b[0m     headers\u001b[39m=\u001b[39;49mheaders,\n\u001b[0;32m    710\u001b[0m     chunked\u001b[39m=\u001b[39;49mchunked,\n\u001b[0;32m    711\u001b[0m )\n\u001b[0;32m    713\u001b[0m \u001b[39m# If we're going to release the connection in ``finally:``, then\u001b[39;00m\n\u001b[0;32m    714\u001b[0m \u001b[39m# the response doesn't need to know about the connection. Otherwise\u001b[39;00m\n\u001b[0;32m    715\u001b[0m \u001b[39m# it will also try to release it and we'll have a double-release\u001b[39;00m\n\u001b[0;32m    716\u001b[0m \u001b[39m# mess.\u001b[39;00m\n\u001b[0;32m    717\u001b[0m response_conn \u001b[39m=\u001b[39m conn \u001b[39mif\u001b[39;00m \u001b[39mnot\u001b[39;00m release_conn \u001b[39melse\u001b[39;00m \u001b[39mNone\u001b[39;00m\n",
      "File \u001b[1;32mc:\\Users\\robin\\Documents\\Cours\\Poly\\Recherche\\FIBI_Recherche\\venv\\lib\\site-packages\\urllib3\\connectionpool.py:449\u001b[0m, in \u001b[0;36mHTTPConnectionPool._make_request\u001b[1;34m(self, conn, method, url, timeout, chunked, **httplib_request_kw)\u001b[0m\n\u001b[0;32m    444\u001b[0m             httplib_response \u001b[39m=\u001b[39m conn\u001b[39m.\u001b[39mgetresponse()\n\u001b[0;32m    445\u001b[0m         \u001b[39mexcept\u001b[39;00m \u001b[39mBaseException\u001b[39;00m \u001b[39mas\u001b[39;00m e:\n\u001b[0;32m    446\u001b[0m             \u001b[39m# Remove the TypeError from the exception chain in\u001b[39;00m\n\u001b[0;32m    447\u001b[0m             \u001b[39m# Python 3 (including for exceptions like SystemExit).\u001b[39;00m\n\u001b[0;32m    448\u001b[0m             \u001b[39m# Otherwise it looks like a bug in the code.\u001b[39;00m\n\u001b[1;32m--> 449\u001b[0m             six\u001b[39m.\u001b[39;49mraise_from(e, \u001b[39mNone\u001b[39;49;00m)\n\u001b[0;32m    450\u001b[0m \u001b[39mexcept\u001b[39;00m (SocketTimeout, BaseSSLError, SocketError) \u001b[39mas\u001b[39;00m e:\n\u001b[0;32m    451\u001b[0m     \u001b[39mself\u001b[39m\u001b[39m.\u001b[39m_raise_timeout(err\u001b[39m=\u001b[39me, url\u001b[39m=\u001b[39murl, timeout_value\u001b[39m=\u001b[39mread_timeout)\n",
      "File \u001b[1;32m<string>:3\u001b[0m, in \u001b[0;36mraise_from\u001b[1;34m(value, from_value)\u001b[0m\n",
      "File \u001b[1;32mc:\\Users\\robin\\Documents\\Cours\\Poly\\Recherche\\FIBI_Recherche\\venv\\lib\\site-packages\\urllib3\\connectionpool.py:444\u001b[0m, in \u001b[0;36mHTTPConnectionPool._make_request\u001b[1;34m(self, conn, method, url, timeout, chunked, **httplib_request_kw)\u001b[0m\n\u001b[0;32m    441\u001b[0m \u001b[39mexcept\u001b[39;00m \u001b[39mTypeError\u001b[39;00m:\n\u001b[0;32m    442\u001b[0m     \u001b[39m# Python 3\u001b[39;00m\n\u001b[0;32m    443\u001b[0m     \u001b[39mtry\u001b[39;00m:\n\u001b[1;32m--> 444\u001b[0m         httplib_response \u001b[39m=\u001b[39m conn\u001b[39m.\u001b[39;49mgetresponse()\n\u001b[0;32m    445\u001b[0m     \u001b[39mexcept\u001b[39;00m \u001b[39mBaseException\u001b[39;00m \u001b[39mas\u001b[39;00m e:\n\u001b[0;32m    446\u001b[0m         \u001b[39m# Remove the TypeError from the exception chain in\u001b[39;00m\n\u001b[0;32m    447\u001b[0m         \u001b[39m# Python 3 (including for exceptions like SystemExit).\u001b[39;00m\n\u001b[0;32m    448\u001b[0m         \u001b[39m# Otherwise it looks like a bug in the code.\u001b[39;00m\n\u001b[0;32m    449\u001b[0m         six\u001b[39m.\u001b[39mraise_from(e, \u001b[39mNone\u001b[39;00m)\n",
      "File \u001b[1;32mc:\\Users\\robin\\Documents\\Cours\\Poly\\Recherche\\FIBI_Recherche\\venv\\lib\\http\\client.py:1348\u001b[0m, in \u001b[0;36mHTTPConnection.getresponse\u001b[1;34m(self)\u001b[0m\n\u001b[0;32m   1346\u001b[0m \u001b[39mtry\u001b[39;00m:\n\u001b[0;32m   1347\u001b[0m     \u001b[39mtry\u001b[39;00m:\n\u001b[1;32m-> 1348\u001b[0m         response\u001b[39m.\u001b[39;49mbegin()\n\u001b[0;32m   1349\u001b[0m     \u001b[39mexcept\u001b[39;00m \u001b[39mConnectionError\u001b[39;00m:\n\u001b[0;32m   1350\u001b[0m         \u001b[39mself\u001b[39m\u001b[39m.\u001b[39mclose()\n",
      "File \u001b[1;32mc:\\Users\\robin\\Documents\\Cours\\Poly\\Recherche\\FIBI_Recherche\\venv\\lib\\http\\client.py:316\u001b[0m, in \u001b[0;36mHTTPResponse.begin\u001b[1;34m(self)\u001b[0m\n\u001b[0;32m    314\u001b[0m \u001b[39m# read until we get a non-100 response\u001b[39;00m\n\u001b[0;32m    315\u001b[0m \u001b[39mwhile\u001b[39;00m \u001b[39mTrue\u001b[39;00m:\n\u001b[1;32m--> 316\u001b[0m     version, status, reason \u001b[39m=\u001b[39m \u001b[39mself\u001b[39;49m\u001b[39m.\u001b[39;49m_read_status()\n\u001b[0;32m    317\u001b[0m     \u001b[39mif\u001b[39;00m status \u001b[39m!=\u001b[39m CONTINUE:\n\u001b[0;32m    318\u001b[0m         \u001b[39mbreak\u001b[39;00m\n",
      "File \u001b[1;32mc:\\Users\\robin\\Documents\\Cours\\Poly\\Recherche\\FIBI_Recherche\\venv\\lib\\http\\client.py:277\u001b[0m, in \u001b[0;36mHTTPResponse._read_status\u001b[1;34m(self)\u001b[0m\n\u001b[0;32m    276\u001b[0m \u001b[39mdef\u001b[39;00m \u001b[39m_read_status\u001b[39m(\u001b[39mself\u001b[39m):\n\u001b[1;32m--> 277\u001b[0m     line \u001b[39m=\u001b[39m \u001b[39mstr\u001b[39m(\u001b[39mself\u001b[39;49m\u001b[39m.\u001b[39;49mfp\u001b[39m.\u001b[39;49mreadline(_MAXLINE \u001b[39m+\u001b[39;49m \u001b[39m1\u001b[39;49m), \u001b[39m\"\u001b[39m\u001b[39miso-8859-1\u001b[39m\u001b[39m\"\u001b[39m)\n\u001b[0;32m    278\u001b[0m     \u001b[39mif\u001b[39;00m \u001b[39mlen\u001b[39m(line) \u001b[39m>\u001b[39m _MAXLINE:\n\u001b[0;32m    279\u001b[0m         \u001b[39mraise\u001b[39;00m LineTooLong(\u001b[39m\"\u001b[39m\u001b[39mstatus line\u001b[39m\u001b[39m\"\u001b[39m)\n",
      "File \u001b[1;32mc:\\Users\\robin\\Documents\\Cours\\Poly\\Recherche\\FIBI_Recherche\\venv\\lib\\socket.py:669\u001b[0m, in \u001b[0;36mSocketIO.readinto\u001b[1;34m(self, b)\u001b[0m\n\u001b[0;32m    667\u001b[0m \u001b[39mwhile\u001b[39;00m \u001b[39mTrue\u001b[39;00m:\n\u001b[0;32m    668\u001b[0m     \u001b[39mtry\u001b[39;00m:\n\u001b[1;32m--> 669\u001b[0m         \u001b[39mreturn\u001b[39;00m \u001b[39mself\u001b[39;49m\u001b[39m.\u001b[39;49m_sock\u001b[39m.\u001b[39;49mrecv_into(b)\n\u001b[0;32m    670\u001b[0m     \u001b[39mexcept\u001b[39;00m timeout:\n\u001b[0;32m    671\u001b[0m         \u001b[39mself\u001b[39m\u001b[39m.\u001b[39m_timeout_occurred \u001b[39m=\u001b[39m \u001b[39mTrue\u001b[39;00m\n",
      "\u001b[1;31mKeyboardInterrupt\u001b[0m: "
     ]
    }
   ],
   "source": [
    "\n",
    "%%capture \n",
    "\n",
    "to_key = lambda npts,nsamples,nclust,init: f\"{npts}_{nsamples}_{nclust}_{init}\"\n",
    "key_to_dict = lambda x: {'npts':x.split('_')[0],'nsamples':x.split('_')[1],'nclust':x.split('_')[2], 'INIT':x.split('_')[3]}\n",
    "\n",
    "service = ChromeService(executable_path=ChromeDriverManager().install())\n",
    "driver = webdriver.Chrome(service=service)\n",
    "driver.get('https://www.statskingdom.com/paired-t-test-calculator.html')\n",
    "fi_textarea = driver.find_element(\"id\",\"c0\")\n",
    "bi_textarea = driver.find_element(\"id\",\"c1\")\n",
    "bi_textarea.clear()\n",
    "submit_btn = driver.find_element(\"id\",\"manual_\")\n",
    "import time\n",
    "time.sleep(1)\n",
    "updatemenusYAxis = list([\n",
    "    dict(active=1,\n",
    "         buttons=list([\n",
    "            dict(label='Log Scale',\n",
    "                 method='update',\n",
    "                 args=[{'visible': [True, True]},\n",
    "                       {'title': 'Log scale',\n",
    "                        'yaxis': {'type': 'log'}}]),\n",
    "            dict(label='Linear Scale',\n",
    "                 method='update',\n",
    "                 args=[{'visible': [True, True]},\n",
    "                       {'title': 'Linear scale',\n",
    "                        'yaxis': {'type': 'linear'}}])\n",
    "            ]),\n",
    "        )\n",
    "    ])\n",
    "res_ttest = {}\n",
    "res_wilcoxon = {}\n",
    "res_sign_test = {}\n",
    "res_best = {}\n",
    "res_variance = {}\n",
    "Lfig_names = ['box_algos','histo_algos','box_diff','histo_diff','qqplot','symmetric plot']\n",
    "Lfig_names_log = [e for e in Lfig_names if e not in ['qqplot','symmetric plot']]\n",
    "# Data preprocessing\n",
    "for nPts,INIT,N_CLUST,nsamples in product(LnPts,Lassign,Lnclust,Lnsamples):\n",
    "    if nPts <= N_CLUST:\n",
    "        continue\n",
    "    df_1 = df.query(f\"INIT == '{INIT}' & NUM_CLUST=={N_CLUST} & NUM_POINTS == {nPts}\").copy()\n",
    "    # Graph utilitary elements\n",
    "    dico_fig = {}\n",
    "    for name in Lfig_names:\n",
    "        if name not in Lfig_names_log:\n",
    "            dico_fig[name] = go.Figure(layout=dict(updatemenus=updatemenusYAxis, title='Linear scale'))\n",
    "        else:\n",
    "            dico_fig[name] = go.Figure()\n",
    "    dico = {}\n",
    "    for algo,field,color in zip(Lalgo,[\"c0\",\"c1\"],['red','blue']):\n",
    "        driver.execute_script(f\"document.querySelector('#{field}').value = ''\")\n",
    "        # Preprocess data\n",
    "        df_3 = df_1.query(f\"IMPR_CLASS=='{algo}'\")\n",
    "        df_3.sort_values(by=['SEED_POINTS','SEED_ASSIGN'],inplace=True)\n",
    "        final_cost = np.array(df_3['final_cost'])[:nsamples]\n",
    "        init_cost = np.array(df_3['init_cost'])[:nsamples]\n",
    "        dico[algo] = (final_cost/init_cost)\n",
    "        # Fill html form \n",
    "        data = \",\".join([str(e) for e in dico[algo]])\n",
    "        driver.execute_script(f\"document.querySelector('#{field}').value = '{data}'\")\n",
    "    for algo,color in zip(Lalgo,['red','blue']):\n",
    "        # Create graphs\n",
    "        dico_fig['box_algos'].add_trace(go.Box(y=dico[algo],name=f\"{nPts} points, algo {algo}\",boxpoints=\"all\"))\n",
    "        min_algos = min(np.min(dico['FICL']),np.min(dico['BICL']))\n",
    "        max_algos = max(np.max(dico['FICL']),np.max(dico['BICL']))\n",
    "        x=np.linspace(min_algos,max_algos,num=1000)\n",
    "        mu=np.mean(dico[algo])\n",
    "        sigma=np.std(dico[algo])\n",
    "        hist,bins_edges = np.histogram(dico[algo],bins=50,\n",
    "                                       range=(min_algos,max_algos)\n",
    "                                       )\n",
    "        area = 0\n",
    "        for i in range(len(hist)):\n",
    "            area += (bins_edges[i+1]-bins_edges[i])*hist[i]\n",
    "        means = [(bins_edges[i]+bins_edges[i+1])/2 for i in range(len(hist))]\n",
    "        dico_fig['histo_algos'].add_trace(go.Bar(x=means,y=hist,name=f\"{nPts} points, algo {algo}\",marker=dict(color = color)))\n",
    "        dico_fig['histo_algos'].add_trace(go.Scatter(x=x,y=norm.pdf(x, mu, sigma)*area,marker=dict(color = color),name=f\"{nPts} points, algo {algo}, normal distrib.\"))\n",
    "        dico_fig['histo_algos'].update_layout(barmode='group', bargap=0.0,bargroupgap=0.0)\n",
    "    time.sleep(0.1)\n",
    "    # Compute statistics\n",
    "    ## On the web for ttest\n",
    "    driver.execute_script(\"calculate_paired_t()\");\n",
    "    pvalue = driver.execute_script(\"return document.querySelector('#report tr td:nth-child(2) div').textContent\")\n",
    "    cohens_d = driver.execute_script(\"return document.querySelector('#steps1 table:last-child tr:first-child td:last-child').innerText\")\n",
    "    res_ttest[to_key(nPts,nsamples,N_CLUST,INIT)] = {\n",
    "        \"pvalue\":pvalue,\n",
    "        \"effect_size\":cohens_d.split('=')[1].strip(),\n",
    "        'tvalue':compute_t(dico[Lalgo[0]]-dico[Lalgo[1]]),\n",
    "        'mean':np.mean(dico[Lalgo[0]]-dico[Lalgo[1]]),\n",
    "        'sigmaNorm':(np.var(dico[Lalgo[0]]-dico[Lalgo[1]],ddof=1)/dico[Lalgo[0]].shape[0])**0.5,\n",
    "        }\n",
    "    ## Locally for wilcoxon\n",
    "    r_wilcoxon = wilcoxon_modified(dico['BICL'],dico['FICL'])\n",
    "    res_wilcoxon[to_key(nPts,nsamples,N_CLUST,INIT)] = r_wilcoxon\n",
    "    ## Locally for sign test\n",
    "    res_sign_test[to_key(nPts,nsamples,N_CLUST,INIT)] = sign_test(dico[Lalgo[0]]-dico[Lalgo[1]])\n",
    "    ## Same variance check\n",
    "    res_variance[to_key(nPts,nsamples,N_CLUST,INIT)] = {algo:np.var(dico[algo]) for algo in dico}\n",
    "    \n",
    "    # Create graphs for difference\n",
    "    ## Box plot\n",
    "    dico_fig['box_diff'].add_trace(go.Box(y=dico[Lalgo[0]]-dico[Lalgo[1]],name=f\"{nPts} points, difference\",boxpoints=\"all\"))\n",
    "    best_in_avg = 'BICL' if np.mean(dico['FICL']-dico['BICL']) > 0 else 'FICL'\n",
    "    res_best[to_key(nPts,nsamples,N_CLUST,INIT)] = best_in_avg\n",
    "    ## Histogram\n",
    "    dico_fig['hist_diff'].add_trace(go.Histogram(x=dico[Lalgo[0]]-dico[Lalgo[1]],name=f\"{nPts} points, difference\"))\n",
    "    ### Overlay histograms\n",
    "    dico_fig['hist_diff'].update_layout(barmode='overlay')\n",
    "    dico_fig['hist_diff'].update_traces(opacity=0.75)\n",
    "    ## QQPlot\n",
    "    qqplot = pg.qqplot(dico[Lalgo[0]]-dico[Lalgo[1]], sparams=(0, 1))\n",
    "    names_mapping = {0:\"Data\",1:\"Trend of the data\",4:\"Bound interval 95%\",5:\"Bound interval 95%\"}\n",
    "    for i,l in enumerate(qqplot._children):\n",
    "        if i in [2,3]:\n",
    "            continue\n",
    "        dico_fig['qqplot'].add_trace(go.Scatter(\n",
    "            x=l._x,\n",
    "            y=l._y,\n",
    "            name=names_mapping[i],\n",
    "            mode=\"markers\" if i==0 else None, \n",
    "            marker=None if i != 0 else dict(size=5,line=dict(width=2))\n",
    "            )\n",
    "                              )\n",
    "    dico_fig['qqplot'].update_layout(xaxis_title='Theorical quantiles',yaxis_title='Samples quantiles')\n",
    "    diff = (dico[Lalgo[0]]-dico[Lalgo[1]])\n",
    "    median = np.median(diff)\n",
    "    sym_data = np.sort(diff)\n",
    "    m,M = np.min(sym_data),np.max(sym_data)\n",
    "    identity = np.linspace(m,M,1000)\n",
    "    dico_fig['symmetric plot'].add_trace(go.Scatter(x=sym_data[::-1]-median,y=median-sym_data,name='Data',mode='markers'))\n",
    "    dico_fig['symmetric plot'].add_trace(go.Scatter(x=identity,y=identity,name='Symetric plot',mode='lines'))\n",
    "    \n",
    "    \n",
    "    # Create webpages to show results\n",
    "    webpage = bs4.BeautifulSoup(\"\"\"<html><head><link rel=\"stylesheet\" href=\"style3.css\"></head><body></body></html>\"\"\")\n",
    "    webpage.html.body.append(bs4.BeautifulSoup(f\"<h2>{nPts} points limited to {len(dico['FICL'])}, {INIT} initializaion, {N_CLUST} clusters, {nsamples} samples</h2>\"))\n",
    "    webpage.html.body.append(bs4.BeautifulSoup(f\"<p>Best in average {best_in_avg}</p>\"))\n",
    "    webpage.html.body.append(bs4.BeautifulSoup(f\"<h3>Statistics</h3>\"))\n",
    "    table = bs4.BeautifulSoup(f\"<table></table>\")\n",
    "    table.table.append(bs4.BeautifulSoup(f\"<tr><th>Test/Values</th><th>PValue</th><th>Effect size</th></tr>\"))\n",
    "    table.table.append(bs4.BeautifulSoup(f\"<tr><th>TTest</th><td>{float(res_ttest[to_key(nPts,nsamples,N_CLUST,INIT)]['pvalue']):.5e}</td><td>{float(res_ttest[to_key(nPts,nsamples,N_CLUST,INIT)]['effect_size']):.5e}</td></tr>\"))\n",
    "    table.table.append(bs4.BeautifulSoup(f\"<tr><th>Wilcoxon</th><td>{float(res_wilcoxon[to_key(nPts,nsamples,N_CLUST,INIT)]['pvalue']):.5e}</td><td>{float(res_wilcoxon[to_key(nPts,nsamples,N_CLUST,INIT)]['effect_size']):.5e}</td></tr>\"))\n",
    "    table.table.append(bs4.BeautifulSoup(f\"<tr><th>Sign test</th><td>{float(res_sign_test[to_key(nPts,nsamples,N_CLUST,INIT)]['pvalue']):.5e}</td>{float(res_sign_test[to_key(nPts,nsamples,N_CLUST,INIT)]['effect_size']):.5e}<td></td></tr>\"))\n",
    "    webpage.html.body.append(table)\n",
    "    tvalue = res_ttest[to_key(nPts,nsamples,N_CLUST,INIT)]['tvalue']\n",
    "    mu = res_ttest[to_key(nPts,nsamples,N_CLUST,INIT)]['mean']\n",
    "    std = res_ttest[to_key(nPts,nsamples,N_CLUST,INIT)]['sigmaNorm']\n",
    "    webpage.html.body.append(bs4.BeautifulSoup(f'<p>t value:{tvalue},sigma_norm:{std}, mu:{mu}</p>'))\n",
    "    webpage.html.body.append(bs4.BeautifulSoup(f'<p>Wilcoxon:{\",\".join([k+\":\"+str(e) for k,e in res_wilcoxon[to_key(nPts,nsamples,N_CLUST,INIT)].items()])}</p>'))\n",
    "    webpage.html.body.append(bs4.BeautifulSoup(f'<p>Sign test:{\",\".join([k+\":\"+str(e) for k,e in res_sign_test[to_key(nPts,nsamples,N_CLUST,INIT)].items()])}</p>'))\n",
    "    table = bs4.BeautifulSoup(f\"<table><tr><th></th><th>FICL</th><th>BICL</th><th>FICL-BICL</th></tr></table>\")\n",
    "    stats = {}\n",
    "    for name,data in [('FICL',dico['FICL']),('BICL',dico['BICL']),('FICL-BICL',dico['FICL']-dico['BICL'])]:\n",
    "        stats[name] = pd.DataFrame(data,columns=['value']).describe().reset_index()\n",
    "    for name,values in zip(stats['FICL']['index'],zip(*[stats[algo]['value'] for algo in stats])):\n",
    "        table.table.append(bs4.BeautifulSoup(f\"<tr><th>{name}</th>{''.join([f'<td>{value}</td>' for value in values])}</tr>\"))\n",
    "    webpage.html.body.append(table)\n",
    "    webpage.html.body.append(bs4.BeautifulSoup(f\"<h3>Graphs</h3>\"))\n",
    "    for plot,text,id in [\n",
    "        [\"Box plot algorithms\",\"boxAlgo\"],\n",
    "        [\"Histograms of algorithms\",\"histoAlgos\"],\n",
    "        [\"Box plot of difference \"+Lalgo[0]+'-'+Lalgo[1],'boxDiff'],\n",
    "        [\"Histogram of difference \"+Lalgo[0]+'-'+Lalgo[1],\"histoDiff\"],\n",
    "        [\"QQPlot of \"+Lalgo[0]+'-'+Lalgo[1],\"qqplot\"],\n",
    "        [\"Symmetry plot of \"+Lalgo[0]+'-'+Lalgo[1],\"symmetryPlot\"]\n",
    "        ]:\n",
    "        dico_fig[id].update_layout(title=text)\n",
    "        webpage.html.body.append(bs4.BeautifulSoup(f\"<h2 id='{id}'>{text}</h2>\"))\n",
    "        webpage.html.body.append(bs4.BeautifulSoup(dico_fig[id].to_html(full_html=False, include_plotlyjs='cdn')))\n",
    "    div = bs4.BeautifulSoup(\"<div id='copyData'><button onclick='copyFI()'>Copy FI data</button><button onclick='copyBI()'>Copy BI data</button></div>\")\n",
    "    data = \",\".join([str(e) for e in dico['FICL']])\n",
    "    div.div.append(bs4.BeautifulSoup('<script>function copyFI(){navigator.clipboard.writeText(\"'+data+'\")}</script>'))\n",
    "    data = \",\".join([str(e) for e in dico['BICL']])\n",
    "    div.div.append(bs4.BeautifulSoup('<script>function copyBI(){navigator.clipboard.writeText(\"'+data+'\")}</script>'))\n",
    "    webpage.html.body.append(div)\n",
    "    \n",
    "    folder  = Path('FIBI/data/detailed_analysis/graphs/')\n",
    "    name = f\"{nPts}_points_init_{INIT}_{N_CLUST}_clusters_{nsamples}_samples.html\"\n",
    "    folder.mkdir(parents=True, exist_ok=True)\n",
    "    with open(str(folder / name),\"w\") as f:\n",
    "        f.write(str(webpage))\n",
    "driver.quit()"
   ]
  },
  {
   "cell_type": "markdown",
   "metadata": {},
   "source": [
    "### Compute global table pvalues"
   ]
  },
  {
   "cell_type": "code",
   "execution_count": 53,
   "metadata": {},
   "outputs": [],
   "source": [
    "# LnPts = df['NUM_POINTS'].unique()\n",
    "# LnPts.sort()\n",
    "# Lassign = ['RAND','IMPR']\n",
    "# Lalgo = ['BICL','FICL']\n",
    "# Lnclust = df['NUM_CLUST'].unique()\n",
    "# Lnsamples = [100,1000]\n",
    "LnPts = df['NUM_POINTS'].unique()\n",
    "LnPts.sort()\n",
    "Lassign = ['RAND','IMPR']\n",
    "Lalgo = ['BICL','FICL']\n",
    "Lnclust = df['NUM_CLUST'].unique()\n",
    "Lnclust.sort()\n",
    "Lnsamples = [1000]"
   ]
  },
  {
   "cell_type": "code",
   "execution_count": 55,
   "metadata": {},
   "outputs": [],
   "source": [
    "\n",
    "page = bs4.BeautifulSoup(\"\"\"<html><head><link rel=\"stylesheet\" href=\"style4.css\"></head><body></body></html>\"\"\")\n",
    "page.html.body.append(bs4.BeautifulSoup(\"<p>Null hypothesis: the two algorithms have identical average values (here ratio finalCost/initCost)</p>\"))\n",
    "page.html.body.append(bs4.BeautifulSoup(\"<p>P-Value < 0.05 => can reject the null hypothesis\"))\n",
    "dico_names_effect_size = {\n",
    "    \"TTest\":\"<a href='https://www.spss-tutorials.com/cohens-d/' target='_blank'>Cohen's d\",\n",
    "    \"Wilcoxon\":\"<a href='https://www.researchgate.net/publication/303919832_The_need_to_report_effect_size_estimates_revisited_An_overview_of_some_recommended_measures_of_effect_size' target='_blank'>Z-Score</a>\",\n",
    "    \"Sign test\":\"<a href='https://www.utstat.toronto.edu/~brunner/oldclass/378f16/readings/CohenPower.pdf'>Sign test</a>\"\n",
    "    }\n",
    "\n",
    "def cohens_d_color(x):\n",
    "    a=abs(x)\n",
    "    if a < 0.5:\n",
    "        return 'cohensSmall small'\n",
    "    elif 0.5 <= a < 0.8:\n",
    "        return 'cohensMedium medium'\n",
    "    else:\n",
    "        return 'cohensBig big'\n",
    "def ztest(x):\n",
    "    a=abs(x)\n",
    "    if a < 0.3:\n",
    "        return 'zSmall small'\n",
    "    elif 0.3 <= a < 0.5:\n",
    "        return 'zMedium medium'\n",
    "    else:\n",
    "        return 'zBig big'\n",
    "def sign_test_color(x):\n",
    "    a=abs(x)\n",
    "    if a < 0.15:\n",
    "        return 'signTestSmall small'\n",
    "    elif 0.15 <= a < 0.25:\n",
    "        return 'signTestMedium medium'\n",
    "    else:\n",
    "        return 'signTestBig big'\n",
    "    \n",
    "pvalue_color = lambda x:'pvalueSmall' if float(x)<5e-2 else 'pvalueBig'\n",
    "colors = {\n",
    "    'TTest':{'pvalue':pvalue_color,'effect_size':cohens_d_color},\n",
    "    'Wilcoxon':{'pvalue': pvalue_color, 'effect_size':ztest},\n",
    "    'Sign test':{'pvalue': pvalue_color, 'effect_size':sign_test_color}}\n",
    "for N_CLUST,nsamples in product(sorted(Lnclust),sorted(Lnsamples)):\n",
    "    title = bs4.BeautifulSoup(f\"\"\"<h2>{N_CLUST} clusters, {nsamples} samples</h2>\"\"\")\n",
    "    page.html.body.append(title)\n",
    "    div = bs4.BeautifulSoup('<div class=\"legend\"></div>')\n",
    "    size = 10\n",
    "    divpvalue = bs4.BeautifulSoup('<div>P-Value:</div>')\n",
    "    for id_var,text in [['small','<5e-2 = difference btw algos'],['big','>=5e-2 = no difference btw algos']]:\n",
    "        div1 = bs4.BeautifulSoup(f'<div><svg width=\"{size}px\" height=\"{size}px\"><rect fill=\"var(--{id_var})\" width=\"{size}px\" height=\"{size}px\"></rect></svg>{text}</div>')\n",
    "        divpvalue.div.append(div1)\n",
    "    div.div.append(divpvalue) \n",
    "    div.div.append(bs4.BeautifulSoup('<span></span>')) \n",
    "    diveffectsize = bs4.BeautifulSoup('<div class=\"legend\">Effect-size:</div>')\n",
    "    for id_var,text in [\n",
    "        ['small','small (cohen s d:0.2 ; z-test: 0.1 ; sign-test: 0.05)'],\n",
    "        ['medium','medium (cohen s d:0.5 ; z-test: 0.3 ; sign-test: 0.15)'],\n",
    "        ['big','big (cohen s d:0.8 ; z-test: 0.5 ; sign-test: 0.25)']\n",
    "        ]:\n",
    "        div1 = bs4.BeautifulSoup(f'<div><svg width=\"{size}px\" height=\"{size}px\"><rect fill=\"var(--{id_var})\" width=\"{size}px\" height=\"{size}px\"></rect></svg>{text}</div>')\n",
    "        diveffectsize.div.append(div1)\n",
    "        \n",
    "    div.div.append(diveffectsize) \n",
    "    page.html.body.append(div) \n",
    "    legend = bs4.BeautifulSoup(f\"\"\"<div><svg><rect fill></rect></svg></div>\"\"\")\n",
    "    page.html.body.append(title)\n",
    "    table = bs4.BeautifulSoup(f\"<table></table>\")\n",
    "    first_line = bs4.BeautifulSoup(f'<tr><th colspan=\"3\"></th><th colspan=\"{len(LnPts)}\">Number of points</th></tr>')\n",
    "    second_line = bs4.BeautifulSoup(f'<tr><th colspan=\"3\"></th>{\"\".join([f\"<th>{e}</th>\" for e in LnPts])}</tr>')\n",
    "    table.table.append(first_line)\n",
    "    table.table.append(second_line)\n",
    "    for init in Lassign:\n",
    "        init_done = False\n",
    "        for i,(testName,testDico) in enumerate([['TTest',res_ttest],['Sign test',res_sign_test]]):# ,['Wilcoxon',res_wilcoxon]\n",
    "            test_done = False\n",
    "            for j,stat in enumerate(['pvalue','effect_size']):\n",
    "                test_name_done = False\n",
    "                tr = bs4.BeautifulSoup(f'<tr></tr>')\n",
    "                if i == 0 and not init_done:\n",
    "                    tr.tr.append(bs4.BeautifulSoup(f'<th rowspan={4}><a href=\"./pvalue_evolution.html#{N_CLUST}_{init}\" target=\"_blank\">{init}</a></th>'))\n",
    "                    init_done = True\n",
    "                if j == 0 and not test_done:\n",
    "                    n = testName\n",
    "                    if i == 0:\n",
    "                        n += '<br>(online)'\n",
    "                    tr.tr.append(bs4.BeautifulSoup(f'<th rowspan={2}>{n}</th>'))\n",
    "                    test_done = True\n",
    "                name = 'P-Value' if stat == \"pvalue\" else dico_names_effect_size[testName]\n",
    "                tr.tr.append(bs4.BeautifulSoup(f'<th rowspan={1}>{name}</th>'))\n",
    "                for k,nPts in enumerate(sorted(LnPts)):\n",
    "                    if nPts<=N_CLUST:\n",
    "                        tr.tr.append(bs4.BeautifulSoup('<td></td>'))\n",
    "                    else:\n",
    "                        val = float(testDico[to_key(nPts,nsamples,N_CLUST,init)][stat])\n",
    "                        url = f\"{nPts}_points_init_{init}_{N_CLUST}_clusters_{nsamples}_samples.html\"\n",
    "                        tr.tr.append(bs4.BeautifulSoup(f'<td class=\"{colors[testName][stat](val)}\"><a href=\"{url}\" target=\"_blank\" >{val:.3e}</a></td>'))\n",
    "                table.table.append(tr)\n",
    "    \n",
    "    page.html.body.append(table)\n",
    "folder  = Path('FIBI/data/detailed_analysis/graphs/')\n",
    "name = f\"stats.html\"\n",
    "folder.mkdir(parents=True, exist_ok=True)\n",
    "with open(str(folder/name),'w') as f:\n",
    "    f.write(str(page.prettify()))\n",
    "    \n",
    "                        \n"
   ]
  },
  {
   "cell_type": "markdown",
   "metadata": {},
   "source": [
    "### Best algorithm"
   ]
  },
  {
   "cell_type": "code",
   "execution_count": null,
   "metadata": {},
   "outputs": [],
   "source": []
  },
  {
   "cell_type": "code",
   "execution_count": 41,
   "metadata": {},
   "outputs": [],
   "source": [
    "page = bs4.BeautifulSoup(\"\"\"<html><head><link rel=\"stylesheet\" href=\"style4.css\"></head><body></body></html>\"\"\")\n",
    "for init,nsamples in product(Lassign,Lnsamples):\n",
    "    page.html.body.append(bs4.BeautifulSoup(f\"<h2>{init},{nsamples} samples</h2>\"))\n",
    "    table = bs4.BeautifulSoup(f\"<table></table>\")\n",
    "    table.table.append(bs4.BeautifulSoup(f'<tr><th colspan=\"1\"></th><th colspan=\"{len(LnPts)}\">Number of points</th></tr>'))\n",
    "    table.table.append(bs4.BeautifulSoup(f'<tr><th colspan=\"1\"></th>{\"\".join([f\"<th>{e}</th>\" for e in LnPts])}</tr>'))\n",
    "    for i,(nclust) in enumerate(Lnclust):\n",
    "        tr = bs4.BeautifulSoup(f'<tr></tr>')\n",
    "        tr.tr.append(bs4.BeautifulSoup(f'<th rowspan=1>{nclust} clusters</th>'))\n",
    "        for n in LnPts:\n",
    "            if n<=nclust:\n",
    "                tr.tr.append(bs4.BeautifulSoup('<td></td>'))\n",
    "            else:\n",
    "                val = res_best[to_key(n,nsamples,nclust,init)]\n",
    "                url = f\"{n}_points_init_{init}_{nclust}_clusters_{nsamples}_samples.html\"\n",
    "                tr.tr.append(bs4.BeautifulSoup(f'<td class=\"{val}\"><a href=\"{url}\" target=\"_blank\" >{val}</a></td>'))\n",
    "        table.table.append(tr)\n",
    "    page.html.body.append(table)\n",
    "\n",
    "folder  = Path('FIBI/data/detailed_analysis/graphs/')\n",
    "name = f\"stats_best.html\"\n",
    "folder.mkdir(parents=True, exist_ok=True)\n",
    "with open(str(folder/name),'w') as f:\n",
    "    f.write(str(page.prettify()))\n",
    "    "
   ]
  },
  {
   "cell_type": "markdown",
   "metadata": {},
   "source": [
    "## Verification of normality"
   ]
  },
  {
   "cell_type": "code",
   "execution_count": 113,
   "metadata": {},
   "outputs": [],
   "source": [
    "import json\n",
    "# {'npts','nsamples','nclust', 'INIT'}\n",
    "order_of_keys = ['nclust', 'npts','INIT']\n",
    "keys = []\n",
    "for k in res_ttest:\n",
    "    d = key_to_dict(k) \n",
    "    if d['nsamples'] == str(1000):\n",
    "        keys.append({**{a:d[a] for a in order_of_keys},'tags':[]})\n",
    "        \n",
    "keys = sorted(keys,key=lambda k:(int(k['nclust']),k['INIT'],int(k['npts'])))\n",
    "tags = {\"gauss\":\"gaussian perfectly in interval\",\"gaussHeavy\":\"Gaussian with heavy tail(s)\",\"notGauss\":\"not gaussian, outside of confidence interval\"}\n",
    "folder  = Path('FIBI/data/detailed_analysis/graphs/')\n",
    "name = f\"init_check_orig.json\"\n",
    "folder.mkdir(parents=True, exist_ok=True)\n",
    "with open(str(folder/name),'w') as f:\n",
    "    json.dump({\"tags\":tags,\"init_check\":keys},f,indent=4)"
   ]
  },
  {
   "cell_type": "code",
   "execution_count": 42,
   "metadata": {},
   "outputs": [],
   "source": [
    "with open(str(folder/\"init_check.json\")) as f:\n",
    "    data = json.load(f)\n",
    "data_dico = {}\n",
    "for e in data['init_check']:\n",
    "    data_dico[to_key(e['npts'],\"1000\",e['nclust'],e['INIT'])] = e\n",
    "map_distrib = {\"g\":['gaussian distribution','var(--gaussian)','gaussian'],\"gh\":['gaussian distribution with heavy tail(s)','var(--gaussianHeavy)','gaussian<br>with heavy<br>tail'],\"ng\":['not a gaussian distribution','var(--notGaussian)','not<br>gaussian']}\n",
    "page = bs4.BeautifulSoup(\"\"\"<html><head><link rel=\"stylesheet\" href=\"style4.css\"></head><body></body></html>\"\"\")\n",
    "for init,nsamples in product(Lassign,Lnsamples):\n",
    "    page.html.body.append(bs4.BeautifulSoup(f\"<h2>{init},{nsamples} samples</h2>\"))\n",
    "    legend = [f\"<svg width='{20}px' height='{20}px' ><rect width='{20}px' height='{20}px' fill='{e[1]}'></rect></svg>{e[0]}\" for e in map_distrib.values()]\n",
    "    page.html.body.append(bs4.BeautifulSoup(f\"<div class='legend'><div>{''.join(legend)}</div></div>\"))\n",
    "    table = bs4.BeautifulSoup(f\"<table></table>\")\n",
    "    table.table.append(bs4.BeautifulSoup(f'<tr><th colspan=\"1\"></th><th colspan=\"{len(LnPts)}\">Number of points</th></tr>'))\n",
    "    table.table.append(bs4.BeautifulSoup(f'<tr><th colspan=\"1\"></th>{\"\".join([f\"<th>{e}</th>\" for e in LnPts])}</tr>'))\n",
    "    for i,(nclust) in enumerate(Lnclust):\n",
    "        tr = bs4.BeautifulSoup(f'<tr></tr>')\n",
    "        tr.tr.append(bs4.BeautifulSoup(f'<th rowspan=1>{nclust} clusters</th>'))\n",
    "        for n in LnPts:\n",
    "            if n<=nclust:\n",
    "                tr.tr.append(bs4.BeautifulSoup('<td></td>'))\n",
    "            else:\n",
    "                val = data_dico[to_key(n,\"1000\",nclust,init)]\n",
    "                if len(val) == 0:\n",
    "                    raise Exception\n",
    "                val = val['tags'][0]\n",
    "                url = f\"{n}_points_init_{init}_{nclust}_clusters_{nsamples}_samples.html#qqplot\"\n",
    "                tr.tr.append(bs4.BeautifulSoup(f'<td class=\"{val}\"><a href=\"{url}\" target=\"_blank\" >{val}</a></td>'))\n",
    "        table.table.append(tr)\n",
    "    page.html.body.append(table)\n",
    "\n",
    "folder  = Path('FIBI/data/detailed_analysis/graphs/')\n",
    "name = f\"stats_init_check.html\"\n",
    "folder.mkdir(parents=True, exist_ok=True)\n",
    "with open(str(folder/name),'w') as f:\n",
    "    f.write(str(page.prettify()))"
   ]
  },
  {
   "cell_type": "markdown",
   "metadata": {},
   "source": [
    "## Consice view"
   ]
  },
  {
   "cell_type": "code",
   "execution_count": 58,
   "metadata": {},
   "outputs": [],
   "source": [
    "\n",
    "page = bs4.BeautifulSoup(\"\"\"<html><head><link rel=\"stylesheet\" href=\"style4.css\"></head><body></body></html>\"\"\")\n",
    "colors_pvalue = [[\"Significant difference\",\"var(--small)\"],[\"Non significant difference\",\"var(--big)\"]]\n",
    "colors_effect_size = [[\"Small\",\"var(--small)\"],[\"Medium\",\"var(--medium)\"],[\"Big\",\"var(--big)\"]]\n",
    "for init,nsamples,[stat,colors_map] in product(Lassign,Lnsamples,[['pvalue',colors_pvalue],['effect_size',colors_effect_size]]):\n",
    "    page.html.body.append(bs4.BeautifulSoup(f\"<h2>{init},{nsamples} samples, {stat}</h2>\"))\n",
    "    legend = [f\"<svg width='{20}px' height='{20}px' ><rect width='{20}px' height='{20}px' fill='{e[1]}'></rect></svg>{e[0]}\" for e in colors_map]\n",
    "    page.html.body.append(bs4.BeautifulSoup(f\"<div class='legend'><div>{''.join(legend)}</div></div>\"))\n",
    "    table = bs4.BeautifulSoup(f\"<table></table>\")\n",
    "    table.table.append(bs4.BeautifulSoup(f'<tr><th colspan=\"1\"></th><th colspan=\"{len(LnPts)}\">Number of points</th></tr>'))\n",
    "    table.table.append(bs4.BeautifulSoup(f'<tr><th colspan=\"1\"></th>{\"\".join([f\"<th>{e}</th>\" for e in LnPts])}</tr>'))\n",
    "    for i,(nclust) in enumerate(Lnclust):\n",
    "        tr = bs4.BeautifulSoup(f'<tr></tr>')\n",
    "        tr.tr.append(bs4.BeautifulSoup(f'<th rowspan=1>{nclust} clusters</th>'))\n",
    "        for n in LnPts:\n",
    "            if n<=nclust:\n",
    "                tr.tr.append(bs4.BeautifulSoup('<td></td>'))\n",
    "            else:\n",
    "                val = res_best[to_key(n,nsamples,nclust,init)]\n",
    "                pvalue = None\n",
    "                distrib = data_dico[to_key(n,\"1000\",nclust,init)]\n",
    "                if len(val) == 0:\n",
    "                    raise Exception\n",
    "                distrib = distrib['tags'][0]\n",
    "                if distrib in ['g','gh']:\n",
    "                    test = \"TTest\"\n",
    "                    pvalue = float(res_ttest[to_key(n,nsamples,nclust,init)][stat])\n",
    "                else:\n",
    "                    test = \"Sign test\"\n",
    "                    pvalue = float(res_sign_test[to_key(n,nsamples,nclust,init)][stat])\n",
    "                class_ = colors[test][stat](pvalue)\n",
    "                url = f\"{n}_points_init_{init}_{nclust}_clusters_{nsamples}_samples.html\"\n",
    "                tr.tr.append(bs4.BeautifulSoup(f'<td class=\"{class_}\"><a href=\"{url}\" target=\"_blank\" title=\"{test}\">{val}</a></td>'))\n",
    "        table.table.append(tr)\n",
    "    page.html.body.append(table)\n",
    "\n",
    "folder  = Path('FIBI/data/detailed_analysis/graphs/')\n",
    "name = f\"stats_concise.html\"\n",
    "folder.mkdir(parents=True, exist_ok=True)\n",
    "with open(str(folder/name),'w') as f:\n",
    "    f.write(str(page.prettify()))\n",
    "    "
   ]
  },
  {
   "cell_type": "code",
   "execution_count": null,
   "metadata": {},
   "outputs": [],
   "source": [
    "\n",
    "    "
   ]
  },
  {
   "cell_type": "markdown",
   "metadata": {},
   "source": [
    "### Count number of cases pvalues, effect size"
   ]
  },
  {
   "cell_type": "code",
   "execution_count": 180,
   "metadata": {},
   "outputs": [],
   "source": [
    "key_to_dict_format = lambda x: {\n",
    "    'npts':int(x.split('_')[0]),\n",
    "    'nsamples':int(x.split('_')[1]),\n",
    "    'nclust':int(x.split('_')[2]), \n",
    "    'INIT':(x.split('_')[3])\n",
    "    }\n",
    "small_cohen = lambda x:abs(0.2-abs(x))<abs(0.5-abs(x))\n",
    "small_zscore = lambda x:abs(0.1-abs(x))<abs(0.3-abs(x))\n",
    "dico_check = {\"wilcoxon\":small_zscore,\"ttest\":small_cohen}\n",
    "def cases(row,test='wilcoxon'):\n",
    "    if row[test+'_pvalue'] >= 0.05 and dico_check[test](row[test+'_effect_size']):\n",
    "        return 'small_diff_non_sign'\n",
    "    elif row[test+'_pvalue'] < 0.05 and dico_check[test](row[test+'_effect_size']):\n",
    "        return 'small_diff_sign'\n",
    "    elif row[test+'_pvalue'] < 0.05 and not dico_check[test](row[test+'_effect_size']):\n",
    "        return 'med_big_diff_sign'\n",
    "    else:\n",
    "        return 'med_big_diff_non_sign'\n",
    "Lcases = ['small_diff_non_sign','small_diff_sign','med_big_diff_sign','med_big_diff_non_sign']\n",
    "# Assign cases\n",
    "Ldict = []\n",
    "for k in res_ttest:\n",
    "    wilcoxon = res_wilcoxon[k]\n",
    "    ttest = res_ttest[k]\n",
    "    ttest = {k:float(v) for k,v in ttest.items()}\n",
    "    infos = {**key_to_dict_format(k),**{\"wilcoxon_\"+k:v for k,v in wilcoxon.items()},**{\"ttest_\"+k:v for k,v in ttest.items()}}\n",
    "    infos['wilcoxon_case'] = cases(infos,test=\"wilcoxon\")\n",
    "    infos['ttest_case'] = cases(infos,test=\"ttest\")\n",
    "    if infos['npts'] < 200 or (infos['npts'] >= 200 and infos['nsamples'] <= 100):\n",
    "        Ldict.append(infos)\n",
    "df_stats = pd.DataFrame(Ldict)\n",
    "df_stats.sort_values(by=['nclust','nsamples','INIT','npts'],inplace=True)\n",
    "# Count number of cases per (nclust,nsamples)\n",
    "L_stats_counts = [] \n",
    "for clust,samples in product(df_stats['nclust'].unique(),df_stats['nsamples'].unique()):\n",
    "    dico_val = {'nclust':clust,'nsamples':samples}\n",
    "    df_tmp1 = df_stats.query(f\"nclust == {clust} & nsamples == {samples}\")\n",
    "    for test in ['wilcoxon','ttest']:\n",
    "        L_stats2 = df_tmp1[test+'_case'].value_counts().reset_index().sort_values(by=[test+'_case'],ascending=False).to_dict(orient='records')\n",
    "        stats_val = {e['index']:(e[test+'_case'],e[test+'_case']/sum(a[test+'_case'] for a in L_stats2)) for e in L_stats2}\n",
    "        for v in Lcases:\n",
    "            dico_cols={'case':v,'test':test,'nclust':clust,'nsamples':samples}\n",
    "            if v in stats_val:\n",
    "                dico_cols['count'] = stats_val[v][0]\n",
    "                dico_cols['prct'] = stats_val[v][1]*100\n",
    "            else:\n",
    "                dico_cols['count'] = 0\n",
    "                dico_cols['prct'] = 0\n",
    "            L_stats_counts.append(dico_cols)\n",
    "df_stats_counts = pd.DataFrame(L_stats_counts)\n",
    "# Plot per (nclust,nsamples)\n",
    "page = bs4.BeautifulSoup(\"\"\"<html><head><link rel=\"stylesheet\" href=\"style5.css\"></head><body></body></html>\"\"\")\n",
    "page.html.body.append(bs4.BeautifulSoup('<h1>Explanations</h1>'))\n",
    "page.html.body.append(bs4.BeautifulSoup('<p>For each table of <a href=\"./stats.html\">stats.html</a>, we split 3 cases:</p>'))\n",
    "ol=bs4.BeautifulSoup('<ol></ol>')\n",
    "ol.ol.append(bs4.BeautifulSoup('<li>pvalue >= 0.05, small effect_size: small non significant difference</li>'))\n",
    "ol.ol.append(bs4.BeautifulSoup('<li>pvalue < 0.05, small effect_size: small significant difference</li>'))\n",
    "ol.ol.append(bs4.BeautifulSoup('<li>pvalue < 0.05, medium-big effect_size: medium-big significant difference</li>'))\n",
    "page.html.body.append(ol)\n",
    "page.html.body.append(bs4.BeautifulSoup('<p>Each bar represent one table, and each rectangle inside each bar represent the percentage of cells in the corresponding <a href=\"./stats.html\">stats.html</a> table that falls into one of three cases specified above (color-code associated)</p>'))\n",
    "page.html.body.append(bs4.BeautifulSoup('<h1>Graphs</h1>'))\n",
    "\n",
    "for i,(samples,test) in enumerate(product(df_stats_counts['nsamples'].unique(),df_stats_counts['test'].unique())):\n",
    "    df_tmp1 = df_stats_counts.query(f\"nsamples == {samples} & test == '{test}'\")\n",
    "    df_tmp1 = df_tmp1.rename(columns={'nclust':'Number of clusters','prct':'Proportion of cells (%)','case':'Case'})\n",
    "    if i % 2 == 0:\n",
    "        page.html.body.append(bs4.BeautifulSoup(f'<h2>{samples} samples</h2>'))\n",
    "    html = px.bar(df_tmp1,x=\"Number of clusters\",y=\"Proportion of cells (%)\",color='Case',title=f\"For {samples} samples, test {test}\",height=500).to_html(full_html=False, include_plotlyjs='cdn')\n",
    "    page.html.body.append(bs4.BeautifulSoup(html))\n",
    "folder  = Path('FIBI/data/detailed_analysis/graphs/')\n",
    "name = f\"stats_counts.html\"\n",
    "folder.mkdir(parents=True, exist_ok=True)\n",
    "with open(str(folder/name),'w') as f:\n",
    "    f.write(str(page.prettify())) "
   ]
  },
  {
   "cell_type": "markdown",
   "metadata": {},
   "source": [
    "### pvalues variations depending of number of points"
   ]
  },
  {
   "cell_type": "code",
   "execution_count": 266,
   "metadata": {},
   "outputs": [],
   "source": [
    "df_pvalues = []\n",
    "df_ttest = []\n",
    "for k in res_ttest:\n",
    "    dico = key_to_dict(k)\n",
    "    df_pvalues.append({**dico,'pvalue':res_ttest[k]['pvalue'],'effect_size':res_ttest[k]['effect_size'],'test':'ttest'})\n",
    "    df_pvalues.append({**dico,'pvalue':res_wilcoxon[k]['pvalue'],'effect_size':res_wilcoxon[k]['effect_size'],'test':'wilcoxon'})\n",
    "    df_ttest.append({**dico,**res_ttest[k]})\n",
    "df_pvalues = pd.DataFrame(df_pvalues)\n",
    "df_ttest = pd.DataFrame(df_ttest)\n",
    "# df_pvalues.loc[:,'name'] = df_pvalues.loc[:,'nclust'].astype(str)+' clusters,'+df_pvalues.loc[:,'nsamples'].astype(str)+' samples,'+df_pvalues.loc[:,'INIT'].astype(str)+' init'\n",
    "page = bs4.BeautifulSoup(\"\"\"<html><head><link rel=\"stylesheet\" href=\"style4.css\"></head><body></body></html>\"\"\")\n",
    "df_pvalues.loc[:,\"pvalue\"] = df_pvalues.loc[:,\"pvalue\"].astype(float)\n",
    "df_pvalues.loc[:,\"effect_size\"] = df_pvalues.loc[:,\"effect_size\"].astype(float)\n",
    "for nclust,init in product(df_pvalues['nclust'].unique(),df_pvalues['INIT'].unique()):\n",
    "    df_visu = df_pvalues.query(f\"nclust == '{nclust}' & INIT == '{init}'\").copy()\n",
    "    df_visu.loc[:,'name'] = df_visu.loc[:,'nsamples'].astype(str)+' samples, '+df_visu.loc[:,'test'].astype(str)\n",
    "    page.html.body.append(bs4.BeautifulSoup(f\"<h2 id='{nclust}_{init}'>Evolution of pvalue for {nclust} clusters, {init} init</h2>\"))\n",
    "    fig = px.line(df_visu,x=\"npts\",y=\"pvalue\",color='name',log_y=False,height=500).to_html(full_html=False, include_plotlyjs='cdn')\n",
    "    page.html.body.append(bs4.BeautifulSoup(fig))\n",
    "    df_visu2 = df_ttest.query(f\"nclust == '{nclust}' & INIT == '{init}'\").copy()\n",
    "    df_visu2.loc[:,'name'] = df_visu2.loc[:,'nsamples'].astype(str)+' samples'\n",
    "    fig = go.Figure()\n",
    "    fig.update_layout(height=500,title=\"TTest evolution of mean and normalized standard deviation\")\n",
    "    for name in df_visu2['name'].unique():\n",
    "        df_visu3 = df_visu2.query(f\"name == '{name}'\")\n",
    "        fig.add_trace(go.Scatter(x=df_visu3['npts'],y=df_visu3['sigmaNorm'],mode='lines+markers',name='Sigma norm '+name))\n",
    "        fig.add_trace(go.Scatter(x=df_visu3['npts'],y=df_visu3['mean'],mode='lines+markers',name='Mean '+name))\n",
    "    fig = fig.to_html(full_html=False, include_plotlyjs='cdn')\n",
    "    page.html.body.append(bs4.BeautifulSoup(fig))\n",
    "folder  = Path('FIBI/data/detailed_analysis/graphs/')\n",
    "name = f\"pvalue_evolution.html\"\n",
    "folder.mkdir(parents=True, exist_ok=True)\n",
    "with open(str(folder/name),'w') as f:\n",
    "    f.write(str(page.prettify())) "
   ]
  },
  {
   "cell_type": "code",
   "execution_count": null,
   "metadata": {},
   "outputs": [],
   "source": []
  }
 ],
 "metadata": {
  "kernelspec": {
   "display_name": "Python 3.8.13 (conda)",
   "language": "python",
   "name": "python3"
  },
  "language_info": {
   "codemirror_mode": {
    "name": "ipython",
    "version": 3
   },
   "file_extension": ".py",
   "mimetype": "text/x-python",
   "name": "python",
   "nbconvert_exporter": "python",
   "pygments_lexer": "ipython3",
   "version": "3.8.13"
  },
  "orig_nbformat": 4,
  "vscode": {
   "interpreter": {
    "hash": "d5f08909c6c4f455767f10678bf0274b3f37153d8d0dd90006f05cfe8f3ecbfc"
   }
  }
 },
 "nbformat": 4,
 "nbformat_minor": 2
}
